{
 "cells": [
  {
   "cell_type": "markdown",
   "metadata": {},
   "source": [
    "# Searching\n",
    "Try running it in a live notebook for animation!\n",
    "\n",
    "* peakSearch\n",
    "* bracketSearch\n",
    "* binarySearch"
   ]
  },
  {
   "cell_type": "code",
   "execution_count": 1,
   "metadata": {},
   "outputs": [],
   "source": [
    "# Reload modules every time code is called. Set autoreload 0 to disable\n",
    "%load_ext autoreload\n",
    "%autoreload 2\n",
    "\n",
    "import matplotlib.pyplot as plt\n",
    "import numpy as np\n",
    "np.random.seed(0)\n",
    "\n",
    "from lightlab.util.search import peakSearch, binarySearch, SearchRangeError"
   ]
  },
  {
   "cell_type": "code",
   "execution_count": 2,
   "metadata": {},
   "outputs": [],
   "source": [
    "livePlots = False"
   ]
  },
  {
   "cell_type": "markdown",
   "metadata": {},
   "source": [
    "## You want to find a peak? Sweeping is not good enough"
   ]
  },
  {
   "cell_type": "code",
   "execution_count": 3,
   "metadata": {},
   "outputs": [
    {
     "data": {
      "text/plain": [
       "Text(0.5,1,'Poor, low-res sampling of underlying peak')"
      ]
     },
     "execution_count": 3,
     "metadata": {},
     "output_type": "execute_result"
    },
    {
     "data": {
      "image/png": "[encoded data removed]",
      "text/plain": [
       "<Figure size 432x288 with 1 Axes>"
      ]
     },
     "metadata": {},
     "output_type": "display_data"
    }
   ],
   "source": [
    "center = .82\n",
    "amp = .7\n",
    "fwhm = .2\n",
    "\n",
    "defaultNoise = amp * 5e-3\n",
    "noise = defaultNoise\n",
    "\n",
    "assertionTolerance = .2\n",
    "\n",
    "def myPeakedFun(x):\n",
    "    y = amp / (1 + (2 * (x - center) / fwhm) ** 2) + noise * np.random.randn()\n",
    "    return y\n",
    "xq = np.linspace(0,3, 10)\n",
    "plt.plot(xq, myPeakedFun(xq))\n",
    "plt.title('Poor, low-res sampling of underlying peak')\n"
   ]
  },
  {
   "cell_type": "markdown",
   "metadata": {},
   "source": [
    "## Peak search\n",
    "This demonstrates noise tolerance when `nSwarm` is greater than 3"
   ]
  },
  {
   "cell_type": "code",
   "execution_count": 4,
   "metadata": {},
   "outputs": [],
   "source": [
    "for noi, nSwarm in zip([defaultNoise, 5e-2], [3, 7]):\n",
    "    noise = noi\n",
    "    xPeak, yPeak = peakSearch(evalPointFun=myPeakedFun, startBounds=[0,3],\n",
    "                              nSwarm=nSwarm, xTol=assertionTolerance/4, livePlot=livePlots)\n",
    "    assert abs(xPeak - center) < assertionTolerance\n",
    "    assert abs(yPeak - amp) < assertionTolerance\n",
    "noise = defaultNoise"
   ]
  },
  {
   "cell_type": "markdown",
   "metadata": {},
   "source": [
    "## Interactive peak descent through binary search"
   ]
  },
  {
   "cell_type": "code",
   "execution_count": 5,
   "metadata": {},
   "outputs": [],
   "source": [
    "binSearchOpts = dict(evalPointFun=myPeakedFun, xTol=.005, livePlot=livePlots)"
   ]
  },
  {
   "cell_type": "markdown",
   "metadata": {},
   "source": [
    "### This is easy, well bounded"
   ]
  },
  {
   "cell_type": "code",
   "execution_count": 6,
   "metadata": {},
   "outputs": [],
   "source": [
    "rightBounds = [xPeak, 3]\n",
    "leftBounds = [0, xPeak]\n",
    "hwhmKwargs = dict(targetY=0.5*yPeak, **binSearchOpts)\n",
    "xRightHalf = binarySearch(startBounds=rightBounds, **hwhmKwargs)\n",
    "xLeftHalf = binarySearch(startBounds=leftBounds, **hwhmKwargs)\n",
    "assert abs(xLeftHalf - (center - fwhm/2)) < assertionTolerance\n",
    "assert abs(xRightHalf - (center + fwhm/2)) < assertionTolerance"
   ]
  },
  {
   "cell_type": "markdown",
   "metadata": {},
   "source": [
    "### Non-monotonic but still well defined\n",
    "There is only one value in the domain that satisfies. It starts off bracketed\n",
    "\n",
    "No test for when there is a peak in the middle and it starts *not* bracketed, \n",
    "i.e. if rightStart fwhm was 0.75\n",
    "\n",
    "To handle this, bracketSearch would have to report that it bracketed on both sides"
   ]
  },
  {
   "cell_type": "code",
   "execution_count": 7,
   "metadata": {},
   "outputs": [],
   "source": [
    "rightStart = center + fwhm*.4\n",
    "for leftStart in [0, center - fwhm, center - 0.6 * fwhm]:\n",
    "    xLeftHalf = binarySearch(startBounds=[leftStart, rightStart], **hwhmKwargs)\n",
    "    assert abs(xLeftHalf - (center - fwhm/2)) < assertionTolerance"
   ]
  },
  {
   "cell_type": "markdown",
   "metadata": {},
   "source": [
    "### Bad bound conditioning saved by `bracketSearch`"
   ]
  },
  {
   "cell_type": "code",
   "execution_count": 8,
   "metadata": {},
   "outputs": [],
   "source": [
    "noise = defaultNoise / 10 # turn down noise a little bit\n",
    "\n",
    "# Bad domain that totally misses peak\n",
    "xLeftHalf = binarySearch(startBounds=[0, xPeak/2], **hwhmKwargs)\n",
    "assert abs(xLeftHalf - (center - fwhm/2)) < assertionTolerance\n",
    "\n",
    "# Target very close to peak\n",
    "for trialAgainstNoise in range(5):\n",
    "    try:\n",
    "        xRightOnPeak = binarySearch(startBounds=[0, xPeak/4], targetY=0.99*amp, **binSearchOpts)\n",
    "        break\n",
    "    except RangeError as err:\n",
    "        if 'probably noise' in err.args[0]:\n",
    "            continue\n",
    "        else:\n",
    "            raise err\n",
    "else:\n",
    "    raise Exception('We tried multiple times but noise killed this one')\n",
    "assert abs(xRightOnPeak - center) < assertionTolerance\n",
    "\n",
    "noise = defaultNoise\n"
   ]
  },
  {
   "cell_type": "markdown",
   "metadata": {},
   "source": [
    "### Graceful failures"
   ]
  },
  {
   "cell_type": "code",
   "execution_count": 9,
   "metadata": {},
   "outputs": [],
   "source": [
    "# Targeting something too high, with peak within startBounds\n",
    "goodAsItGets = binarySearch(startBounds=[0, center + .5 * fwhm], targetY=2, **binSearchOpts)\n",
    "assert abs(goodAsItGets - center) < assertionTolerance\n",
    "\n",
    "# Peak starts outside of startBounds\n",
    "goodAsItGets = binarySearch(startBounds=[center + .5 * fwhm, 3], targetY=2, **binSearchOpts)\n",
    "assert abs(goodAsItGets - center) < assertionTolerance"
   ]
  },
  {
   "cell_type": "markdown",
   "metadata": {},
   "source": [
    "### These should generate errors"
   ]
  },
  {
   "cell_type": "code",
   "execution_count": 10,
   "metadata": {},
   "outputs": [],
   "source": [
    "# Targeting outside of hard constrain domain\n",
    "try:\n",
    "    binarySearch(startBounds=[xPeak, xPeak+.1], targetY=0, hardConstrain=True, **binSearchOpts)\n",
    "    assert False\n",
    "except SearchRangeError as err:\n",
    "    assert err.args[1] == 'low'"
   ]
  },
  {
   "cell_type": "code",
   "execution_count": null,
   "metadata": {},
   "outputs": [],
   "source": []
  }
 ],
 "metadata": {
  "kernelspec": {
   "display_name": "Python 3",
   "language": "python",
   "name": "python3"
  },
  "language_info": {
   "codemirror_mode": {
    "name": "ipython",
    "version": 3
   },
   "file_extension": ".py",
   "mimetype": "text/x-python",
   "name": "python",
   "nbconvert_exporter": "python",
   "pygments_lexer": "ipython3",
   "version": "3.6.4"
  }
 },
 "nbformat": 4,
 "nbformat_minor": 2
}
