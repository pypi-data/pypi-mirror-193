{
 "cells": [
  {
   "cell_type": "markdown",
   "metadata": {},
   "source": [
    "# Getting started"
   ]
  },
  {
   "cell_type": "markdown",
   "metadata": {},
   "source": [
    "### Experimental setup\n",
    "<img src=\"ledHookup.png\" alt=\"LED\" style=\"width: 300px;\"/>"
   ]
  },
  {
   "cell_type": "code",
   "execution_count": null,
   "metadata": {},
   "outputs": [],
   "source": [
    "import numpy as np\n",
    "from lightlab.equipment.lab_instruments import Keithley_2400_SM\n",
    "from lightlab.util.sweep import NdSweeper"
   ]
  },
  {
   "cell_type": "markdown",
   "metadata": {},
   "source": [
    "### Initialize an instrument"
   ]
  },
  {
   "cell_type": "code",
   "execution_count": null,
   "metadata": {},
   "outputs": [],
   "source": [
    "keithley = Keithley_2400_SM(name='A source meter', address='GPIB0::16::INSTR')"
   ]
  },
  {
   "cell_type": "markdown",
   "metadata": {},
   "source": [
    "### Define a sweep"
   ]
  },
  {
   "cell_type": "code",
   "execution_count": null,
   "metadata": {},
   "outputs": [],
   "source": [
    "swp = NdSweeper()\n",
    "swp.addActuation('voltage', keithley.setVoltage, np.linspace(0, 1, 20))\n",
    "swp.addMeasurement('current', keithley.measCurrent)"
   ]
  },
  {
   "cell_type": "markdown",
   "metadata": {},
   "source": [
    "### Run the sweep"
   ]
  },
  {
   "cell_type": "code",
   "execution_count": null,
   "metadata": {},
   "outputs": [],
   "source": [
    "swp.gather()\n",
    "swp.plot()\n",
    "swp.saveObj('new-iv-sweep')"
   ]
  },
  {
   "cell_type": "markdown",
   "metadata": {},
   "source": [
    "## More advanced\n",
    "- user-defined procedures\n",
    "- interactive search over functions"
   ]
  },
  {
   "cell_type": "code",
   "execution_count": null,
   "metadata": {},
   "outputs": [],
   "source": [
    "from lightlab.util.search import peakSearch\n",
    "\n",
    "def dither(centerVolt):\n",
    "    swp.actuate['voltage'].domain = centerVolt + np.linspace(-.2, .2, 3)\n",
    "    swp.gather()\n",
    "    second_derivative = np.diff(swp.data['current'], n=2)\n",
    "    return second_derivative\n",
    "\n",
    "foundThresh, _ = peakSearch(dither, [-1, 3])\n",
    "print(f'Diode threshold is {foundThresh} Volts')"
   ]
  }
 ],
 "metadata": {
  "kernelspec": {
   "display_name": "Python 3",
   "language": "python",
   "name": "python3"
  },
  "language_info": {
   "codemirror_mode": {
    "name": "ipython",
    "version": 3
   },
   "file_extension": ".py",
   "mimetype": "text/x-python",
   "name": "python",
   "nbconvert_exporter": "python",
   "pygments_lexer": "ipython3",
   "version": "3.6.4"
  }
 },
 "nbformat": 4,
 "nbformat_minor": 2
}
