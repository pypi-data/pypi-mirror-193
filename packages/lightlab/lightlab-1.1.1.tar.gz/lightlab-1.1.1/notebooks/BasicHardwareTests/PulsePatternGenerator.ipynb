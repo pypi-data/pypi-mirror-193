{
 "cells": [
  {
   "cell_type": "markdown",
   "metadata": {},
   "source": [
    "# Instrument: `PulsePatternGenerator`"
   ]
  },
  {
   "cell_type": "code",
   "execution_count": 1,
   "metadata": {},
   "outputs": [
    {
     "name": "stdout",
     "output_type": "stream",
     "text": [
      "It is alive\n",
      "ANRITSU,MP1761A,0,0001\n",
      "Here is what to test:\n",
      "startup\n",
      "setPrbs\n",
      "setPattern\n",
      "getPattern\n",
      "on\n",
      "syncSource\n",
      "amplAndOffs\n"
     ]
    }
   ],
   "source": [
    "%load_ext autoreload\n",
    "%autoreload 2\n",
    "import time\n",
    "from start import start\n",
    "\n",
    "ppg = start('Anritsu MP1763B Pulse Pattern Generator')"
   ]
  },
  {
   "cell_type": "code",
   "execution_count": 2,
   "metadata": {},
   "outputs": [
    {
     "data": {
      "text/plain": [
       "(2.0, 0.0)"
      ]
     },
     "execution_count": 2,
     "metadata": {},
     "output_type": "execute_result"
    }
   ],
   "source": [
    "ppg.on(True)\n",
    "\n",
    "# origSrc = ppg.syncSource()\n",
    "# print('Sync source is', origSrc)\n",
    "# ppg.syncSource('clock64')\n",
    "# ppg.syncSource(origSrc)\n",
    "\n",
    "ppg.amplAndOffs()"
   ]
  },
  {
   "cell_type": "code",
   "execution_count": 4,
   "metadata": {},
   "outputs": [
    {
     "name": "stdout",
     "output_type": "stream",
     "text": [
      "Pattern was [1 1 1 0 1 0 0 0 0 1 0 0 1 0 1 1]\n",
      "flipping\n",
      "flipping\n",
      "flipping\n",
      "flipping\n"
     ]
    }
   ],
   "source": [
    "# Mess with the pattern here, watch the lights in lab alternate\n",
    "ppg.setPrbs(16)\n",
    "print('Pattern was', ppg.getPattern())\n",
    "for _ in range(4):\n",
    "    print('flipping')\n",
    "    ppg.setPattern(1 - ppg.getPattern())\n",
    "    time.sleep(1)"
   ]
  },
  {
   "cell_type": "code",
   "execution_count": 5,
   "metadata": {},
   "outputs": [],
   "source": [
    "# How to set an alternating pattern to effectively divide the clock rate\n",
    "patt = [0] * 100\n",
    "for i in range(len(patt)//2):\n",
    "    patt[i] = 1\n",
    "ppg.setPattern(patt)"
   ]
  },
  {
   "cell_type": "code",
   "execution_count": 3,
   "metadata": {},
   "outputs": [],
   "source": [
    "# How to set a pulse\n",
    "# This is good for determining the delay between channels. I used to have a class to do that automatically\n",
    "patt = [0] * 100\n",
    "patt[0] = 1\n",
    "ppg.setPattern(patt)"
   ]
  },
  {
   "cell_type": "code",
   "execution_count": null,
   "metadata": {},
   "outputs": [],
   "source": []
  }
 ],
 "metadata": {
  "kernelspec": {
   "display_name": "Python 3",
   "language": "python",
   "name": "python3"
  },
  "language_info": {
   "codemirror_mode": {
    "name": "ipython",
    "version": 3
   },
   "file_extension": ".py",
   "mimetype": "text/x-python",
   "name": "python",
   "nbconvert_exporter": "python",
   "pygments_lexer": "ipython3",
   "version": "3.6.4"
  }
 },
 "nbformat": 4,
 "nbformat_minor": 2
}
