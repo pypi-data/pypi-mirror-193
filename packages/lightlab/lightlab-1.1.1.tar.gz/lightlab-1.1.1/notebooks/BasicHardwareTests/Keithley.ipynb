{
 "cells": [
  {
   "cell_type": "markdown",
   "metadata": {},
   "source": [
    "# Instrument: `Keithley` and `SourceMeter`"
   ]
  },
  {
   "cell_type": "code",
   "execution_count": 1,
   "metadata": {},
   "outputs": [
    {
     "name": "stdout",
     "output_type": "stream",
     "text": [
      "It is alive\n",
      "KEITHLEY INSTRUMENTS INC.,MODEL 2400,4087737,C32   Oct  4 2010 14:20:11/A02  /U/K\n",
      "Here is what to test:\n",
      "startup\n",
      "setCurrent\n",
      "getCurrent\n",
      "measVoltage\n",
      "setProtectionVoltage\n",
      "protectionVoltage\n",
      "setProtectionCurrent\n",
      "protectionCurrent\n",
      "enable\n",
      "setPort\n",
      "setCurrentMode\n",
      "setVoltageMode\n",
      "setVoltage\n",
      "getVoltage\n",
      "measCurrent\n"
     ]
    }
   ],
   "source": [
    "%load_ext autoreload\n",
    "%autoreload 2\n",
    "from start import start\n",
    "\n",
    "keithley = start('Keithley 25')"
   ]
  },
  {
   "cell_type": "code",
   "execution_count": 2,
   "metadata": {},
   "outputs": [
    {
     "name": "stderr",
     "output_type": "stream",
     "text": [
      "2018-04-17 01:30:26,674 - WARNING - lightlab:\n",
      "\tKeithley compliance voltage of 1 reached\n",
      "2018-04-17 01:30:26,676 - WARNING - lightlab:\n",
      "\tYou are sourcing 1.001966e-08mW into the load.\n"
     ]
    },
    {
     "name": "stdout",
     "output_type": "stream",
     "text": [
      "1.001966\n",
      "-2.573609e-11\n"
     ]
    }
   ],
   "source": [
    "keithley.setCurrentMode()\n",
    "with keithley.warmedUp():\n",
    "    keithley.setCurrent(.1e-4)\n",
    "    print(keithley.measVoltage())\n",
    "    \n",
    "keithley.setVoltageMode()\n",
    "with keithley.warmedUp():\n",
    "    keithley.setVoltage(1e-3)\n",
    "    print(keithley.measCurrent())"
   ]
  },
  {
   "cell_type": "code",
   "execution_count": null,
   "metadata": {},
   "outputs": [],
   "source": []
  }
 ],
 "metadata": {
  "kernelspec": {
   "display_name": "Python 3",
   "language": "python",
   "name": "python3"
  },
  "language_info": {
   "codemirror_mode": {
    "name": "ipython",
    "version": 3
   },
   "file_extension": ".py",
   "mimetype": "text/x-python",
   "name": "python",
   "nbconvert_exporter": "python",
   "pygments_lexer": "ipython3",
   "version": "3.6.4"
  }
 },
 "nbformat": 4,
 "nbformat_minor": 2
}
