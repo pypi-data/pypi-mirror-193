{
 "cells": [
  {
   "cell_type": "markdown",
   "metadata": {},
   "source": [
    "# Instrument: `FunctionGenerator`"
   ]
  },
  {
   "cell_type": "code",
   "execution_count": 1,
   "metadata": {},
   "outputs": [
    {
     "name": "stdout",
     "output_type": "stream",
     "text": [
      "It is alive\n",
      "Agilent Technologies,33220A,MY44031103,2.02-2.02-22-2\n",
      "Here is what to test:\n",
      "startup\n",
      "frequency\n",
      "waveform\n",
      "amplAndOffs\n",
      "amplitudeRange\n",
      "duty\n",
      "enable\n",
      "setArbitraryWaveform\n"
     ]
    }
   ],
   "source": [
    "%load_ext autoreload\n",
    "%autoreload 2\n",
    "from start import start\n",
    "\n",
    "# synth = start('HP Synth')\n",
    "synth = start('Agilent Synth')"
   ]
  },
  {
   "cell_type": "markdown",
   "metadata": {},
   "source": [
    "## Problems here\n",
    "1. Our particular synth GPIB is broken, so it cannot query\n",
    "2. The below are currently not working with pretty obscure VISA errors\n",
    "\n",
    "TODO"
   ]
  },
  {
   "cell_type": "code",
   "execution_count": 6,
   "metadata": {},
   "outputs": [
    {
     "name": "stdout",
     "output_type": "stream",
     "text": [
      "{\n",
      "  \"OUTP\": \"OFF\",\n",
      "  \"VOLT\": {\n",
      "    \"&\": 2.0,\n",
      "    \"OFFS\": -2\n",
      "  }\n",
      "}\n"
     ]
    }
   ],
   "source": [
    "# synth.frequency(50e3)\n",
    "# synth.waveform('squ')\n",
    "# maxVolt = synth.amplitudeRange[1]\n",
    "synth.enable(False)\n",
    "synth.amplAndOffs((2., -2))\n",
    "print(synth.driver.config['live'])"
   ]
  },
  {
   "cell_type": "code",
   "execution_count": 3,
   "metadata": {},
   "outputs": [],
   "source": [
    "synth.driver.close()"
   ]
  }
 ],
 "metadata": {
  "kernelspec": {
   "display_name": "Python 3",
   "language": "python",
   "name": "python3"
  },
  "language_info": {
   "codemirror_mode": {
    "name": "ipython",
    "version": 3
   },
   "file_extension": ".py",
   "mimetype": "text/x-python",
   "name": "python",
   "nbconvert_exporter": "python",
   "pygments_lexer": "ipython3",
   "version": "3.6.4"
  }
 },
 "nbformat": 4,
 "nbformat_minor": 2
}
