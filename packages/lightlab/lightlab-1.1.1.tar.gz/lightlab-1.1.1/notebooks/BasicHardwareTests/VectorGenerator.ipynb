{
 "cells": [
  {
   "cell_type": "markdown",
   "metadata": {},
   "source": [
    "# Instrument: `VectorGenerator`"
   ]
  },
  {
   "cell_type": "code",
   "execution_count": 9,
   "metadata": {},
   "outputs": [
    {
     "name": "stdout",
     "output_type": "stream",
     "text": [
      "The autoreload extension is already loaded. To reload it, use:\n",
      "  %reload_ext autoreload\n",
      "It is alive\n",
      "Rohde&Schwarz,SMBV100A,1407.6004k02/255639,2.2.2.3-02.05.269.96  (Release)\n",
      "Here is what to test:\n",
      "startup\n",
      "amplitude\n",
      "frequency\n",
      "enable\n",
      "modulationEnable\n",
      "addNoise\n",
      "setPattern\n",
      "digiMod\n",
      "carrierMod\n",
      "listEnable\n"
     ]
    }
   ],
   "source": [
    "%load_ext autoreload\n",
    "%autoreload 2\n",
    "from start import start\n",
    "\n",
    "# synth = start('HP Synth')\n",
    "vgen = start('Rohde and Schwartz')"
   ]
  },
  {
   "cell_type": "code",
   "execution_count": 25,
   "metadata": {},
   "outputs": [
    {
     "data": {
      "text/plain": [
       "True"
      ]
     },
     "execution_count": 25,
     "metadata": {},
     "output_type": "execute_result"
    }
   ],
   "source": [
    "vgen.frequency(2.5e9)\n",
    "vgen.enable(True)\n",
    "vgen.setPattern([0, 1])\n",
    "# vgen.carrierMod(enaState=True, typMod='FM', deviation=10e6)\n",
    "vgen.digiMod(symbRate=25e6, amExtinct=90)\n",
    "# vgen.modulationEnable(True)"
   ]
  },
  {
   "cell_type": "code",
   "execution_count": 23,
   "metadata": {},
   "outputs": [
    {
     "data": {
      "text/plain": [
       "False"
      ]
     },
     "execution_count": 23,
     "metadata": {},
     "output_type": "execute_result"
    }
   ],
   "source": [
    "vgen.modulationEnable(False)"
   ]
  }
 ],
 "metadata": {
  "kernelspec": {
   "display_name": "Python 3",
   "language": "python",
   "name": "python3"
  },
  "language_info": {
   "codemirror_mode": {
    "name": "ipython",
    "version": 3
   },
   "file_extension": ".py",
   "mimetype": "text/x-python",
   "name": "python",
   "nbconvert_exporter": "python",
   "pygments_lexer": "ipython3",
   "version": "3.6.4"
  }
 },
 "nbformat": 4,
 "nbformat_minor": 2
}
