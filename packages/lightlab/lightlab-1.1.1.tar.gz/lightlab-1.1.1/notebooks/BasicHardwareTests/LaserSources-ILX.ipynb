{
 "cells": [
  {
   "cell_type": "markdown",
   "metadata": {},
   "source": [
    "# Instrument: `LaserSource`"
   ]
  },
  {
   "cell_type": "code",
   "execution_count": 35,
   "metadata": {},
   "outputs": [
    {
     "name": "stdout",
     "output_type": "stream",
     "text": [
      "The autoreload extension is already loaded. To reload it, use:\n",
      "  %reload_ext autoreload\n",
      "It is alive\n",
      "ILX Lightwave,7900 System,79006042,3.42\n",
      "Here is what to test:\n",
      "startup\n",
      "setChannelEnable\n",
      "getChannelEnable\n",
      "setChannelWls\n",
      "getChannelWls\n",
      "setChannelPowers\n",
      "getChannelPowers\n",
      "getAsSpectrum\n",
      "off\n",
      "allOn\n",
      "enableState\n",
      "wls\n",
      "powers\n",
      "wlRanges\n",
      "allOff\n"
     ]
    }
   ],
   "source": [
    "%load_ext autoreload\n",
    "%autoreload 2\n",
    "from start import start\n",
    "\n",
    "# dfbs = start('Laser Array 01')\n",
    "# dfbs = start('Laser Array 11')\n",
    "dfbs = start('Laser Array ILX7900 12')"
   ]
  },
  {
   "cell_type": "code",
   "execution_count": 43,
   "metadata": {},
   "outputs": [
    {
     "name": "stdout",
     "output_type": "stream",
     "text": [
      "Blocked out channels are [0, 1, 2, 3, 4, 5, 6, 7]\n",
      "DFB settling for 3 seconds.\n",
      "done.\n",
      "((1550.87, 1552.57), (1539.71, 1541.41), (1541.29, 1542.99), (1542.87, 1544.57), (1544.47, 1546.17), (1546.07, 1547.77), (1547.67, 1549.37), (1549.27, 1550.97))\n"
     ]
    }
   ],
   "source": [
    "print('Blocked out channels are', dfbs.driver.useChans)\n",
    "ena = dfbs.getChannelEnable()\n",
    "dfbs.off()\n",
    "# dfbs.setChannelEnable({0: 1})\n",
    "print(dfbs.wlRanges)"
   ]
  },
  {
   "cell_type": "code",
   "execution_count": 60,
   "metadata": {},
   "outputs": [
    {
     "name": "stdout",
     "output_type": "stream",
     "text": [
      "DFB settling for 3 seconds.\n",
      "done.\n"
     ]
    }
   ],
   "source": [
    "# dfbs.allOff()\n",
    "dfbs.setChannelEnable({4: 1, 5: 0, 6: 1})\n",
    "# dfbs.getChannelWls()\n",
    "# dfbs.setChannelPowers({6: 13})\n",
    "# dfbs.setChannelWls({4: 1544.5})"
   ]
  },
  {
   "cell_type": "code",
   "execution_count": 3,
   "metadata": {},
   "outputs": [
    {
     "data": {
      "text/plain": [
       "[<matplotlib.lines.Line2D at 0x7feba2fe00b8>]"
      ]
     },
     "execution_count": 3,
     "metadata": {},
     "output_type": "execute_result"
    },
    {
     "data": {
      "image/png": "[encoded data removed]",
      "text/plain": [
       "<matplotlib.figure.Figure at 0x7febaf32dcf8>"
      ]
     },
     "metadata": {},
     "output_type": "display_data"
    }
   ],
   "source": [
    "dfbs.getAsSpectrum().simplePlot('.-')"
   ]
  },
  {
   "cell_type": "code",
   "execution_count": 4,
   "metadata": {},
   "outputs": [
    {
     "name": "stdout",
     "output_type": "stream",
     "text": [
      "DFB settling for 3 seconds.\n",
      "done.\n"
     ]
    }
   ],
   "source": [
    "dfbs.off()"
   ]
  }
 ],
 "metadata": {
  "kernelspec": {
   "display_name": "Python 3",
   "language": "python",
   "name": "python3"
  },
  "language_info": {
   "codemirror_mode": {
    "name": "ipython",
    "version": 3
   },
   "file_extension": ".py",
   "mimetype": "text/x-python",
   "name": "python",
   "nbconvert_exporter": "python",
   "pygments_lexer": "ipython3",
   "version": "3.6.4"
  }
 },
 "nbformat": 4,
 "nbformat_minor": 2
}
