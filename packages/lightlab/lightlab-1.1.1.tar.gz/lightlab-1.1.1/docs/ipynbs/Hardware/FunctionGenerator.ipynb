{
 "cells": [
  {
   "cell_type": "markdown",
   "metadata": {},
   "source": [
    "# Instrument: `FunctionGenerator`"
   ]
  },
  {
   "cell_type": "code",
   "execution_count": 1,
   "metadata": {},
   "outputs": [
    {
     "name": "stderr",
     "output_type": "stream",
     "text": [
      "2018-04-17 03:12:10,885 - WARNING - lightlab.visa:\n",
      "\tFunction generator GPIB is broken, so cannot ensure if live\n"
     ]
    },
    {
     "name": "stdout",
     "output_type": "stream",
     "text": [
      "It is alive\n",
      "Function generator, HP 8116A\n",
      "Here is what to test:\n",
      "startup\n",
      "frequency\n",
      "waveform\n",
      "amplAndOffs\n",
      "amplitudeRange\n",
      "duty\n"
     ]
    }
   ],
   "source": [
    "%load_ext autoreload\n",
    "%autoreload 2\n",
    "from start import start\n",
    "\n",
    "synth = start('Function Generator')"
   ]
  },
  {
   "cell_type": "markdown",
   "metadata": {},
   "source": [
    "## Problems here\n",
    "1. Our particular synth GPIB is broken, so it cannot query\n",
    "2. The below are currently not working with pretty obscure VISA errors\n",
    "\n",
    "TODO"
   ]
  },
  {
   "cell_type": "code",
   "execution_count": null,
   "metadata": {},
   "outputs": [],
   "source": [
    "# synth.frequency(100)\n",
    "# synth.waveform('sine')\n",
    "# maxVolt = synth.amplitudeRange[1]\n",
    "# synth.amplAndOffs((maxVolt / 10, 0))"
   ]
  },
  {
   "cell_type": "code",
   "execution_count": null,
   "metadata": {},
   "outputs": [],
   "source": []
  }
 ],
 "metadata": {
  "kernelspec": {
   "display_name": "Python 3",
   "language": "python",
   "name": "python3"
  },
  "language_info": {
   "codemirror_mode": {
    "name": "ipython",
    "version": 3
   },
   "file_extension": ".py",
   "mimetype": "text/x-python",
   "name": "python",
   "nbconvert_exporter": "python",
   "pygments_lexer": "ipython3",
   "version": "3.6.4"
  }
 },
 "nbformat": 4,
 "nbformat_minor": 2
}
