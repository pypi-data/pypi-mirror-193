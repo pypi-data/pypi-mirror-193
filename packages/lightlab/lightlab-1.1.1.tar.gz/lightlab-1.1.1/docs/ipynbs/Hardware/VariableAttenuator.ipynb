{
 "cells": [
  {
   "cell_type": "markdown",
   "metadata": {},
   "source": [
    "# Instrument: `VariableOpticalAttenuator`"
   ]
  },
  {
   "cell_type": "code",
   "execution_count": 1,
   "metadata": {},
   "outputs": [
    {
     "name": "stdout",
     "output_type": "stream",
     "text": [
      "It is alive\n",
      "HEWLETT-PACKARD,HP8156A,3328G01226,1.02\n",
      "Here is what to test:\n",
      "startup\n",
      "on\n",
      "off\n",
      "attenDB\n",
      "attenLin\n"
     ]
    }
   ],
   "source": [
    "%load_ext autoreload\n",
    "%autoreload 2\n",
    "from start import start\n",
    "\n",
    "voa = start('HP 8156A Optical Attenuator (corinna)')\n"
   ]
  },
  {
   "cell_type": "code",
   "execution_count": 2,
   "metadata": {},
   "outputs": [
    {
     "name": "stdout",
     "output_type": "stream",
     "text": [
      "60.0\n"
     ]
    }
   ],
   "source": [
    "voa.attenDB = 0\n",
    "voa.attenDB = 3\n",
    "voa.attenLin = 0\n",
    "\n",
    "print(voa.attenDB)  # this should give you the maximum 60\n",
    "\n",
    "voa.off()"
   ]
  }
 ],
 "metadata": {
  "kernelspec": {
   "display_name": "Python 3",
   "language": "python",
   "name": "python3"
  },
  "language_info": {
   "codemirror_mode": {
    "name": "ipython",
    "version": 3
   },
   "file_extension": ".py",
   "mimetype": "text/x-python",
   "name": "python",
   "nbconvert_exporter": "python",
   "pygments_lexer": "ipython3",
   "version": "3.6.4"
  }
 },
 "nbformat": 4,
 "nbformat_minor": 2
}
