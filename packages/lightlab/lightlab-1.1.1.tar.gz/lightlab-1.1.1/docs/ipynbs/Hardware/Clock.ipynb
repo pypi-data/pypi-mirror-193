{
 "cells": [
  {
   "cell_type": "markdown",
   "metadata": {},
   "source": [
    "# Instrument: `Clock`"
   ]
  },
  {
   "cell_type": "code",
   "execution_count": 1,
   "metadata": {},
   "outputs": [
    {
     "name": "stdout",
     "output_type": "stream",
     "text": [
      "It is alive\n",
      "HEWLETT-PACKARD,83712B,US37101574,REV  10.04\n",
      "Here is what to test:\n",
      "startup\n",
      "enable\n",
      "frequency\n"
     ]
    }
   ],
   "source": [
    "%load_ext autoreload\n",
    "%autoreload 2\n",
    "from start import start\n",
    "\n",
    "clk = start('Agilent 83712B clock')"
   ]
  },
  {
   "cell_type": "code",
   "execution_count": 2,
   "metadata": {},
   "outputs": [
    {
     "name": "stdout",
     "output_type": "stream",
     "text": [
      "500.0 MHz\n",
      "False\n",
      "600.0 MHz\n"
     ]
    }
   ],
   "source": [
    "origFreq = clk.frequency\n",
    "clk.frequency = 500e6\n",
    "print(clk.frequency / 1e6, 'MHz')\n",
    "clk.frequency = origFreq\n",
    "\n",
    "origEnable = clk.enable\n",
    "clk.enable = not origEnable\n",
    "print(clk.enable)\n",
    "clk.enable = origEnable\n",
    "\n",
    "# Context management. Downside right now is you need to go through to the config string\n",
    "with clk.driver.tempConfig('FREQ', 600e6):\n",
    "    print(clk.frequency / 1e6, 'MHz')\n",
    "assert clk.frequency == origFreq"
   ]
  },
  {
   "cell_type": "code",
   "execution_count": null,
   "metadata": {},
   "outputs": [],
   "source": []
  }
 ],
 "metadata": {
  "kernelspec": {
   "display_name": "Python 3",
   "language": "python",
   "name": "python3"
  },
  "language_info": {
   "codemirror_mode": {
    "name": "ipython",
    "version": 3
   },
   "file_extension": ".py",
   "mimetype": "text/x-python",
   "name": "python",
   "nbconvert_exporter": "python",
   "pygments_lexer": "ipython3",
   "version": "3.6.4"
  }
 },
 "nbformat": 4,
 "nbformat_minor": 2
}
