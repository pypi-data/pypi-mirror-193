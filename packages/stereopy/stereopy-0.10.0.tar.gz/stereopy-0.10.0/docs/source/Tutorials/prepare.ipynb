{
 "cells": [
  {
   "cell_type": "markdown",
   "metadata": {
    "pycharm": {
     "name": "#%% md\n"
    }
   },
   "source": [
    "# Prepare\n",
    "\n",
    "Before **cell segmentation**, **tissue segmentation** or generating **mask file** from **ssdna image** on **cell correction**, you need to install some necessary modules.  \n",
    "These modules include tensorflow,torch,torchvision and albumentations, you can install these modules by running the commands below:  \n",
    "> &ensp;&ensp; **pip install tensorflow==2.7.0**  \n",
    "> &ensp;&ensp; **pip install torch==1.10.0**  \n",
    "> &ensp;&ensp; **pip install torchvision==0.11.1**  \n",
    "> &ensp;&ensp; **pip install albumentations==0.4.6**"
   ]
  }
 ],
 "metadata": {
  "kernelspec": {
   "display_name": "Python 3.8.13 ('stereopy')",
   "language": "python",
   "name": "python3"
  },
  "language_info": {
   "name": "python",
   "version": "3.8.13"
  },
  "vscode": {
   "interpreter": {
    "hash": "bf5289658be5de238c04a5a231711f4dcf458561eb07ac0b42f9f3f5a95e1559"
   }
  }
 },
 "nbformat": 4,
 "nbformat_minor": 2
}
