{
 "cells": [
  {
   "cell_type": "code",
   "execution_count": 1,
   "id": "292ecf7c",
   "metadata": {},
   "outputs": [],
   "source": [
    "import os\n",
    "import sys\n",
    "p = os.path.abspath('../..')\n",
    "if p not in sys.path:\n",
    "    sys.path.append(p)\n",
    "\n",
    "from waveorder.io.writer import WaveorderWriter\n",
    "import numpy as np\n",
    "import zarr"
   ]
  },
  {
   "cell_type": "markdown",
   "id": "2d4a3894",
   "metadata": {},
   "source": [
    "# Writing data with no HCS Specification"
   ]
  },
  {
   "cell_type": "markdown",
   "id": "2bceef7c",
   "metadata": {},
   "source": [
    "### Initialize the writer\n",
    "\n",
    "This will instantiate the writer class, no zarr stores, subfolders, etc have been created yet.  This step allows you to define which type of writer you want and let it know your directory to save the data"
   ]
  },
  {
   "cell_type": "code",
   "execution_count": 4,
   "id": "e73b0ce8",
   "metadata": {},
   "outputs": [],
   "source": [
    "writer = WaveorderWriter('/Users/cameron.foltz/Desktop/Test', hcs=False, hcs_meta=None, verbose=True)"
   ]
  },
  {
   "cell_type": "markdown",
   "id": "af804973",
   "metadata": {},
   "source": [
    "### Set Position and Create Zarr\n",
    "\n",
    "'create_zarr_root()' will create an empty zarr store within the save directory.  No arrays have been added here.  Name of the store must be input by the user."
   ]
  },
  {
   "cell_type": "code",
   "execution_count": 5,
   "id": "5196b4a0",
   "metadata": {},
   "outputs": [
    {
     "name": "stdout",
     "output_type": "stream",
     "text": [
      "Creating new zarr store at /Users/cameron.foltz/Desktop/Test/waveOrder_Writer_Example.zarr\n"
     ]
    }
   ],
   "source": [
    "writer.create_zarr_root('waveOrder_Writer_Example.zarr')"
   ]
  },
  {
   "cell_type": "markdown",
   "id": "d35ea316",
   "metadata": {},
   "source": [
    "### Create some fake data to save later"
   ]
  },
  {
   "cell_type": "code",
   "execution_count": 6,
   "id": "5cf8cb26",
   "metadata": {},
   "outputs": [],
   "source": [
    "P = 10\n",
    "T = 3\n",
    "C = 2\n",
    "Z = 65\n",
    "Y = 256\n",
    "X = 256\n",
    "\n",
    "data = np.random.rand(P, T, C, Z, Y, X)"
   ]
  },
  {
   "cell_type": "code",
   "execution_count": 7,
   "id": "e70549cb",
   "metadata": {},
   "outputs": [
    {
     "data": {
      "text/plain": [
       "(10, 3, 2, 65, 256, 256)"
      ]
     },
     "execution_count": 7,
     "metadata": {},
     "output_type": "execute_result"
    }
   ],
   "source": [
    "np.shape(data)"
   ]
  },
  {
   "cell_type": "markdown",
   "id": "99679028",
   "metadata": {},
   "source": [
    "### initialize the array which sets the data saving parameters\n",
    "\n",
    "Here is where you will initialize the array in your current writer.store .  data_shape should match the (T, C, Z, Y, X) dimensions of your data.  Positions are separated by zarr subgroups under the root zarr store.\n",
    "\n",
    "__chunk_size__ determines how zarr will chunk your data.  This means that when you later try to load the data, it will load one chunk at a time with this specified size.  To have the chunk be one z-slice, you would set chunk_size = (1,1,1,Y,X)\n",
    "\n",
    "__chan_names__ describe the names of the channels of your data in the order in which they will be written.\n",
    "\n",
    "__clims__ corresponds to the the display contrast limits in the metadata for every channel, if none, default values will be used"
   ]
  },
  {
   "cell_type": "code",
   "execution_count": 8,
   "id": "cccfe609",
   "metadata": {},
   "outputs": [],
   "source": [
    "data_shape = (3,2,65,256,256)\n",
    "chunk_size = (1,1,1,256,256)\n",
    "chan_names = ['DAPI', 'Phase3D']\n",
    "clims = [(0,1000),(-0.3, 0.3)]\n",
    "dtype = 'float32'"
   ]
  },
  {
   "cell_type": "code",
   "execution_count": 9,
   "id": "41d7cc52",
   "metadata": {},
   "outputs": [
    {
     "name": "stdout",
     "output_type": "stream",
     "text": [
      "Creating and opening subgroup Row_0/Col_0/Pos_000\n"
     ]
    }
   ],
   "source": [
    "position = 0\n",
    "writer.init_array(position, data_shape, chunk_size, chan_names, dtype, clims, position_name=None, overwrite=False)"
   ]
  },
  {
   "cell_type": "markdown",
   "id": "435bf54c",
   "metadata": {},
   "source": [
    "### Write the data along specific dimensions"
   ]
  },
  {
   "cell_type": "code",
   "execution_count": 10,
   "id": "201cc9ac",
   "metadata": {},
   "outputs": [
    {
     "name": "stdout",
     "output_type": "stream",
     "text": [
      "Opening subgroup Row_0/Col_0/Pos_000\n"
     ]
    }
   ],
   "source": [
    "writer.write(data[0], p=position, t=slice(0, 3), c=slice(0, 2), z=slice(0, 65))"
   ]
  },
  {
   "cell_type": "markdown",
   "id": "57f06b96",
   "metadata": {},
   "source": [
    "# Complex, 'Position First' Acquisition"
   ]
  },
  {
   "cell_type": "markdown",
   "id": "fc1995e1",
   "metadata": {},
   "source": [
    "Let's say you have a dataset with 10 position with each position containing a data of size (T, C, Z, Y, X) = (3, 2, 65, 256, 256) and you want to save the first time point of every position first, and then move on to the next timepoint.  This will show you how to properly loop through this example case."
   ]
  },
  {
   "cell_type": "code",
   "execution_count": 11,
   "id": "10a6a00a",
   "metadata": {},
   "outputs": [
    {
     "name": "stdout",
     "output_type": "stream",
     "text": [
      "Creating new zarr store at /Users/cameron.foltz/Desktop/Test/waveOrder_Writer_Example_MultiPos.zarr\n"
     ]
    }
   ],
   "source": [
    "writer = WaveorderWriter('/Users/cameron.foltz/Desktop/Test')\n",
    "writer.create_zarr_root('waveOrder_Writer_Example_MultiPos.zarr')"
   ]
  },
  {
   "cell_type": "code",
   "execution_count": 12,
   "id": "60fc225c",
   "metadata": {
    "scrolled": false
   },
   "outputs": [
    {
     "name": "stdout",
     "output_type": "stream",
     "text": [
      "Writing Position 0 at Time 0\n",
      "Writing Position 1 at Time 0\n",
      "Writing Position 2 at Time 0\n",
      "Writing Position 3 at Time 0\n",
      "Writing Position 4 at Time 0\n",
      "Writing Position 5 at Time 0\n",
      "Writing Position 6 at Time 0\n",
      "Writing Position 7 at Time 0\n",
      "Writing Position 8 at Time 0\n",
      "Writing Position 9 at Time 0\n",
      "Writing Position 0 at Time 1\n",
      "Writing Position 1 at Time 1\n",
      "Writing Position 2 at Time 1\n",
      "Writing Position 3 at Time 1\n",
      "Writing Position 4 at Time 1\n",
      "Writing Position 5 at Time 1\n",
      "Writing Position 6 at Time 1\n",
      "Writing Position 7 at Time 1\n",
      "Writing Position 8 at Time 1\n",
      "Writing Position 9 at Time 1\n",
      "Writing Position 0 at Time 2\n",
      "Writing Position 1 at Time 2\n",
      "Writing Position 2 at Time 2\n",
      "Writing Position 3 at Time 2\n",
      "Writing Position 4 at Time 2\n",
      "Writing Position 5 at Time 2\n",
      "Writing Position 6 at Time 2\n",
      "Writing Position 7 at Time 2\n",
      "Writing Position 8 at Time 2\n",
      "Writing Position 9 at Time 2\n"
     ]
    }
   ],
   "source": [
    "# Must first initialize all of the arrays, since you will be returning to them \n",
    "# at different times in the data-saving process.\n",
    "num_pos = 10\n",
    "\n",
    "for i in range(num_pos):\n",
    "    writer.init_array(i, data_shape, chunk_size, chan_names, dtype, clims, position_name = None, overwrite=False)    \n",
    "# Now begin the rime loop \n",
    "for t in range(3):\n",
    "    \n",
    "    # At each time point, write data for all positions\n",
    "    for pos in range(num_pos):\n",
    "        \n",
    "        print(f'Writing Position {pos} at Time {t}')\n",
    "        \n",
    "        #write this position data\n",
    "        writer.write(data[pos, t], p=pos, t=t, c=slice(0, 2), z=slice(0, 65))"
   ]
  },
  {
   "cell_type": "markdown",
   "id": "33b316e6",
   "metadata": {},
   "source": [
    "# Writing Data with HCS Specification"
   ]
  },
  {
   "cell_type": "markdown",
   "id": "914401b6",
   "metadata": {},
   "source": [
    "##### create an HCS 4x4 Plate with rows A, B, C, D and columns 1, 2, 3, 4.  Each well then contains 2 FOV's."
   ]
  },
  {
   "cell_type": "code",
   "execution_count": 13,
   "id": "b0a1b8ef",
   "metadata": {},
   "outputs": [],
   "source": [
    "hcs_meta = {'plate':{\n",
    "  'acquisitions': [{'id': 1,\n",
    "                     'maximumfieldcount': 2,\n",
    "                     'name': 'Dataset',\n",
    "                     'starttime': 0}],\n",
    "  'columns': [{'name': '1'},\n",
    "           {'name': '2'},\n",
    "           {'name': '3'},\n",
    "           {'name': '4'}],\n",
    "  'field_count': 2,\n",
    "  'name': 'MultiWell_Plate_Example',\n",
    "  'rows': [{'name': 'A'},\n",
    "          {'name': 'B'},\n",
    "          {'name': 'C'},\n",
    "          {'name': 'D'}],\n",
    "  'version': '0.1',\n",
    "  'wells': [{'path': 'A/1'},\n",
    "            {'path': 'A/2'},\n",
    "            {'path': 'A/3'},\n",
    "            {'path': 'A/4'},\n",
    "            {'path': 'B/1'},\n",
    "            {'path': 'B/2'},\n",
    "            {'path': 'B/3'},\n",
    "            {'path': 'B/4'},\n",
    "            {'path': 'C/1'},\n",
    "            {'path': 'C/2'},\n",
    "            {'path': 'C/3'},\n",
    "            {'path': 'C/4'},\n",
    "            {'path': 'D/1'},\n",
    "            {'path': 'D/2'},\n",
    "            {'path': 'D/3'},\n",
    "            {'path': 'D/4'}]},\n",
    "           \n",
    "       \n",
    "'well': [{'images': [{'path': 'FOV1'}, {'path': 'FOV2'}]},\n",
    "         {'images': [{'path': 'FOV1'}, {'path': 'FOV2'}]},\n",
    "         {'images': [{'path': 'FOV1'}, {'path': 'FOV2'}]},\n",
    "         {'images': [{'path': 'FOV1'}, {'path': 'FOV2'}]},\n",
    "         {'images': [{'path': 'FOV1'}, {'path': 'FOV2'}]},\n",
    "         {'images': [{'path': 'FOV1'}, {'path': 'FOV2'}]},\n",
    "         {'images': [{'path': 'FOV1'}, {'path': 'FOV2'}]},\n",
    "         {'images': [{'path': 'FOV1'}, {'path': 'FOV2'}]},\n",
    "         {'images': [{'path': 'FOV1'}, {'path': 'FOV2'}]},\n",
    "         {'images': [{'path': 'FOV1'}, {'path': 'FOV2'}]},\n",
    "         {'images': [{'path': 'FOV1'}, {'path': 'FOV2'}]},\n",
    "         {'images': [{'path': 'FOV1'}, {'path': 'FOV2'}]},\n",
    "         {'images': [{'path': 'FOV1'}, {'path': 'FOV2'}]},\n",
    "         {'images': [{'path': 'FOV1'}, {'path': 'FOV2'}]},\n",
    "         {'images': [{'path': 'FOV1'}, {'path': 'FOV2'}]},\n",
    "         {'images': [{'path': 'FOV1'}, {'path': 'FOV2'}]}]\n",
    "    }\n",
    "    "
   ]
  },
  {
   "cell_type": "code",
   "execution_count": 14,
   "id": "56758d8b",
   "metadata": {},
   "outputs": [],
   "source": [
    "writer = WaveorderWriter('/Users/cameron.foltz/Desktop/Test', hcs=True, hcs_meta=hcs_meta, verbose=True)"
   ]
  },
  {
   "cell_type": "code",
   "execution_count": 15,
   "id": "7e17b39a",
   "metadata": {},
   "outputs": [
    {
     "name": "stdout",
     "output_type": "stream",
     "text": [
      "Creating new zarr store at /Users/cameron.foltz/Desktop/Test/waveOrder_Writer_ExampleHCS.zarr\n"
     ]
    }
   ],
   "source": [
    "writer.create_zarr_root('waveOrder_Writer_ExampleHCS.zarr')"
   ]
  },
  {
   "cell_type": "code",
   "execution_count": 16,
   "id": "5ece924b",
   "metadata": {},
   "outputs": [
    {
     "name": "stdout",
     "output_type": "stream",
     "text": [
      "/\n",
      " ├── A\n",
      " │   ├── 1\n",
      " │   │   ├── FOV1\n",
      " │   │   └── FOV2\n",
      " │   ├── 2\n",
      " │   │   ├── FOV1\n",
      " │   │   └── FOV2\n",
      " │   ├── 3\n",
      " │   │   ├── FOV1\n",
      " │   │   └── FOV2\n",
      " │   └── 4\n",
      " │       ├── FOV1\n",
      " │       └── FOV2\n",
      " ├── B\n",
      " │   ├── 1\n",
      " │   │   ├── FOV1\n",
      " │   │   └── FOV2\n",
      " │   ├── 2\n",
      " │   │   ├── FOV1\n",
      " │   │   └── FOV2\n",
      " │   ├── 3\n",
      " │   │   ├── FOV1\n",
      " │   │   └── FOV2\n",
      " │   └── 4\n",
      " │       ├── FOV1\n",
      " │       └── FOV2\n",
      " ├── C\n",
      " │   ├── 1\n",
      " │   │   ├── FOV1\n",
      " │   │   └── FOV2\n",
      " │   ├── 2\n",
      " │   │   ├── FOV1\n",
      " │   │   └── FOV2\n",
      " │   ├── 3\n",
      " │   │   ├── FOV1\n",
      " │   │   └── FOV2\n",
      " │   └── 4\n",
      " │       ├── FOV1\n",
      " │       └── FOV2\n",
      " └── D\n",
      "     ├── 1\n",
      "     │   ├── FOV1\n",
      "     │   └── FOV2\n",
      "     ├── 2\n",
      "     │   ├── FOV1\n",
      "     │   └── FOV2\n",
      "     ├── 3\n",
      "     │   ├── FOV1\n",
      "     │   └── FOV2\n",
      "     └── 4\n",
      "         ├── FOV1\n",
      "         └── FOV2\n"
     ]
    }
   ],
   "source": [
    "print(writer.store.tree())"
   ]
  },
  {
   "cell_type": "code",
   "execution_count": 17,
   "id": "1878a5da",
   "metadata": {},
   "outputs": [],
   "source": [
    "P = 32\n",
    "T = 3\n",
    "C = 2\n",
    "Z = 11\n",
    "Y = 256\n",
    "X = 256\n",
    "\n",
    "data = np.random.rand(P, T, C, Z, Y, X)\n",
    "\n",
    "data_shape = (3,2,11,256,256)\n",
    "chunk_size = (1,1,1,256,256)\n",
    "chan_names = ['DAPI', 'Phase3D']\n",
    "clims = [(0,1000),(-0.3, 0.3)]\n",
    "dtype = 'float32'"
   ]
  },
  {
   "cell_type": "code",
   "execution_count": 18,
   "id": "0aed4289",
   "metadata": {},
   "outputs": [
    {
     "name": "stdout",
     "output_type": "stream",
     "text": [
      "Opening subgroup A/1/FOV1\n",
      "Opening subgroup A/1/FOV2\n",
      "Opening subgroup A/2/FOV1\n",
      "Opening subgroup A/2/FOV2\n",
      "Opening subgroup A/3/FOV1\n",
      "Opening subgroup A/3/FOV2\n",
      "Opening subgroup A/4/FOV1\n",
      "Opening subgroup A/4/FOV2\n",
      "Opening subgroup B/1/FOV1\n",
      "Opening subgroup B/1/FOV2\n",
      "Opening subgroup B/2/FOV1\n",
      "Opening subgroup B/2/FOV2\n",
      "Opening subgroup B/3/FOV1\n",
      "Opening subgroup B/3/FOV2\n",
      "Opening subgroup B/4/FOV1\n",
      "Opening subgroup B/4/FOV2\n",
      "Opening subgroup C/1/FOV1\n",
      "Opening subgroup C/1/FOV2\n",
      "Opening subgroup C/2/FOV1\n",
      "Opening subgroup C/2/FOV2\n",
      "Opening subgroup C/3/FOV1\n",
      "Opening subgroup C/3/FOV2\n",
      "Opening subgroup C/4/FOV1\n",
      "Opening subgroup C/4/FOV2\n",
      "Opening subgroup D/1/FOV1\n",
      "Opening subgroup D/1/FOV2\n",
      "Opening subgroup D/2/FOV1\n",
      "Opening subgroup D/2/FOV2\n",
      "Opening subgroup D/3/FOV1\n",
      "Opening subgroup D/3/FOV2\n",
      "Opening subgroup D/4/FOV1\n",
      "Opening subgroup D/4/FOV2\n",
      "Writing Position 0 at Time 0\n",
      "Opening subgroup A/1/FOV1\n",
      "Writing Position 1 at Time 0\n",
      "Opening subgroup A/1/FOV2\n",
      "Writing Position 2 at Time 0\n",
      "Opening subgroup A/2/FOV1\n",
      "Writing Position 3 at Time 0\n",
      "Opening subgroup A/2/FOV2\n",
      "Writing Position 4 at Time 0\n",
      "Opening subgroup A/3/FOV1\n",
      "Writing Position 5 at Time 0\n",
      "Opening subgroup A/3/FOV2\n",
      "Writing Position 6 at Time 0\n",
      "Opening subgroup A/4/FOV1\n",
      "Writing Position 7 at Time 0\n",
      "Opening subgroup A/4/FOV2\n",
      "Writing Position 8 at Time 0\n",
      "Opening subgroup B/1/FOV1\n",
      "Writing Position 9 at Time 0\n",
      "Opening subgroup B/1/FOV2\n",
      "Writing Position 10 at Time 0\n",
      "Opening subgroup B/2/FOV1\n",
      "Writing Position 11 at Time 0\n",
      "Opening subgroup B/2/FOV2\n",
      "Writing Position 12 at Time 0\n",
      "Opening subgroup B/3/FOV1\n",
      "Writing Position 13 at Time 0\n",
      "Opening subgroup B/3/FOV2\n",
      "Writing Position 14 at Time 0\n",
      "Opening subgroup B/4/FOV1\n",
      "Writing Position 15 at Time 0\n",
      "Opening subgroup B/4/FOV2\n",
      "Writing Position 16 at Time 0\n",
      "Opening subgroup C/1/FOV1\n",
      "Writing Position 17 at Time 0\n",
      "Opening subgroup C/1/FOV2\n",
      "Writing Position 18 at Time 0\n",
      "Opening subgroup C/2/FOV1\n",
      "Writing Position 19 at Time 0\n",
      "Opening subgroup C/2/FOV2\n",
      "Writing Position 20 at Time 0\n",
      "Opening subgroup C/3/FOV1\n",
      "Writing Position 21 at Time 0\n",
      "Opening subgroup C/3/FOV2\n",
      "Writing Position 22 at Time 0\n",
      "Opening subgroup C/4/FOV1\n",
      "Writing Position 23 at Time 0\n",
      "Opening subgroup C/4/FOV2\n",
      "Writing Position 24 at Time 0\n",
      "Opening subgroup D/1/FOV1\n",
      "Writing Position 25 at Time 0\n",
      "Opening subgroup D/1/FOV2\n",
      "Writing Position 26 at Time 0\n",
      "Opening subgroup D/2/FOV1\n",
      "Writing Position 27 at Time 0\n",
      "Opening subgroup D/2/FOV2\n",
      "Writing Position 28 at Time 0\n",
      "Opening subgroup D/3/FOV1\n",
      "Writing Position 29 at Time 0\n",
      "Opening subgroup D/3/FOV2\n",
      "Writing Position 30 at Time 0\n",
      "Opening subgroup D/4/FOV1\n",
      "Writing Position 31 at Time 0\n",
      "Opening subgroup D/4/FOV2\n",
      "Writing Position 0 at Time 1\n",
      "Opening subgroup A/1/FOV1\n",
      "Writing Position 1 at Time 1\n",
      "Opening subgroup A/1/FOV2\n",
      "Writing Position 2 at Time 1\n",
      "Opening subgroup A/2/FOV1\n",
      "Writing Position 3 at Time 1\n",
      "Opening subgroup A/2/FOV2\n",
      "Writing Position 4 at Time 1\n",
      "Opening subgroup A/3/FOV1\n",
      "Writing Position 5 at Time 1\n",
      "Opening subgroup A/3/FOV2\n",
      "Writing Position 6 at Time 1\n",
      "Opening subgroup A/4/FOV1\n",
      "Writing Position 7 at Time 1\n",
      "Opening subgroup A/4/FOV2\n",
      "Writing Position 8 at Time 1\n",
      "Opening subgroup B/1/FOV1\n",
      "Writing Position 9 at Time 1\n",
      "Opening subgroup B/1/FOV2\n",
      "Writing Position 10 at Time 1\n",
      "Opening subgroup B/2/FOV1\n",
      "Writing Position 11 at Time 1\n",
      "Opening subgroup B/2/FOV2\n",
      "Writing Position 12 at Time 1\n",
      "Opening subgroup B/3/FOV1\n",
      "Writing Position 13 at Time 1\n",
      "Opening subgroup B/3/FOV2\n",
      "Writing Position 14 at Time 1\n",
      "Opening subgroup B/4/FOV1\n",
      "Writing Position 15 at Time 1\n",
      "Opening subgroup B/4/FOV2\n",
      "Writing Position 16 at Time 1\n",
      "Opening subgroup C/1/FOV1\n",
      "Writing Position 17 at Time 1\n",
      "Opening subgroup C/1/FOV2\n",
      "Writing Position 18 at Time 1\n",
      "Opening subgroup C/2/FOV1\n",
      "Writing Position 19 at Time 1\n",
      "Opening subgroup C/2/FOV2\n",
      "Writing Position 20 at Time 1\n",
      "Opening subgroup C/3/FOV1\n",
      "Writing Position 21 at Time 1\n",
      "Opening subgroup C/3/FOV2\n",
      "Writing Position 22 at Time 1\n",
      "Opening subgroup C/4/FOV1\n",
      "Writing Position 23 at Time 1\n",
      "Opening subgroup C/4/FOV2\n",
      "Writing Position 24 at Time 1\n",
      "Opening subgroup D/1/FOV1\n",
      "Writing Position 25 at Time 1\n",
      "Opening subgroup D/1/FOV2\n",
      "Writing Position 26 at Time 1\n",
      "Opening subgroup D/2/FOV1\n",
      "Writing Position 27 at Time 1\n",
      "Opening subgroup D/2/FOV2\n",
      "Writing Position 28 at Time 1\n",
      "Opening subgroup D/3/FOV1\n",
      "Writing Position 29 at Time 1\n",
      "Opening subgroup D/3/FOV2\n",
      "Writing Position 30 at Time 1\n",
      "Opening subgroup D/4/FOV1\n",
      "Writing Position 31 at Time 1\n",
      "Opening subgroup D/4/FOV2\n",
      "Writing Position 0 at Time 2\n",
      "Opening subgroup A/1/FOV1\n",
      "Writing Position 1 at Time 2\n",
      "Opening subgroup A/1/FOV2\n",
      "Writing Position 2 at Time 2\n",
      "Opening subgroup A/2/FOV1\n",
      "Writing Position 3 at Time 2\n",
      "Opening subgroup A/2/FOV2\n",
      "Writing Position 4 at Time 2\n",
      "Opening subgroup A/3/FOV1\n",
      "Writing Position 5 at Time 2\n",
      "Opening subgroup A/3/FOV2\n",
      "Writing Position 6 at Time 2\n",
      "Opening subgroup A/4/FOV1\n",
      "Writing Position 7 at Time 2\n",
      "Opening subgroup A/4/FOV2\n",
      "Writing Position 8 at Time 2\n",
      "Opening subgroup B/1/FOV1\n",
      "Writing Position 9 at Time 2\n",
      "Opening subgroup B/1/FOV2\n",
      "Writing Position 10 at Time 2\n",
      "Opening subgroup B/2/FOV1\n",
      "Writing Position 11 at Time 2\n",
      "Opening subgroup B/2/FOV2\n",
      "Writing Position 12 at Time 2\n",
      "Opening subgroup B/3/FOV1\n",
      "Writing Position 13 at Time 2\n",
      "Opening subgroup B/3/FOV2\n",
      "Writing Position 14 at Time 2\n",
      "Opening subgroup B/4/FOV1\n",
      "Writing Position 15 at Time 2\n",
      "Opening subgroup B/4/FOV2\n",
      "Writing Position 16 at Time 2\n",
      "Opening subgroup C/1/FOV1\n",
      "Writing Position 17 at Time 2\n",
      "Opening subgroup C/1/FOV2\n",
      "Writing Position 18 at Time 2\n",
      "Opening subgroup C/2/FOV1\n",
      "Writing Position 19 at Time 2\n",
      "Opening subgroup C/2/FOV2\n",
      "Writing Position 20 at Time 2\n",
      "Opening subgroup C/3/FOV1\n",
      "Writing Position 21 at Time 2\n",
      "Opening subgroup C/3/FOV2\n",
      "Writing Position 22 at Time 2\n",
      "Opening subgroup C/4/FOV1\n",
      "Writing Position 23 at Time 2\n",
      "Opening subgroup C/4/FOV2\n",
      "Writing Position 24 at Time 2\n",
      "Opening subgroup D/1/FOV1\n",
      "Writing Position 25 at Time 2\n",
      "Opening subgroup D/1/FOV2\n",
      "Writing Position 26 at Time 2\n",
      "Opening subgroup D/2/FOV1\n",
      "Writing Position 27 at Time 2\n",
      "Opening subgroup D/2/FOV2\n",
      "Writing Position 28 at Time 2\n",
      "Opening subgroup D/3/FOV1\n",
      "Writing Position 29 at Time 2\n",
      "Opening subgroup D/3/FOV2\n",
      "Writing Position 30 at Time 2\n",
      "Opening subgroup D/4/FOV1\n",
      "Writing Position 31 at Time 2\n",
      "Opening subgroup D/4/FOV2\n"
     ]
    }
   ],
   "source": [
    "# Must first initialize all of the arrays, since you will be returning to them \n",
    "# at different times in the data-saving process.\n",
    "num_pos = 32\n",
    "\n",
    "for i in range(num_pos):\n",
    "    writer.init_array(i, data_shape, chunk_size, chan_names, dtype, clims, overwrite=True)    \n",
    "# Now begin the rime loop \n",
    "for t in range(3):\n",
    "    \n",
    "    # At each time point, write data for all positions\n",
    "    for pos in range(num_pos):\n",
    "        \n",
    "        print(f'Writing Position {pos} at Time {t}')\n",
    "        \n",
    "        #write this position data\n",
    "        writer.write(data[pos, t], p=pos, t=t, c=slice(0, 2), z=slice(0, 65))"
   ]
  },
  {
   "cell_type": "code",
   "execution_count": 19,
   "id": "8b00e1fb",
   "metadata": {},
   "outputs": [
    {
     "name": "stdout",
     "output_type": "stream",
     "text": [
      "/\n",
      " ├── A\n",
      " │   ├── 1\n",
      " │   │   ├── FOV1\n",
      " │   │   │   └── array (3, 2, 11, 256, 256) float32\n",
      " │   │   └── FOV2\n",
      " │   │       └── array (3, 2, 11, 256, 256) float32\n",
      " │   ├── 2\n",
      " │   │   ├── FOV1\n",
      " │   │   │   └── array (3, 2, 11, 256, 256) float32\n",
      " │   │   └── FOV2\n",
      " │   │       └── array (3, 2, 11, 256, 256) float32\n",
      " │   ├── 3\n",
      " │   │   ├── FOV1\n",
      " │   │   │   └── array (3, 2, 11, 256, 256) float32\n",
      " │   │   └── FOV2\n",
      " │   │       └── array (3, 2, 11, 256, 256) float32\n",
      " │   └── 4\n",
      " │       ├── FOV1\n",
      " │       │   └── array (3, 2, 11, 256, 256) float32\n",
      " │       └── FOV2\n",
      " │           └── array (3, 2, 11, 256, 256) float32\n",
      " ├── B\n",
      " │   ├── 1\n",
      " │   │   ├── FOV1\n",
      " │   │   │   └── array (3, 2, 11, 256, 256) float32\n",
      " │   │   └── FOV2\n",
      " │   │       └── array (3, 2, 11, 256, 256) float32\n",
      " │   ├── 2\n",
      " │   │   ├── FOV1\n",
      " │   │   │   └── array (3, 2, 11, 256, 256) float32\n",
      " │   │   └── FOV2\n",
      " │   │       └── array (3, 2, 11, 256, 256) float32\n",
      " │   ├── 3\n",
      " │   │   ├── FOV1\n",
      " │   │   │   └── array (3, 2, 11, 256, 256) float32\n",
      " │   │   └── FOV2\n",
      " │   │       └── array (3, 2, 11, 256, 256) float32\n",
      " │   └── 4\n",
      " │       ├── FOV1\n",
      " │       │   └── array (3, 2, 11, 256, 256) float32\n",
      " │       └── FOV2\n",
      " │           └── array (3, 2, 11, 256, 256) float32\n",
      " ├── C\n",
      " │   ├── 1\n",
      " │   │   ├── FOV1\n",
      " │   │   │   └── array (3, 2, 11, 256, 256) float32\n",
      " │   │   └── FOV2\n",
      " │   │       └── array (3, 2, 11, 256, 256) float32\n",
      " │   ├── 2\n",
      " │   │   ├── FOV1\n",
      " │   │   │   └── array (3, 2, 11, 256, 256) float32\n",
      " │   │   └── FOV2\n",
      " │   │       └── array (3, 2, 11, 256, 256) float32\n",
      " │   ├── 3\n",
      " │   │   ├── FOV1\n",
      " │   │   │   └── array (3, 2, 11, 256, 256) float32\n",
      " │   │   └── FOV2\n",
      " │   │       └── array (3, 2, 11, 256, 256) float32\n",
      " │   └── 4\n",
      " │       ├── FOV1\n",
      " │       │   └── array (3, 2, 11, 256, 256) float32\n",
      " │       └── FOV2\n",
      " │           └── array (3, 2, 11, 256, 256) float32\n",
      " └── D\n",
      "     ├── 1\n",
      "     │   ├── FOV1\n",
      "     │   │   └── array (3, 2, 11, 256, 256) float32\n",
      "     │   └── FOV2\n",
      "     │       └── array (3, 2, 11, 256, 256) float32\n",
      "     ├── 2\n",
      "     │   ├── FOV1\n",
      "     │   │   └── array (3, 2, 11, 256, 256) float32\n",
      "     │   └── FOV2\n",
      "     │       └── array (3, 2, 11, 256, 256) float32\n",
      "     ├── 3\n",
      "     │   ├── FOV1\n",
      "     │   │   └── array (3, 2, 11, 256, 256) float32\n",
      "     │   └── FOV2\n",
      "     │       └── array (3, 2, 11, 256, 256) float32\n",
      "     └── 4\n",
      "         ├── FOV1\n",
      "         │   └── array (3, 2, 11, 256, 256) float32\n",
      "         └── FOV2\n",
      "             └── array (3, 2, 11, 256, 256) float32\n"
     ]
    }
   ],
   "source": [
    "print(writer.store.tree())"
   ]
  },
  {
   "cell_type": "code",
   "execution_count": null,
   "id": "de34e590",
   "metadata": {},
   "outputs": [],
   "source": []
  }
 ],
 "metadata": {
  "kernelspec": {
   "display_name": "Python 3",
   "language": "python",
   "name": "python3"
  },
  "language_info": {
   "codemirror_mode": {
    "name": "ipython",
    "version": 3
   },
   "file_extension": ".py",
   "mimetype": "text/x-python",
   "name": "python",
   "nbconvert_exporter": "python",
   "pygments_lexer": "ipython3",
   "version": "3.7.10"
  }
 },
 "nbformat": 4,
 "nbformat_minor": 5
}