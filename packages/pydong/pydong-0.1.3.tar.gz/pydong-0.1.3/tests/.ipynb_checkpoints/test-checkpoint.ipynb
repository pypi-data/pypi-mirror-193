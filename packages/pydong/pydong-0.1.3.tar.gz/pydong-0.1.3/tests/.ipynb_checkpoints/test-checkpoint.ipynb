{
 "cells": [
  {
   "cell_type": "code",
   "execution_count": 3,
   "id": "3e388f6d-0e2a-4e36-bb9a-071f26353993",
   "metadata": {},
   "outputs": [],
   "source": [
    "from pydong import *"
   ]
  },
  {
   "cell_type": "code",
   "execution_count": 7,
   "id": "387f3436-5a53-4f94-99fd-eb76b1c6eff9",
   "metadata": {},
   "outputs": [],
   "source": [
    "import pydong"
   ]
  },
  {
   "cell_type": "code",
   "execution_count": 4,
   "id": "bfb19bc2-0148-47a2-8186-959c6dec2e80",
   "metadata": {},
   "outputs": [
    {
     "data": {
      "text/plain": [
       "'0.1.2'"
      ]
     },
     "execution_count": 4,
     "metadata": {},
     "output_type": "execute_result"
    }
   ],
   "source": [
    "pydong.__version__"
   ]
  },
  {
   "cell_type": "code",
   "execution_count": 14,
   "id": "d7242af4-0034-441a-80ed-ad0affba3900",
   "metadata": {},
   "outputs": [],
   "source": [
    "@try_except\n",
    "def divide(a, b):\n",
    "    return a/b"
   ]
  }
 ],
 "metadata": {
  "kernelspec": {
   "display_name": "Python 3 (ipykernel)",
   "language": "python",
   "name": "python3"
  },
  "language_info": {
   "codemirror_mode": {
    "name": "ipython",
    "version": 3
   },
   "file_extension": ".py",
   "mimetype": "text/x-python",
   "name": "python",
   "nbconvert_exporter": "python",
   "pygments_lexer": "ipython3",
   "version": "3.9.5"
  }
 },
 "nbformat": 4,
 "nbformat_minor": 5
}
