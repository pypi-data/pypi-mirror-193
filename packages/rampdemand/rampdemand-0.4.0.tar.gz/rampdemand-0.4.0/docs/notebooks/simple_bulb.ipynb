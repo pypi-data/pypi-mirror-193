{
 "cells": [
  {
   "cell_type": "markdown",
   "id": "208fe9e9",
   "metadata": {},
   "source": [
    "# Simple Appliances with multiple functioning time"
   ]
  },
  {
   "cell_type": "code",
   "execution_count": 1,
   "id": "4761038e",
   "metadata": {},
   "outputs": [],
   "source": [
    "# importing functions\n",
    "from ramp import User,calc_peak_time_range,yearly_pattern\n",
    "import pandas as pd"
   ]
  },
  {
   "cell_type": "markdown",
   "id": "a07be2a6",
   "metadata": {},
   "source": [
    "### Creating a user category "
   ]
  },
  {
   "cell_type": "code",
   "execution_count": 2,
   "id": "77e6919a",
   "metadata": {},
   "outputs": [],
   "source": [
    "household = User(\n",
    "    user_name = \"Household\",\n",
    "    num_users = 10,\n",
    ")"
   ]
  },
  {
   "cell_type": "markdown",
   "id": "8628f23a",
   "metadata": {},
   "source": [
    "### Creating a simple appliance with two functioning time"
   ]
  },
  {
   "cell_type": "code",
   "execution_count": 3,
   "id": "76ff56d6",
   "metadata": {},
   "outputs": [],
   "source": [
    "indoor_bulb = household.add_appliance(\n",
    "    name = \"Indoor Light Bulb\",\n",
    "    number = 6,\n",
    "    power  = 7,\n",
    "    num_windows = 2,\n",
    "    func_time = 120,\n",
    "    time_fraction_random_variability = 0.2,\n",
    "    func_cycle = 10,\n",
    "    window_1 = [1170,1440], # from 19:30 to 24:00\n",
    "    window_2 = [0,30], # from 24 to 00:30\n",
    "    random_var_w = 0.35,\n",
    ")\n"
   ]
  },
  {
   "cell_type": "code",
   "execution_count": 4,
   "id": "f07cd11c",
   "metadata": {
    "scrolled": true
   },
   "outputs": [
    {
     "data": {
      "text/plain": [
       "<AxesSubplot:>"
      ]
     },
     "execution_count": 4,
     "metadata": {},
     "output_type": "execute_result"
    },
    {
     "data": {
      "image/png": "[encoded data removed]",
      "text/plain": [
       "<Figure size 432x288 with 1 Axes>"
      ]
     },
     "metadata": {
      "needs_background": "light"
     },
     "output_type": "display_data"
    },
    {
     "data": {
      "image/png": "[encoded data removed]",
      "text/plain": [
       "<Figure size 432x288 with 1 Axes>"
      ]
     },
     "metadata": {
      "needs_background": "light"
     },
     "output_type": "display_data"
    }
   ],
   "source": [
    "# Checking the maximum profile of the appliance and user\n",
    "\n",
    "max_profile_bulb = pd.DataFrame(indoor_bulb.maximum_profile,columns=[\"appliance\"])\n",
    "max_profile_user = pd.DataFrame(household.maximum_profile,columns=[\"household\"])\n",
    "\n",
    "max_profile_bulb.plot()\n",
    "max_profile_user.plot()"
   ]
  },
  {
   "cell_type": "markdown",
   "id": "d16765c1",
   "metadata": {},
   "source": [
    "### Defining the peak time range using the calc_peak_time_range"
   ]
  },
  {
   "cell_type": "code",
   "execution_count": 5,
   "id": "8c779916",
   "metadata": {},
   "outputs": [
    {
     "name": "stdout",
     "output_type": "stream",
     "text": [
      "[1222 1223 1224 1225 1226 1227 1228 1229 1230 1231 1232 1233 1234 1235\n",
      " 1236 1237 1238 1239 1240 1241 1242 1243 1244 1245 1246 1247 1248 1249\n",
      " 1250 1251 1252 1253 1254 1255 1256 1257 1258 1259 1260 1261 1262 1263\n",
      " 1264 1265 1266 1267 1268 1269 1270 1271 1272 1273 1274 1275 1276 1277\n",
      " 1278 1279 1280 1281 1282 1283 1284 1285 1286 1287 1288 1289 1290 1291\n",
      " 1292 1293 1294 1295 1296 1297 1298 1299 1300 1301 1302 1303 1304 1305\n",
      " 1306 1307 1308 1309 1310 1311 1312 1313 1314 1315 1316 1317 1318 1319\n",
      " 1320 1321 1322 1323 1324 1325 1326 1327 1328 1329 1330 1331 1332 1333\n",
      " 1334 1335 1336 1337 1338 1339 1340 1341 1342 1343 1344 1345 1346 1347\n",
      " 1348 1349 1350 1351 1352 1353 1354 1355 1356 1357 1358 1359 1360 1361\n",
      " 1362 1363 1364 1365 1366 1367 1368 1369]\n"
     ]
    }
   ],
   "source": [
    "peak_time_range = calc_peak_time_range(\n",
    "    user_list = [household]\n",
    ")\n",
    "\n",
    "print(peak_time_range)"
   ]
  },
  {
   "cell_type": "markdown",
   "id": "ae3e5eed",
   "metadata": {},
   "source": [
    "### Defining the yearly patterns\n",
    "by default the yearly_pattern function returns weekdays (defined by 0) /weekends (defined by 1) division"
   ]
  },
  {
   "cell_type": "code",
   "execution_count": 6,
   "id": "6e08d850",
   "metadata": {},
   "outputs": [
    {
     "name": "stdout",
     "output_type": "stream",
     "text": [
      "[0. 0. 0. 0. 0. 1. 1. 0. 0. 0. 0. 0. 1. 1. 0. 0. 0. 0. 0. 1. 1. 0. 0. 0.\n",
      " 0. 0. 1. 1. 0. 0. 0. 0. 0. 1. 1. 0. 0. 0. 0. 0. 1. 1. 0. 0. 0. 0. 0. 1.\n",
      " 1. 0. 0. 0. 0. 0. 1. 1. 0. 0. 0. 0. 0. 1. 1. 0. 0. 0. 0. 0. 1. 1. 0. 0.\n",
      " 0. 0. 0. 1. 1. 0. 0. 0. 0. 0. 1. 1. 0. 0. 0. 0. 0. 1. 1. 0. 0. 0. 0. 0.\n",
      " 1. 1. 0. 0. 0. 0. 0. 1. 1. 0. 0. 0. 0. 0. 1. 1. 0. 0. 0. 0. 0. 1. 1. 0.\n",
      " 0. 0. 0. 0. 1. 1. 0. 0. 0. 0. 0. 1. 1. 0. 0. 0. 0. 0. 1. 1. 0. 0. 0. 0.\n",
      " 0. 1. 1. 0. 0. 0. 0. 0. 1. 1. 0. 0. 0. 0. 0. 1. 1. 0. 0. 0. 0. 0. 1. 1.\n",
      " 0. 0. 0. 0. 0. 1. 1. 0. 0. 0. 0. 0. 1. 1. 0. 0. 0. 0. 0. 1. 1. 0. 0. 0.\n",
      " 0. 0. 1. 1. 0. 0. 0. 0. 0. 1. 1. 0. 0. 0. 0. 0. 1. 1. 0. 0. 0. 0. 0. 1.\n",
      " 1. 0. 0. 0. 0. 0. 1. 1. 0. 0. 0. 0. 0. 1. 1. 0. 0. 0. 0. 0. 1. 1. 0. 0.\n",
      " 0. 0. 0. 1. 1. 0. 0. 0. 0. 0. 1. 1. 0. 0. 0. 0. 0. 1. 1. 0. 0. 0. 0. 0.\n",
      " 1. 1. 0. 0. 0. 0. 0. 1. 1. 0. 0. 0. 0. 0. 1. 1. 0. 0. 0. 0. 0. 1. 1. 0.\n",
      " 0. 0. 0. 0. 1. 1. 0. 0. 0. 0. 0. 1. 1. 0. 0. 0. 0. 0. 1. 1. 0. 0. 0. 0.\n",
      " 0. 1. 1. 0. 0. 0. 0. 0. 1. 1. 0. 0. 0. 0. 0. 1. 1. 0. 0. 0. 0. 0. 1. 1.\n",
      " 0. 0. 0. 0. 0. 1. 1. 0. 0. 0. 0. 0. 1. 1. 0. 0. 0. 0. 0. 1. 1. 0. 0. 0.\n",
      " 0. 0. 1. 1. 0.]\n"
     ]
    }
   ],
   "source": [
    "year_behaviour = yearly_pattern()\n",
    "\n",
    "print(year_behaviour)"
   ]
  },
  {
   "cell_type": "markdown",
   "id": "f39ad72e",
   "metadata": {},
   "source": [
    "### Generating a profile for the ith day of the year"
   ]
  },
  {
   "cell_type": "code",
   "execution_count": 7,
   "id": "e4ea14ed",
   "metadata": {},
   "outputs": [],
   "source": [
    "single_profile = household.generate_single_load_profile(\n",
    "    prof_i = 1, # the day to generate the profile\n",
    "    peak_time_range = peak_time_range,\n",
    "    day_type = year_behaviour[1]\n",
    ")\n"
   ]
  },
  {
   "cell_type": "code",
   "execution_count": 8,
   "id": "04545584",
   "metadata": {},
   "outputs": [
    {
     "data": {
      "text/plain": [
       "<AxesSubplot:>"
      ]
     },
     "execution_count": 8,
     "metadata": {},
     "output_type": "execute_result"
    },
    {
     "data": {
      "image/png": "[encoded data removed]",
      "text/plain": [
       "<Figure size 432x288 with 1 Axes>"
      ]
     },
     "metadata": {
      "needs_background": "light"
     },
     "output_type": "display_data"
    }
   ],
   "source": [
    "single_profile = pd.DataFrame(single_profile,columns=[\"household\"])\n",
    "single_profile.plot()"
   ]
  },
  {
   "cell_type": "markdown",
   "id": "91442f65",
   "metadata": {},
   "source": [
    "### whole year profile can be generated"
   ]
  },
  {
   "cell_type": "code",
   "execution_count": 9,
   "id": "7c526fd2",
   "metadata": {},
   "outputs": [],
   "source": [
    "whole_year_profile = []\n",
    "\n",
    "for i in range(365):\n",
    "    whole_year_profile.extend(\n",
    "        household.generate_single_load_profile(\n",
    "                prof_i = i,\n",
    "                peak_time_range = peak_time_range,\n",
    "                day_type = year_behaviour[i]\n",
    "                \n",
    "        )\n",
    "    )"
   ]
  },
  {
   "cell_type": "code",
   "execution_count": 10,
   "id": "465bebb8",
   "metadata": {},
   "outputs": [],
   "source": [
    "### Generating aggregated_load_profile for the user category"
   ]
  },
  {
   "cell_type": "code",
   "execution_count": 11,
   "id": "3ed3f527",
   "metadata": {},
   "outputs": [],
   "source": [
    "aggregated_profile = household.generate_aggregated_load_profile(\n",
    "    prof_i=1,\n",
    "    peak_time_range=peak_time_range,\n",
    "    day_type=year_behaviour[1]\n",
    ")"
   ]
  },
  {
   "cell_type": "code",
   "execution_count": 12,
   "id": "9bb8f29c",
   "metadata": {},
   "outputs": [
    {
     "data": {
      "text/plain": [
       "<AxesSubplot:>"
      ]
     },
     "execution_count": 12,
     "metadata": {},
     "output_type": "execute_result"
    },
    {
     "data": {
      "image/png": "[encoded data removed]",
      "text/plain": [
       "<Figure size 432x288 with 1 Axes>"
      ]
     },
     "metadata": {
      "needs_background": "light"
     },
     "output_type": "display_data"
    }
   ],
   "source": [
    "aggregated_profile = pd.DataFrame(aggregated_profile,columns = [\"household\"])\n",
    "aggregated_profile.plot()"
   ]
  }
 ],
 "metadata": {
  "kernelspec": {
   "display_name": "Python 3",
   "language": "python",
   "name": "python3"
  },
  "language_info": {
   "codemirror_mode": {
    "name": "ipython",
    "version": 3
   },
   "file_extension": ".py",
   "mimetype": "text/x-python",
   "name": "python",
   "nbconvert_exporter": "python",
   "pygments_lexer": "ipython3",
   "version": "3.8.8"
  }
 },
 "nbformat": 4,
 "nbformat_minor": 5
}
