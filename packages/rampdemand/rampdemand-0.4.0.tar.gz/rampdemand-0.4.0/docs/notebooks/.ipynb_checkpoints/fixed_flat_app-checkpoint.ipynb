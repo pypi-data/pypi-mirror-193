{
 "cells": [
  {
   "cell_type": "markdown",
   "id": "0b4c1189",
   "metadata": {},
   "source": [
    "# Fixed-Flat Appliance"
   ]
  },
  {
   "cell_type": "code",
   "execution_count": 1,
   "id": "45adebb9",
   "metadata": {},
   "outputs": [],
   "source": [
    "# importing functions\n",
    "from ramp import User,calc_peak_time_range,yearly_pattern\n",
    "import pandas as pd"
   ]
  },
  {
   "cell_type": "markdown",
   "id": "a928b309",
   "metadata": {},
   "source": [
    "### Creating a user"
   ]
  },
  {
   "cell_type": "code",
   "execution_count": 2,
   "id": "240f3bd8",
   "metadata": {},
   "outputs": [],
   "source": [
    "school = User(\n",
    "    user_name = \"School\",\n",
    "    num_users = 1\n",
    ")"
   ]
  },
  {
   "cell_type": "markdown",
   "id": "bfe03b0d",
   "metadata": {},
   "source": [
    "### Adding an appliance with flat and fixed consumption"
   ]
  },
  {
   "cell_type": "code",
   "execution_count": 3,
   "id": "63d2c6f2",
   "metadata": {},
   "outputs": [],
   "source": [
    "indoor_bulb = school.add_appliance(\n",
    "    name = \"Indoor Light Bulb\",\n",
    "    number = 10,\n",
    "    power  = 25,\n",
    "    num_windows = 1,\n",
    "    func_time = 210,\n",
    "    time_fraction_random_variability = 0.2,\n",
    "    func_cycle = 60,\n",
    "    fixed = \"yes\",\n",
    "    flat = \"yes\",\n",
    "    \n",
    ")\n",
    "indoor_bulb.windows(\n",
    "    window_1 = [1200,1440], # from 20:00 to 24:00\n",
    "    window_2 = [0,0], \n",
    "    random_var_w = 0.35,\n",
    ")"
   ]
  },
  {
   "cell_type": "markdown",
   "id": "2928b830",
   "metadata": {},
   "source": [
    "### Defining the peak time range using the calc_peak_time_range"
   ]
  },
  {
   "cell_type": "code",
   "execution_count": 4,
   "id": "0ce9c747",
   "metadata": {},
   "outputs": [],
   "source": [
    "peak_time_range = calc_peak_time_range(\n",
    "    user_list = [school]\n",
    ")"
   ]
  },
  {
   "cell_type": "markdown",
   "id": "46e980bc",
   "metadata": {},
   "source": [
    "### Defining the yearly patterns\n",
    "by default the yearly_pattern function returns weekdays (defined by 0) /weekends (defined by 1) division"
   ]
  },
  {
   "cell_type": "code",
   "execution_count": 5,
   "id": "5dfe9a4d",
   "metadata": {},
   "outputs": [],
   "source": [
    "year_behaviour = yearly_pattern()"
   ]
  },
  {
   "cell_type": "markdown",
   "id": "e6f59618",
   "metadata": {},
   "source": [
    "### Generating a profile for the 1st week of the year"
   ]
  },
  {
   "cell_type": "code",
   "execution_count": 8,
   "id": "bb051491",
   "metadata": {},
   "outputs": [],
   "source": [
    "first_week = []\n",
    "\n",
    "for i in range(7):\n",
    "    first_week.extend(\n",
    "        school.generate_single_load_profile(\n",
    "            prof_i = i, # the day to generate the profile\n",
    "            peak_time_range = peak_time_range,\n",
    "            Year_behaviour = year_behaviour\n",
    "        )\n",
    "    )\n",
    "    "
   ]
  },
  {
   "cell_type": "code",
   "execution_count": 9,
   "id": "a45ddd97",
   "metadata": {},
   "outputs": [
    {
     "data": {
      "text/plain": [
       "<AxesSubplot:>"
      ]
     },
     "execution_count": 9,
     "metadata": {},
     "output_type": "execute_result"
    },
    {
     "data": {
      "image/png": "[encoded data removed]",
      "text/plain": [
       "<Figure size 432x288 with 1 Axes>"
      ]
     },
     "metadata": {
      "needs_background": "light"
     },
     "output_type": "display_data"
    }
   ],
   "source": [
    "first_week = pd.DataFrame(first_week,columns=[\"household\"])\n",
    "first_week.plot()"
   ]
  }
 ],
 "metadata": {
  "kernelspec": {
   "display_name": "Python 3",
   "language": "python",
   "name": "python3"
  },
  "language_info": {
   "codemirror_mode": {
    "name": "ipython",
    "version": 3
   },
   "file_extension": ".py",
   "mimetype": "text/x-python",
   "name": "python",
   "nbconvert_exporter": "python",
   "pygments_lexer": "ipython3",
   "version": "3.8.8"
  }
 },
 "nbformat": 4,
 "nbformat_minor": 5
}
