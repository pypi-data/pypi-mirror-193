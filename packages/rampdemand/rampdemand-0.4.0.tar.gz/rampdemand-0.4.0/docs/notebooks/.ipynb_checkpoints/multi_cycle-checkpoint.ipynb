{
 "cells": [
  {
   "cell_type": "markdown",
   "id": "958f4762",
   "metadata": {},
   "source": [
    "# Appliances with multiple cycles"
   ]
  },
  {
   "cell_type": "markdown",
   "id": "502f80ea",
   "metadata": {},
   "source": [
    "An example of an appliance with multiple cycle is fridge.\n",
    "Fridges usually have different duty cycles can be estimated based on seasonal temperature trends.\n",
    "\n",
    "In this example a fridge with 3 different duty cycles is modelled. The time windows are defined for 3 different cycles for 3 different season types:\n",
    "\n",
    "\n",
    "| season type |               Standard cycle              |  Intermediate cycle |   Intensive cycle   |\n",
    "|-------------|:-----------------------------------------:|:-------------------:|:-------------------:|\n",
    "| Hot         | 00:00:00 - 04:59:00 & 20:01:00 - 23:59:00 | 05:00:00 - 07:59:00 | 08:00:00 - 20:00:00 |\n",
    "| Warm        | 00:00:00 - 04:59:00 & 18:01:00 - 23:59:00 | 05:00:00 - 09:39:00 | 09:40:00 - 18:00:00 |\n",
    "| Cold        | 00:00:00 - 04:59:00 & 20:01:00 - 23:59:00 | 05:00:00 - 20:00:00 |          -          |"
   ]
  },
  {
   "cell_type": "markdown",
   "id": "cc219a58",
   "metadata": {},
   "source": [
    "### Creating the user and appliance"
   ]
  },
  {
   "cell_type": "code",
   "execution_count": 1,
   "id": "11ae5ad8",
   "metadata": {},
   "outputs": [],
   "source": [
    "# importing functions\n",
    "from ramp import User,calc_peak_time_range,yearly_pattern\n",
    "import pandas as pd"
   ]
  },
  {
   "cell_type": "code",
   "execution_count": 3,
   "id": "7a2cf797",
   "metadata": {},
   "outputs": [],
   "source": [
    "# creating user\n",
    "household = User()"
   ]
  },
  {
   "cell_type": "code",
   "execution_count": 4,
   "id": "d1cca48f",
   "metadata": {},
   "outputs": [],
   "source": [
    "# creating the appliance\n",
    "fridge = household.Appliance(\n",
    "    name = \"Fridge\",\n",
    "    number = 1,\n",
    "    power  = 200,\n",
    "    num_windows = 1,\n",
    "    func_time = 1400,\n",
    "    time_fraction_random_variability = 0,\n",
    "    func_cycle = 30,\n",
    "    fixed = \"yes\",\n",
    "    fixed_cycle = 3, # number of cycles\n",
    ")"
   ]
  },
  {
   "cell_type": "code",
   "execution_count": 6,
   "id": "c2a63ac9",
   "metadata": {},
   "outputs": [],
   "source": [
    "# setting the functioning windows\n",
    "fridge.windows([0,1440]) # always on during the whole year\n"
   ]
  },
  {
   "cell_type": "markdown",
   "id": "c0aecf38",
   "metadata": {},
   "source": [
    "### Assigining the specific cycles"
   ]
  },
  {
   "cell_type": "code",
   "execution_count": 9,
   "id": "d2764645",
   "metadata": {},
   "outputs": [],
   "source": [
    "# assiging the specific cycles\n",
    "# first cycle: standard cycle\n",
    "fridge.specific_cycle_1(\n",
    "    p_11 = 200,\n",
    "    t_11 = 20,\n",
    "    p_12 = 5,\n",
    "    t_12 = 10,\n",
    ")\n",
    "\n",
    "# second cycle: intermediate cycle\n",
    "fridge.specific_cycle_2(\n",
    "    p_21 = 200,\n",
    "    t_21 = 15,\n",
    "    p_22 = 5,\n",
    "    t_22 = 15,\n",
    ")\n",
    "\n",
    "# third cycle: intensive cycle\n",
    "fridge.specific_cycle_3(\n",
    "    p_31 = 200,\n",
    "    t_31 = 10,\n",
    "    p_32 = 5,\n",
    "    t_32 = 20,\n",
    ")"
   ]
  },
  {
   "cell_type": "markdown",
   "id": "fa5bbd96",
   "metadata": {},
   "source": [
    "After defining the cycle power and duration parameters, the time windows of year at which the cycles happens should be specifid by:"
   ]
  },
  {
   "cell_type": "code",
   "execution_count": 10,
   "id": "37c740bd",
   "metadata": {},
   "outputs": [],
   "source": [
    "# defining cycle behaviour\n",
    "fridge.cycle_behaviour(\n",
    "    cw11 = [480,1200],\n",
    "    cw21 = [300,479],\n",
    "    cw31 = [0,229],\n",
    "    cw32 = [1201,1440]\n",
    ")"
   ]
  },
  {
   "cell_type": "markdown",
   "id": "8ee25e91",
   "metadata": {},
   "source": [
    "### Buidling the profiles"
   ]
  },
  {
   "cell_type": "code",
   "execution_count": 12,
   "id": "50fcfd29",
   "metadata": {},
   "outputs": [],
   "source": [
    "peak_time_range = calc_peak_time_range(\n",
    "    user_list = [household]\n",
    ")\n",
    "year_behaviour = yearly_pattern()"
   ]
  },
  {
   "cell_type": "code",
   "execution_count": null,
   "id": "7e3fdaaa",
   "metadata": {},
   "outputs": [],
   "source": [
    "# days to build the profiles\n",
    "days = {\n",
    "    \"May-16\": 136,\n",
    "    \"August-16\": 228,\n",
    "    \"December-16\": \n",
    "}"
   ]
  }
 ],
 "metadata": {
  "kernelspec": {
   "display_name": "Python 3",
   "language": "python",
   "name": "python3"
  },
  "language_info": {
   "codemirror_mode": {
    "name": "ipython",
    "version": 3
   },
   "file_extension": ".py",
   "mimetype": "text/x-python",
   "name": "python",
   "nbconvert_exporter": "python",
   "pygments_lexer": "ipython3",
   "version": "3.8.8"
  }
 },
 "nbformat": 4,
 "nbformat_minor": 5
}
