{
 "cells": [
  {
   "cell_type": "markdown",
   "id": "a4ecebf6",
   "metadata": {},
   "source": [
    "# Thermal loads\n",
    "\n",
    "This example input file represents a single household user whose only load\n",
    "is the \"shower\". The example showcases how to model thermal loads by means of\n",
    "the thermal_P_var attribute."
   ]
  },
  {
   "cell_type": "code",
   "execution_count": 1,
   "id": "e6d72eaa",
   "metadata": {},
   "outputs": [],
   "source": [
    "# importing functions\n",
    "from ramp import User,calc_peak_time_range,yearly_pattern\n",
    "from ramp import load_data\n",
    "import pandas as pd"
   ]
  },
  {
   "cell_type": "markdown",
   "id": "0a6ccd54",
   "metadata": {},
   "source": [
    "### Creating a user category and appliances"
   ]
  },
  {
   "cell_type": "code",
   "execution_count": 2,
   "id": "70b0f3cb",
   "metadata": {},
   "outputs": [],
   "source": [
    "household = User()"
   ]
  },
  {
   "cell_type": "markdown",
   "id": "808da9d5",
   "metadata": {},
   "source": [
    "when the power is variant during the day, the \"power\" parameter needs to be passed as a pd.DataFrame or np.array with a daily profile (365 rows of data). For this exercise, data can be loaded from the default examples in ramp:"
   ]
  },
  {
   "cell_type": "code",
   "execution_count": 3,
   "id": "41280681",
   "metadata": {},
   "outputs": [],
   "source": [
    "shower_power = load_data(example=\"shower\")"
   ]
  },
  {
   "cell_type": "code",
   "execution_count": 4,
   "id": "1d5b6d41",
   "metadata": {},
   "outputs": [
    {
     "data": {
      "text/plain": [
       "<AxesSubplot:>"
      ]
     },
     "execution_count": 4,
     "metadata": {},
     "output_type": "execute_result"
    },
    {
     "data": {
      "image/png": "[encoded data removed]",
      "text/plain": [
       "<Figure size 432x288 with 1 Axes>"
      ]
     },
     "metadata": {
      "needs_background": "light"
     },
     "output_type": "display_data"
    }
   ],
   "source": [
    "# shower power distribution\n",
    "shower_power.plot()"
   ]
  },
  {
   "cell_type": "code",
   "execution_count": 5,
   "id": "e5e87e38",
   "metadata": {},
   "outputs": [],
   "source": [
    "shower = household.add_appliance(\n",
    "    name = \"Shower\",\n",
    "    number = 1,\n",
    "    power  = shower_power,\n",
    "    num_windows = 2,\n",
    "    func_time = 15,\n",
    "    time_fraction_random_variability = 0.1,\n",
    "    func_cycle = 3,\n",
    "    window_1 = [390,540],\n",
    "    window_2 = [1080,1200],\n",
    "    random_var_w = 0.2\n",
    ")\n"
   ]
  },
  {
   "cell_type": "markdown",
   "id": "f60846e8",
   "metadata": {},
   "source": [
    "### Generating profiles"
   ]
  },
  {
   "cell_type": "code",
   "execution_count": 6,
   "id": "320b7296",
   "metadata": {},
   "outputs": [],
   "source": [
    "peak_time_range = calc_peak_time_range(\n",
    "    user_list = [household]\n",
    ")\n",
    "year_behaviour = yearly_pattern()"
   ]
  },
  {
   "cell_type": "code",
   "execution_count": 7,
   "id": "98cce909",
   "metadata": {},
   "outputs": [],
   "source": [
    "# generating the yearly profiles for different thermal_P_var"
   ]
  },
  {
   "cell_type": "code",
   "execution_count": 8,
   "id": "5cbb9580",
   "metadata": {},
   "outputs": [],
   "source": [
    "def thermal_P_var_sensitivity(values):\n",
    "    \n",
    "    # buidling a pd.DataFrame for saving sensitivity results\n",
    "    results = pd.DataFrame(    \n",
    "        index = pd.date_range(start = \"2020-01-01\",periods = 1440*365,freq=\"T\"),\n",
    "        columns = [f\"P_var = {value}\" for value in values]\n",
    "    )\n",
    "    \n",
    "    for value in values:\n",
    "        \n",
    "        # changing the thermal_P_var\n",
    "        household.thermal_P_var = value\n",
    "        \n",
    "        # creating a list to store profiles for all the years of the year\n",
    "        profiles = []\n",
    "        for day in range(365):\n",
    "\n",
    "            profile = household.generate_single_load_profile(\n",
    "                    prof_i = day, \n",
    "                    peak_time_range = peak_time_range,\n",
    "                    day_type = year_behaviour[day]\n",
    "                )\n",
    "\n",
    "            profiles.extend(profile)\n",
    "            \n",
    "        # assiging the yearly profile for a given sensitivity case\n",
    "        results[f\"P_var = {value}\"] = profiles\n",
    "        \n",
    "    return results"
   ]
  },
  {
   "cell_type": "code",
   "execution_count": 9,
   "id": "03cff922",
   "metadata": {},
   "outputs": [],
   "source": [
    "sensitivity_results = thermal_P_var_sensitivity([0,0.25,0.5,0.75,1])"
   ]
  },
  {
   "cell_type": "code",
   "execution_count": 10,
   "id": "2b544ef0",
   "metadata": {},
   "outputs": [
    {
     "data": {
      "text/html": [
       "<div>\n",
       "<style scoped>\n",
       "    .dataframe tbody tr th:only-of-type {\n",
       "        vertical-align: middle;\n",
       "    }\n",
       "\n",
       "    .dataframe tbody tr th {\n",
       "        vertical-align: top;\n",
       "    }\n",
       "\n",
       "    .dataframe thead th {\n",
       "        text-align: right;\n",
       "    }\n",
       "</style>\n",
       "<table border=\"1\" class=\"dataframe\">\n",
       "  <thead>\n",
       "    <tr style=\"text-align: right;\">\n",
       "      <th></th>\n",
       "      <th>P_var = 0</th>\n",
       "      <th>P_var = 0.25</th>\n",
       "      <th>P_var = 0.5</th>\n",
       "      <th>P_var = 0.75</th>\n",
       "      <th>P_var = 1</th>\n",
       "    </tr>\n",
       "  </thead>\n",
       "  <tbody>\n",
       "    <tr>\n",
       "      <th>2020-01-01 00:00:00</th>\n",
       "      <td>0.0</td>\n",
       "      <td>0.0</td>\n",
       "      <td>0.0</td>\n",
       "      <td>0.0</td>\n",
       "      <td>0.0</td>\n",
       "    </tr>\n",
       "    <tr>\n",
       "      <th>2020-01-01 00:01:00</th>\n",
       "      <td>0.0</td>\n",
       "      <td>0.0</td>\n",
       "      <td>0.0</td>\n",
       "      <td>0.0</td>\n",
       "      <td>0.0</td>\n",
       "    </tr>\n",
       "    <tr>\n",
       "      <th>2020-01-01 00:02:00</th>\n",
       "      <td>0.0</td>\n",
       "      <td>0.0</td>\n",
       "      <td>0.0</td>\n",
       "      <td>0.0</td>\n",
       "      <td>0.0</td>\n",
       "    </tr>\n",
       "    <tr>\n",
       "      <th>2020-01-01 00:03:00</th>\n",
       "      <td>0.0</td>\n",
       "      <td>0.0</td>\n",
       "      <td>0.0</td>\n",
       "      <td>0.0</td>\n",
       "      <td>0.0</td>\n",
       "    </tr>\n",
       "    <tr>\n",
       "      <th>2020-01-01 00:04:00</th>\n",
       "      <td>0.0</td>\n",
       "      <td>0.0</td>\n",
       "      <td>0.0</td>\n",
       "      <td>0.0</td>\n",
       "      <td>0.0</td>\n",
       "    </tr>\n",
       "    <tr>\n",
       "      <th>...</th>\n",
       "      <td>...</td>\n",
       "      <td>...</td>\n",
       "      <td>...</td>\n",
       "      <td>...</td>\n",
       "      <td>...</td>\n",
       "    </tr>\n",
       "    <tr>\n",
       "      <th>2020-12-30 23:55:00</th>\n",
       "      <td>0.0</td>\n",
       "      <td>0.0</td>\n",
       "      <td>0.0</td>\n",
       "      <td>0.0</td>\n",
       "      <td>0.0</td>\n",
       "    </tr>\n",
       "    <tr>\n",
       "      <th>2020-12-30 23:56:00</th>\n",
       "      <td>0.0</td>\n",
       "      <td>0.0</td>\n",
       "      <td>0.0</td>\n",
       "      <td>0.0</td>\n",
       "      <td>0.0</td>\n",
       "    </tr>\n",
       "    <tr>\n",
       "      <th>2020-12-30 23:57:00</th>\n",
       "      <td>0.0</td>\n",
       "      <td>0.0</td>\n",
       "      <td>0.0</td>\n",
       "      <td>0.0</td>\n",
       "      <td>0.0</td>\n",
       "    </tr>\n",
       "    <tr>\n",
       "      <th>2020-12-30 23:58:00</th>\n",
       "      <td>0.0</td>\n",
       "      <td>0.0</td>\n",
       "      <td>0.0</td>\n",
       "      <td>0.0</td>\n",
       "      <td>0.0</td>\n",
       "    </tr>\n",
       "    <tr>\n",
       "      <th>2020-12-30 23:59:00</th>\n",
       "      <td>0.0</td>\n",
       "      <td>0.0</td>\n",
       "      <td>0.0</td>\n",
       "      <td>0.0</td>\n",
       "      <td>0.0</td>\n",
       "    </tr>\n",
       "  </tbody>\n",
       "</table>\n",
       "<p>525600 rows × 5 columns</p>\n",
       "</div>"
      ],
      "text/plain": [
       "                     P_var = 0  P_var = 0.25  P_var = 0.5  P_var = 0.75  \\\n",
       "2020-01-01 00:00:00        0.0           0.0          0.0           0.0   \n",
       "2020-01-01 00:01:00        0.0           0.0          0.0           0.0   \n",
       "2020-01-01 00:02:00        0.0           0.0          0.0           0.0   \n",
       "2020-01-01 00:03:00        0.0           0.0          0.0           0.0   \n",
       "2020-01-01 00:04:00        0.0           0.0          0.0           0.0   \n",
       "...                        ...           ...          ...           ...   \n",
       "2020-12-30 23:55:00        0.0           0.0          0.0           0.0   \n",
       "2020-12-30 23:56:00        0.0           0.0          0.0           0.0   \n",
       "2020-12-30 23:57:00        0.0           0.0          0.0           0.0   \n",
       "2020-12-30 23:58:00        0.0           0.0          0.0           0.0   \n",
       "2020-12-30 23:59:00        0.0           0.0          0.0           0.0   \n",
       "\n",
       "                     P_var = 1  \n",
       "2020-01-01 00:00:00        0.0  \n",
       "2020-01-01 00:01:00        0.0  \n",
       "2020-01-01 00:02:00        0.0  \n",
       "2020-01-01 00:03:00        0.0  \n",
       "2020-01-01 00:04:00        0.0  \n",
       "...                        ...  \n",
       "2020-12-30 23:55:00        0.0  \n",
       "2020-12-30 23:56:00        0.0  \n",
       "2020-12-30 23:57:00        0.0  \n",
       "2020-12-30 23:58:00        0.0  \n",
       "2020-12-30 23:59:00        0.0  \n",
       "\n",
       "[525600 rows x 5 columns]"
      ]
     },
     "execution_count": 10,
     "metadata": {},
     "output_type": "execute_result"
    }
   ],
   "source": [
    "sensitivity_results"
   ]
  },
  {
   "cell_type": "code",
   "execution_count": 11,
   "id": "78743706",
   "metadata": {},
   "outputs": [],
   "source": [
    "# showing the daily average of the load profiles\n",
    "average_daily_profiles = sensitivity_results.resample(\"1d\").mean()"
   ]
  },
  {
   "cell_type": "code",
   "execution_count": 12,
   "id": "29e7de24",
   "metadata": {},
   "outputs": [
    {
     "data": {
      "text/plain": [
       "<AxesSubplot:>"
      ]
     },
     "execution_count": 12,
     "metadata": {},
     "output_type": "execute_result"
    },
    {
     "data": {
      "image/png": "[encoded data removed]",
      "text/plain": [
       "<Figure size 432x288 with 1 Axes>"
      ]
     },
     "metadata": {
      "needs_background": "light"
     },
     "output_type": "display_data"
    }
   ],
   "source": [
    "average_daily_profiles.plot()"
   ]
  }
 ],
 "metadata": {
  "kernelspec": {
   "display_name": "Python 3",
   "language": "python",
   "name": "python3"
  },
  "language_info": {
   "codemirror_mode": {
    "name": "ipython",
    "version": 3
   },
   "file_extension": ".py",
   "mimetype": "text/x-python",
   "name": "python",
   "nbconvert_exporter": "python",
   "pygments_lexer": "ipython3",
   "version": "3.8.8"
  }
 },
 "nbformat": 4,
 "nbformat_minor": 5
}
