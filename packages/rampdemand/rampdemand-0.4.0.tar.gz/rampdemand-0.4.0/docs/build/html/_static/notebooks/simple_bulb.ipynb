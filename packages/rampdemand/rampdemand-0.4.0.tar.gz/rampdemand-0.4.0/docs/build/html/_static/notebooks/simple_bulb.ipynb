{
 "cells": [
  {
   "cell_type": "markdown",
   "id": "208fe9e9",
   "metadata": {},
   "source": [
    "# Simple Appliances with multiple functioning time"
   ]
  },
  {
   "cell_type": "code",
   "execution_count": 1,
   "id": "4761038e",
   "metadata": {},
   "outputs": [],
   "source": [
    "# importing functions\n",
    "from ramp import User,calc_peak_time_range,yearly_pattern\n",
    "import pandas as pd"
   ]
  },
  {
   "cell_type": "markdown",
   "id": "a07be2a6",
   "metadata": {},
   "source": [
    "### Creating a user category "
   ]
  },
  {
   "cell_type": "code",
   "execution_count": 2,
   "id": "77e6919a",
   "metadata": {},
   "outputs": [],
   "source": [
    "household = User(\n",
    "    user_name = \"Household\",\n",
    "    num_users = 10,\n",
    ")"
   ]
  },
  {
   "cell_type": "markdown",
   "id": "8628f23a",
   "metadata": {},
   "source": [
    "### Creating a simple appliance with two functioning time"
   ]
  },
  {
   "cell_type": "code",
   "execution_count": 3,
   "id": "76ff56d6",
   "metadata": {},
   "outputs": [],
   "source": [
    "indoor_bulb = household.Appliance(\n",
    "    name = \"Indoor Light Bulb\",\n",
    "    number = 6,\n",
    "    power  = 7,\n",
    "    num_windows = 2,\n",
    "    func_time = 120,\n",
    "    time_fraction_random_variability = 0.2,\n",
    "    func_cycle = 10\n",
    ")\n",
    "\n",
    "indoor_bulb.windows(\n",
    "    window_1 = [1170,1440], # from 19:30 to 24:00\n",
    "    window_2 = [0,30], # from 24 to 00:30\n",
    "    random_var_w = 0.35,\n",
    ")"
   ]
  },
  {
   "cell_type": "code",
   "execution_count": 4,
   "id": "f07cd11c",
   "metadata": {
    "scrolled": true
   },
   "outputs": [
    {
     "data": {
      "text/plain": [
       "<AxesSubplot:>"
      ]
     },
     "execution_count": 4,
     "metadata": {},
     "output_type": "execute_result"
    },
    {
     "data": {
      "image/png": "[encoded data removed]",
      "text/plain": [
       "<Figure size 432x288 with 1 Axes>"
      ]
     },
     "metadata": {
      "needs_background": "light"
     },
     "output_type": "display_data"
    },
    {
     "data": {
      "image/png": "[encoded data removed]",
      "text/plain": [
       "<Figure size 432x288 with 1 Axes>"
      ]
     },
     "metadata": {
      "needs_background": "light"
     },
     "output_type": "display_data"
    }
   ],
   "source": [
    "# Checking the maximum profile of the appliance and user\n",
    "\n",
    "max_profile_bulb = pd.DataFrame(indoor_bulb.maximum_profile,columns=[\"appliance\"])\n",
    "max_profile_user = pd.DataFrame(household.maximum_profile,columns=[\"household\"])\n",
    "\n",
    "max_profile_bulb.plot()\n",
    "max_profile_user.plot()"
   ]
  },
  {
   "cell_type": "markdown",
   "id": "d16765c1",
   "metadata": {},
   "source": [
    "### Defining the peak time range using the calc_peak_time_range"
   ]
  },
  {
   "cell_type": "code",
   "execution_count": 5,
   "id": "8c779916",
   "metadata": {},
   "outputs": [
    {
     "name": "stdout",
     "output_type": "stream",
     "text": [
      "[675 676 677 678 679 680 681 682 683 684 685 686 687 688 689 690 691 692\n",
      " 693 694 695 696 697 698 699 700 701 702 703 704 705 706 707 708 709 710\n",
      " 711 712 713 714 715 716 717 718 719 720 721 722 723 724 725 726 727 728\n",
      " 729 730 731 732 733 734 735 736 737 738 739 740 741 742 743 744 745 746\n",
      " 747 748]\n"
     ]
    }
   ],
   "source": [
    "peak_time_range = calc_peak_time_range(\n",
    "    user_list = [household]\n",
    ")\n",
    "\n",
    "print(peak_time_range)"
   ]
  },
  {
   "cell_type": "markdown",
   "id": "ae3e5eed",
   "metadata": {},
   "source": [
    "### Defining the yearly patterns\n",
    "by default the yearly_pattern function returns weekdays (defined by 0) /weekends (defined by 1) division"
   ]
  },
  {
   "cell_type": "code",
   "execution_count": 6,
   "id": "6e08d850",
   "metadata": {},
   "outputs": [
    {
     "name": "stdout",
     "output_type": "stream",
     "text": [
      "[0. 0. 0. 0. 0. 1. 1. 0. 0. 0. 0. 0. 1. 1. 0. 0. 0. 0. 0. 1. 1. 0. 0. 0.\n",
      " 0. 0. 1. 1. 0. 0. 0. 0. 0. 1. 1. 0. 0. 0. 0. 0. 1. 1. 0. 0. 0. 0. 0. 1.\n",
      " 1. 0. 0. 0. 0. 0. 1. 1. 0. 0. 0. 0. 0. 1. 1. 0. 0. 0. 0. 0. 1. 1. 0. 0.\n",
      " 0. 0. 0. 1. 1. 0. 0. 0. 0. 0. 1. 1. 0. 0. 0. 0. 0. 1. 1. 0. 0. 0. 0. 0.\n",
      " 1. 1. 0. 0. 0. 0. 0. 1. 1. 0. 0. 0. 0. 0. 1. 1. 0. 0. 0. 0. 0. 1. 1. 0.\n",
      " 0. 0. 0. 0. 1. 1. 0. 0. 0. 0. 0. 1. 1. 0. 0. 0. 0. 0. 1. 1. 0. 0. 0. 0.\n",
      " 0. 1. 1. 0. 0. 0. 0. 0. 1. 1. 0. 0. 0. 0. 0. 1. 1. 0. 0. 0. 0. 0. 1. 1.\n",
      " 0. 0. 0. 0. 0. 1. 1. 0. 0. 0. 0. 0. 1. 1. 0. 0. 0. 0. 0. 1. 1. 0. 0. 0.\n",
      " 0. 0. 1. 1. 0. 0. 0. 0. 0. 1. 1. 0. 0. 0. 0. 0. 1. 1. 0. 0. 0. 0. 0. 1.\n",
      " 1. 0. 0. 0. 0. 0. 1. 1. 0. 0. 0. 0. 0. 1. 1. 0. 0. 0. 0. 0. 1. 1. 0. 0.\n",
      " 0. 0. 0. 1. 1. 0. 0. 0. 0. 0. 1. 1. 0. 0. 0. 0. 0. 1. 1. 0. 0. 0. 0. 0.\n",
      " 1. 1. 0. 0. 0. 0. 0. 1. 1. 0. 0. 0. 0. 0. 1. 1. 0. 0. 0. 0. 0. 1. 1. 0.\n",
      " 0. 0. 0. 0. 1. 1. 0. 0. 0. 0. 0. 1. 1. 0. 0. 0. 0. 0. 1. 1. 0. 0. 0. 0.\n",
      " 0. 1. 1. 0. 0. 0. 0. 0. 1. 1. 0. 0. 0. 0. 0. 1. 1. 0. 0. 0. 0. 0. 1. 1.\n",
      " 0. 0. 0. 0. 0. 1. 1. 0. 0. 0. 0. 0. 1. 1. 0. 0. 0. 0. 0. 1. 1. 0. 0. 0.\n",
      " 0. 0. 1. 1. 0.]\n"
     ]
    }
   ],
   "source": [
    "year_behaviour = yearly_pattern()\n",
    "\n",
    "print(year_behaviour)"
   ]
  },
  {
   "cell_type": "markdown",
   "id": "f39ad72e",
   "metadata": {},
   "source": [
    "### Generating a profile for the ith day of the year"
   ]
  },
  {
   "cell_type": "code",
   "execution_count": 7,
   "id": "e4ea14ed",
   "metadata": {},
   "outputs": [],
   "source": [
    "single_profile = household.generate_single_load_profile(\n",
    "    prof_i = 1, # the day to generate the profile\n",
    "    peak_time_range = peak_time_range,\n",
    "    Year_behaviour = year_behaviour\n",
    ")\n"
   ]
  },
  {
   "cell_type": "code",
   "execution_count": 8,
   "id": "04545584",
   "metadata": {},
   "outputs": [
    {
     "data": {
      "text/plain": [
       "<AxesSubplot:>"
      ]
     },
     "execution_count": 8,
     "metadata": {},
     "output_type": "execute_result"
    },
    {
     "data": {
      "image/png": "[encoded data removed]",
      "text/plain": [
       "<Figure size 432x288 with 1 Axes>"
      ]
     },
     "metadata": {
      "needs_background": "light"
     },
     "output_type": "display_data"
    }
   ],
   "source": [
    "single_profile = pd.DataFrame(single_profile,columns=[\"household\"])\n",
    "single_profile.plot()"
   ]
  },
  {
   "cell_type": "markdown",
   "id": "91442f65",
   "metadata": {},
   "source": [
    "### whole year profile can be generated"
   ]
  },
  {
   "cell_type": "code",
   "execution_count": 9,
   "id": "7c526fd2",
   "metadata": {},
   "outputs": [],
   "source": [
    "whole_year_profile = []\n",
    "\n",
    "for i in range(365):\n",
    "    whole_year_profile.extend(\n",
    "        household.generate_single_load_profile(\n",
    "                prof_i = i,\n",
    "                peak_time_range = peak_time_range,\n",
    "                Year_behaviour = year_behaviour\n",
    "                \n",
    "        )\n",
    "    )"
   ]
  },
  {
   "cell_type": "code",
   "execution_count": 10,
   "id": "465bebb8",
   "metadata": {},
   "outputs": [],
   "source": [
    "### Generating aggregated_load_profile for the user category"
   ]
  },
  {
   "cell_type": "code",
   "execution_count": 11,
   "id": "3ed3f527",
   "metadata": {},
   "outputs": [],
   "source": [
    "aggregated_profile = household.generate_aggregated_load_profile(\n",
    "    prof_i = 1,\n",
    "    peak_time_range = peak_time_range,\n",
    "    Year_behaviour = year_behaviour\n",
    ")"
   ]
  },
  {
   "cell_type": "code",
   "execution_count": 12,
   "id": "9bb8f29c",
   "metadata": {},
   "outputs": [
    {
     "data": {
      "text/plain": [
       "<AxesSubplot:>"
      ]
     },
     "execution_count": 12,
     "metadata": {},
     "output_type": "execute_result"
    },
    {
     "data": {
      "image/png": "[encoded data removed]",
      "text/plain": [
       "<Figure size 432x288 with 1 Axes>"
      ]
     },
     "metadata": {
      "needs_background": "light"
     },
     "output_type": "display_data"
    }
   ],
   "source": [
    "aggregated_profile = pd.DataFrame(aggregated_profile,columns = [\"household\"])\n",
    "aggregated_profile.plot()"
   ]
  }
 ],
 "metadata": {
  "kernelspec": {
   "display_name": "Python 3",
   "language": "python",
   "name": "python3"
  },
  "language_info": {
   "codemirror_mode": {
    "name": "ipython",
    "version": 3
   },
   "file_extension": ".py",
   "mimetype": "text/x-python",
   "name": "python",
   "nbconvert_exporter": "python",
   "pygments_lexer": "ipython3",
   "version": "3.8.8"
  }
 },
 "nbformat": 4,
 "nbformat_minor": 5
}
