{
 "cells": [
  {
   "cell_type": "markdown",
   "id": "a4ecebf6",
   "metadata": {},
   "source": [
    "# Thermal loads\n",
    "\n",
    "....\n",
    "\n",
    "In this example, a household whose its only load is the shower."
   ]
  },
  {
   "cell_type": "code",
   "execution_count": null,
   "id": "e6d72eaa",
   "metadata": {},
   "outputs": [],
   "source": [
    "# importing functions\n",
    "from ramp import User,calc_peak_time_range,yearly_pattern\n",
    "from ramp import load_data\n",
    "import pandas as pd"
   ]
  },
  {
   "cell_type": "markdown",
   "id": "0a6ccd54",
   "metadata": {},
   "source": [
    "### Creating a user category and appliances"
   ]
  },
  {
   "cell_type": "code",
   "execution_count": null,
   "id": "70b0f3cb",
   "metadata": {},
   "outputs": [],
   "source": [
    "household = User()"
   ]
  },
  {
   "cell_type": "markdown",
   "id": "808da9d5",
   "metadata": {},
   "source": [
    "when the power is variant during the day, the \"power\" parameter needs to be passed as a pd.DataFrame or np.array with a daily profile (365 rows of data). For this exercise, data can be loaded from the default examples in ramp:"
   ]
  },
  {
   "cell_type": "code",
   "execution_count": null,
   "id": "41280681",
   "metadata": {},
   "outputs": [],
   "source": [
    "shower_power = load_data(example=\"shower\")"
   ]
  },
  {
   "cell_type": "code",
   "execution_count": null,
   "id": "1d5b6d41",
   "metadata": {},
   "outputs": [],
   "source": [
    "# shower power distribution\n",
    "shower_power.plot()"
   ]
  },
  {
   "cell_type": "code",
   "execution_count": null,
   "id": "e5e87e38",
   "metadata": {},
   "outputs": [],
   "source": [
    "shower = household.Appliance(\n",
    "    name = \"Shower\",\n",
    "    number = 1,\n",
    "    power  = shower_power,\n",
    "    num_windows = 2,\n",
    "    func_time = 15,\n",
    "    time_fraction_random_variability = 0.1,\n",
    "    func_cycle = 3,\n",
    "    thermal_P_var = 1,\n",
    ")\n",
    "\n",
    "shower.windows(\n",
    "    window_1 = [390,540],\n",
    "    window_2 = [1080,1200],\n",
    "    random_var_w = 0.2\n",
    ")\n"
   ]
  },
  {
   "cell_type": "markdown",
   "id": "f60846e8",
   "metadata": {},
   "source": [
    "### Generating profiles"
   ]
  },
  {
   "cell_type": "code",
   "execution_count": null,
   "id": "320b7296",
   "metadata": {},
   "outputs": [],
   "source": [
    "peak_time_range = calc_peak_time_range(\n",
    "    user_list = [household]\n",
    ")\n",
    "year_behaviour = yearly_pattern()"
   ]
  },
  {
   "cell_type": "code",
   "execution_count": null,
   "id": "98cce909",
   "metadata": {},
   "outputs": [],
   "source": [
    "# generating the yearly profiles for different thermal_P_var"
   ]
  },
  {
   "cell_type": "code",
   "execution_count": null,
   "id": "5cbb9580",
   "metadata": {},
   "outputs": [],
   "source": [
    "def thermal_P_var_sensitivity(values):\n",
    "    \n",
    "    # buidling a pd.DataFrame for saving sensitivity results\n",
    "    results = pd.DataFrame(    \n",
    "        index = pd.date_range(start = \"2020-01-01\",periods = 1440*365,freq=\"T\"),\n",
    "        columns = [f\"P_var = {value}\" for value in values]\n",
    "    )\n",
    "    \n",
    "    for value in values:\n",
    "        \n",
    "        # changing the thermal_P_var\n",
    "        household.thermal_P_var = value\n",
    "        \n",
    "        # creating a list to sotre profiles for all the years of the year\n",
    "        profiles = []\n",
    "        for day in range(365):\n",
    "\n",
    "            profile = household.generate_single_load_profile(\n",
    "                    prof_i = day, \n",
    "                    peak_time_range = peak_time_range,\n",
    "                    Year_behaviour = year_behaviour\n",
    "                )\n",
    "\n",
    "            profiles.extend(profile)\n",
    "            \n",
    "        # assiging the yearly profile for a given sensitivity case\n",
    "        results[f\"P_var = {value}\"] = profiles\n",
    "        \n",
    "    return results"
   ]
  },
  {
   "cell_type": "code",
   "execution_count": null,
   "id": "03cff922",
   "metadata": {},
   "outputs": [],
   "source": [
    "sensitivity_results = thermal_P_var_sensitivity([0,0.25,0.5,0.75,1])"
   ]
  },
  {
   "cell_type": "code",
   "execution_count": null,
   "id": "2b544ef0",
   "metadata": {},
   "outputs": [],
   "source": [
    "sensitivity_results"
   ]
  },
  {
   "cell_type": "code",
   "execution_count": null,
   "id": "78743706",
   "metadata": {},
   "outputs": [],
   "source": [
    "average_daily_profiles = sensitivity_results.resample(\"1d\").mean()"
   ]
  },
  {
   "cell_type": "code",
   "execution_count": null,
   "id": "29e7de24",
   "metadata": {},
   "outputs": [],
   "source": [
    "average_daily_profiles.plot()"
   ]
  }
 ],
 "metadata": {
  "kernelspec": {
   "display_name": "Python 3",
   "language": "python",
   "name": "python3"
  },
  "language_info": {
   "codemirror_mode": {
    "name": "ipython",
    "version": 3
   },
   "file_extension": ".py",
   "mimetype": "text/x-python",
   "name": "python",
   "nbconvert_exporter": "python",
   "pygments_lexer": "ipython3",
   "version": "3.8.8"
  }
 },
 "nbformat": 4,
 "nbformat_minor": 5
}
