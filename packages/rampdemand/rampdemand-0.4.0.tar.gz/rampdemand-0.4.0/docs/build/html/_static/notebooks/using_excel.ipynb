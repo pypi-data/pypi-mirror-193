{
 "cells": [
  {
   "cell_type": "markdown",
   "id": "377ae9b9",
   "metadata": {},
   "source": [
    "# Using excel to build a model\n",
    "\n",
    "In some cases in which the number of users or appliances are high, it can be difficult to create a model using python scripts. In RAMP, there is the possibility to create inputs using excel. In this example we show a use case of this functionality.\n"
   ]
  },
  {
   "cell_type": "code",
   "execution_count": 1,
   "id": "6f1bcc75",
   "metadata": {},
   "outputs": [],
   "source": [
    "from ramp import User, Appliance, UseCase\n",
    "from ramp import calc_peak_time_range,yearly_pattern\n",
    "import pandas as pd"
   ]
  },
  {
   "cell_type": "markdown",
   "id": "4dbdd7e3",
   "metadata": {},
   "source": [
    "At the first step, user needs to creat User classes and assign Appliances to the user class without assiging detaild appliance characteristics"
   ]
  },
  {
   "cell_type": "markdown",
   "id": "b65420e1",
   "metadata": {},
   "source": [
    "### Buidling a model database"
   ]
  },
  {
   "cell_type": "code",
   "execution_count": 2,
   "id": "555f4e99",
   "metadata": {},
   "outputs": [],
   "source": [
    "# Defining a dict of users with their appliances\n",
    "\n",
    "user_app = {\n",
    "    \"household\" : [\"light\",\"tv\"],\n",
    "    \"school\": [\"light\",\"computer\"]\n",
    "}"
   ]
  },
  {
   "cell_type": "code",
   "execution_count": 3,
   "id": "6c995549",
   "metadata": {},
   "outputs": [],
   "source": [
    "# creating a UseCase class to create the database\n",
    "use_case = UseCase()"
   ]
  },
  {
   "cell_type": "code",
   "execution_count": 4,
   "id": "71023fd6",
   "metadata": {},
   "outputs": [
    {
     "name": "stderr",
     "output_type": "stream",
     "text": [
      "/Users/mohammadamintahavori/Documents/GitHub/RAMP/ramp/core/core.py:738: UserWarning: No windows is declared, default window of 24 hours is selected\n",
      "  warnings.warn(UserWarning(\"No windows is declared, default window of 24 hours is selected\"))\n"
     ]
    }
   ],
   "source": [
    "# assinging the appliances to users\n",
    "for user,apps in user_app.items():\n",
    "    \n",
    "    user_instance = User(user_name = user)\n",
    "    \n",
    "    for app in apps:\n",
    "        app_instance = user_instance.add_appliance(name=app)\n",
    "        app_instance.windows()\n",
    "        \n",
    "    use_case.add_user(user_instance)"
   ]
  },
  {
   "cell_type": "markdown",
   "id": "2688824d",
   "metadata": {},
   "source": [
    "Once the users and appliacnes are added to the use_case instance, the user can get a pd.DataFrame or an excel file of all the data with the default values:"
   ]
  },
  {
   "cell_type": "markdown",
   "id": "e160c4c2",
   "metadata": {},
   "source": [
    "### Exporting the database"
   ]
  },
  {
   "cell_type": "code",
   "execution_count": 5,
   "id": "bb487d48",
   "metadata": {},
   "outputs": [
    {
     "data": {
      "text/html": [
       "<div>\n",
       "<style scoped>\n",
       "    .dataframe tbody tr th:only-of-type {\n",
       "        vertical-align: middle;\n",
       "    }\n",
       "\n",
       "    .dataframe tbody tr th {\n",
       "        vertical-align: top;\n",
       "    }\n",
       "\n",
       "    .dataframe thead th {\n",
       "        text-align: right;\n",
       "    }\n",
       "</style>\n",
       "<table border=\"1\" class=\"dataframe\">\n",
       "  <thead>\n",
       "    <tr style=\"text-align: right;\">\n",
       "      <th></th>\n",
       "      <th>user_name</th>\n",
       "      <th>num_users</th>\n",
       "      <th>user_preference</th>\n",
       "      <th>name</th>\n",
       "      <th>number</th>\n",
       "      <th>power</th>\n",
       "      <th>num_windows</th>\n",
       "      <th>func_time</th>\n",
       "      <th>time_fraction_random_variability</th>\n",
       "      <th>func_cycle</th>\n",
       "      <th>...</th>\n",
       "      <th>cw32_start</th>\n",
       "      <th>cw32_end</th>\n",
       "      <th>r_c3</th>\n",
       "      <th>window_1_start</th>\n",
       "      <th>window_1_end</th>\n",
       "      <th>window_2_start</th>\n",
       "      <th>window_2_end</th>\n",
       "      <th>window_3_start</th>\n",
       "      <th>window_3_end</th>\n",
       "      <th>random_var_w</th>\n",
       "    </tr>\n",
       "  </thead>\n",
       "  <tbody>\n",
       "    <tr>\n",
       "      <th>0</th>\n",
       "      <td>household</td>\n",
       "      <td>1</td>\n",
       "      <td>0</td>\n",
       "      <td>light</td>\n",
       "      <td>1</td>\n",
       "      <td>0.0</td>\n",
       "      <td>1</td>\n",
       "      <td>0</td>\n",
       "      <td>0</td>\n",
       "      <td>1</td>\n",
       "      <td>...</td>\n",
       "      <td>0</td>\n",
       "      <td>0</td>\n",
       "      <td>0</td>\n",
       "      <td>0</td>\n",
       "      <td>1440</td>\n",
       "      <td>0</td>\n",
       "      <td>0</td>\n",
       "      <td>0</td>\n",
       "      <td>0</td>\n",
       "      <td>0</td>\n",
       "    </tr>\n",
       "    <tr>\n",
       "      <th>1</th>\n",
       "      <td>household</td>\n",
       "      <td>1</td>\n",
       "      <td>0</td>\n",
       "      <td>tv</td>\n",
       "      <td>1</td>\n",
       "      <td>0.0</td>\n",
       "      <td>1</td>\n",
       "      <td>0</td>\n",
       "      <td>0</td>\n",
       "      <td>1</td>\n",
       "      <td>...</td>\n",
       "      <td>0</td>\n",
       "      <td>0</td>\n",
       "      <td>0</td>\n",
       "      <td>0</td>\n",
       "      <td>1440</td>\n",
       "      <td>0</td>\n",
       "      <td>0</td>\n",
       "      <td>0</td>\n",
       "      <td>0</td>\n",
       "      <td>0</td>\n",
       "    </tr>\n",
       "    <tr>\n",
       "      <th>2</th>\n",
       "      <td>school</td>\n",
       "      <td>1</td>\n",
       "      <td>0</td>\n",
       "      <td>light</td>\n",
       "      <td>1</td>\n",
       "      <td>0.0</td>\n",
       "      <td>1</td>\n",
       "      <td>0</td>\n",
       "      <td>0</td>\n",
       "      <td>1</td>\n",
       "      <td>...</td>\n",
       "      <td>0</td>\n",
       "      <td>0</td>\n",
       "      <td>0</td>\n",
       "      <td>0</td>\n",
       "      <td>1440</td>\n",
       "      <td>0</td>\n",
       "      <td>0</td>\n",
       "      <td>0</td>\n",
       "      <td>0</td>\n",
       "      <td>0</td>\n",
       "    </tr>\n",
       "    <tr>\n",
       "      <th>3</th>\n",
       "      <td>school</td>\n",
       "      <td>1</td>\n",
       "      <td>0</td>\n",
       "      <td>computer</td>\n",
       "      <td>1</td>\n",
       "      <td>0.0</td>\n",
       "      <td>1</td>\n",
       "      <td>0</td>\n",
       "      <td>0</td>\n",
       "      <td>1</td>\n",
       "      <td>...</td>\n",
       "      <td>0</td>\n",
       "      <td>0</td>\n",
       "      <td>0</td>\n",
       "      <td>0</td>\n",
       "      <td>1440</td>\n",
       "      <td>0</td>\n",
       "      <td>0</td>\n",
       "      <td>0</td>\n",
       "      <td>0</td>\n",
       "      <td>0</td>\n",
       "    </tr>\n",
       "  </tbody>\n",
       "</table>\n",
       "<p>4 rows × 51 columns</p>\n",
       "</div>"
      ],
      "text/plain": [
       "   user_name  num_users  user_preference      name  number  power  \\\n",
       "0  household          1                0     light       1    0.0   \n",
       "1  household          1                0        tv       1    0.0   \n",
       "2     school          1                0     light       1    0.0   \n",
       "3     school          1                0  computer       1    0.0   \n",
       "\n",
       "   num_windows  func_time  time_fraction_random_variability  func_cycle  ...  \\\n",
       "0            1          0                                 0           1  ...   \n",
       "1            1          0                                 0           1  ...   \n",
       "2            1          0                                 0           1  ...   \n",
       "3            1          0                                 0           1  ...   \n",
       "\n",
       "  cw32_start  cw32_end  r_c3 window_1_start  window_1_end  window_2_start  \\\n",
       "0          0         0     0              0          1440               0   \n",
       "1          0         0     0              0          1440               0   \n",
       "2          0         0     0              0          1440               0   \n",
       "3          0         0     0              0          1440               0   \n",
       "\n",
       "   window_2_end  window_3_start  window_3_end  random_var_w  \n",
       "0             0               0             0             0  \n",
       "1             0               0             0             0  \n",
       "2             0               0             0             0  \n",
       "3             0               0             0             0  \n",
       "\n",
       "[4 rows x 51 columns]"
      ]
     },
     "execution_count": 5,
     "metadata": {},
     "output_type": "execute_result"
    }
   ],
   "source": [
    "# getting the dataframe\n",
    "use_case.export_to_dataframe()"
   ]
  },
  {
   "cell_type": "code",
   "execution_count": 6,
   "id": "6a33a1dc",
   "metadata": {},
   "outputs": [],
   "source": [
    "# Printing out the database to an excel file\n",
    "use_case.save(\"path/name_of_file\")"
   ]
  },
  {
   "cell_type": "markdown",
   "id": "4b6db372",
   "metadata": {},
   "source": [
    "Once the function is used, an excel file will be created in the given path:\n",
    "\n",
    "![excel file image](excel_file.png)\n",
    "\n",
    "\n",
    "Now the user can easily fill-out the information in the excel file and load the data into the model database as follow: "
   ]
  },
  {
   "cell_type": "markdown",
   "id": "f4f4e293",
   "metadata": {},
   "source": [
    "### Loading the database"
   ]
  },
  {
   "cell_type": "code",
   "execution_count": 7,
   "id": "fecf2e52",
   "metadata": {},
   "outputs": [],
   "source": [
    "# loading data\n",
    "\n",
    "use_case = UseCase() # creating a new UseCase instance\n",
    "use_case.load(\"path/name_of_file.xlsx\")"
   ]
  },
  {
   "cell_type": "markdown",
   "id": "7f50fd4d",
   "metadata": {},
   "source": [
    "### Generating load profiles"
   ]
  },
  {
   "cell_type": "markdown",
   "id": "1b5dd0dc",
   "metadata": {},
   "source": [
    "Once the database is loaded, the user can continue with the normal analysis like generating aggregated profiles"
   ]
  },
  {
   "cell_type": "code",
   "execution_count": 8,
   "id": "7005cf80",
   "metadata": {},
   "outputs": [],
   "source": [
    "peak_time_range = calc_peak_time_range(\n",
    "    user_list = use_case.users\n",
    ")\n",
    "\n",
    "year_behaviour = yearly_pattern()"
   ]
  },
  {
   "cell_type": "code",
   "execution_count": 9,
   "id": "26859fb2",
   "metadata": {},
   "outputs": [
    {
     "data": {
      "image/png": "[encoded data removed]",
      "text/plain": [
       "<Figure size 432x288 with 1 Axes>"
      ]
     },
     "metadata": {
      "needs_background": "light"
     },
     "output_type": "display_data"
    },
    {
     "data": {
      "image/png": "[encoded data removed]",
      "text/plain": [
       "<Figure size 432x288 with 1 Axes>"
      ]
     },
     "metadata": {
      "needs_background": "light"
     },
     "output_type": "display_data"
    }
   ],
   "source": [
    "n_days = 30\n",
    "\n",
    "\n",
    "\n",
    "for user in use_case.users:\n",
    "    user_profiles = []\n",
    "    for day in range(n_days):\n",
    "        profile = user.generate_aggregated_load_profile(\n",
    "                        prof_i = day,\n",
    "                        peak_time_range = peak_time_range,\n",
    "                        Year_behaviour = year_behaviour\n",
    "                    )\n",
    "        \n",
    "        user_profiles.extend(profile)\n",
    "        \n",
    "    profiles = pd.DataFrame(   \n",
    "        data = user_profiles,\n",
    "        index = pd.date_range(start = \"2020-01-01\",periods = 1440*n_days,freq=\"T\"),\n",
    "    )\n",
    "    \n",
    "    profiles.plot(title = user.user_name)\n",
    "    \n",
    "        "
   ]
  }
 ],
 "metadata": {
  "kernelspec": {
   "display_name": "Python 3",
   "language": "python",
   "name": "python3"
  },
  "language_info": {
   "codemirror_mode": {
    "name": "ipython",
    "version": 3
   },
   "file_extension": ".py",
   "mimetype": "text/x-python",
   "name": "python",
   "nbconvert_exporter": "python",
   "pygments_lexer": "ipython3",
   "version": "3.8.8"
  }
 },
 "nbformat": 4,
 "nbformat_minor": 5
}
