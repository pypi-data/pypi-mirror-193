{
 "cells": [
  {
   "cell_type": "code",
   "execution_count": 1,
   "id": "4761038e",
   "metadata": {},
   "outputs": [],
   "source": [
    "# importin functions\n",
    "from ramp import User,calc_peak_time_range,yearly_pattern\n",
    "import pandas as pd"
   ]
  },
  {
   "cell_type": "markdown",
   "id": "a07be2a6",
   "metadata": {},
   "source": [
    "### Creating a user category "
   ]
  },
  {
   "cell_type": "code",
   "execution_count": 2,
   "id": "77e6919a",
   "metadata": {},
   "outputs": [],
   "source": [
    "household = User(\n",
    "    user_name = \"Household\",\n",
    "    num_users = 10,\n",
    ")"
   ]
  },
  {
   "cell_type": "markdown",
   "id": "8628f23a",
   "metadata": {},
   "source": [
    "### Creating a simple appliance with two functioning time"
   ]
  },
  {
   "cell_type": "code",
   "execution_count": 3,
   "id": "76ff56d6",
   "metadata": {},
   "outputs": [],
   "source": [
    "indoor_bulb = household.Appliance(\n",
    "    name = \"Indoor Light Bulb\",\n",
    "    number = 6,\n",
    "    power  = 7,\n",
    "    num_windows = 2,\n",
    "    func_time = 120,\n",
    "    time_fraction_random_variability = 0.2,\n",
    "    func_cycle = 10\n",
    ")\n",
    "\n",
    "indoor_bulb.windows(\n",
    "    window_1 = [1170,1440], # from 19:30 to 24:00\n",
    "    window_2 = [0,30], # from 24 to 00:30\n",
    "    random_var_w = 0.35,\n",
    ")"
   ]
  },
  {
   "cell_type": "code",
   "execution_count": 4,
   "id": "f07cd11c",
   "metadata": {
    "scrolled": true
   },
   "outputs": [
    {
     "data": {
      "text/plain": [
       "<AxesSubplot:>"
      ]
     },
     "execution_count": 4,
     "metadata": {},
     "output_type": "execute_result"
    },
    {
     "data": {
      "image/png": "[encoded data removed]",
      "text/plain": [
       "<Figure size 432x288 with 1 Axes>"
      ]
     },
     "metadata": {
      "needs_background": "light"
     },
     "output_type": "display_data"
    },
    {
     "data": {
      "image/png": "[encoded data removed]",
      "text/plain": [
       "<Figure size 432x288 with 1 Axes>"
      ]
     },
     "metadata": {
      "needs_background": "light"
     },
     "output_type": "display_data"
    }
   ],
   "source": [
    "# Checking the maximum profile of the appliance and user\n",
    "\n",
    "max_profile_bulb = pd.DataFrame(indoor_bulb.maximum_profile,columns=[\"appliance\"])\n",
    "max_profile_user = pd.DataFrame(household.maximum_profile,columns=[\"household\"])\n",
    "\n",
    "max_profile_bulb.plot()\n",
    "max_profile_user.plot()"
   ]
  },
  {
   "cell_type": "markdown",
   "id": "d16765c1",
   "metadata": {},
   "source": [
    "### Defining the peak time range using the calc_peak_time_range"
   ]
  },
  {
   "cell_type": "code",
   "execution_count": 5,
   "id": "8c779916",
   "metadata": {},
   "outputs": [
    {
     "name": "stdout",
     "output_type": "stream",
     "text": [
      "[1933 1934 1935 1936 1937 1938 1939 1940 1941 1942 1943 1944 1945 1946\n",
      " 1947 1948 1949 1950 1951 1952 1953 1954 1955 1956 1957 1958 1959 1960\n",
      " 1961 1962 1963 1964 1965 1966 1967 1968 1969 1970 1971 1972 1973 1974\n",
      " 1975 1976 1977 1978 1979 1980 1981 1982 1983 1984 1985 1986 1987 1988\n",
      " 1989 1990 1991 1992 1993 1994 1995 1996 1997 1998 1999 2000 2001 2002\n",
      " 2003 2004 2005 2006 2007 2008 2009 2010 2011 2012 2013 2014 2015 2016\n",
      " 2017 2018 2019 2020 2021 2022 2023 2024 2025 2026 2027 2028 2029 2030\n",
      " 2031 2032 2033 2034 2035 2036 2037 2038 2039 2040 2041 2042 2043 2044\n",
      " 2045 2046 2047 2048 2049 2050 2051 2052 2053 2054 2055 2056 2057 2058\n",
      " 2059 2060 2061 2062 2063 2064 2065 2066 2067 2068 2069 2070 2071 2072\n",
      " 2073 2074 2075 2076 2077 2078 2079 2080 2081 2082 2083 2084 2085 2086\n",
      " 2087 2088 2089 2090 2091 2092 2093 2094 2095 2096 2097 2098 2099 2100\n",
      " 2101 2102 2103 2104 2105 2106 2107 2108 2109 2110 2111 2112 2113 2114\n",
      " 2115 2116 2117 2118 2119 2120 2121 2122 2123 2124 2125 2126 2127 2128\n",
      " 2129 2130 2131 2132 2133 2134 2135 2136 2137 2138 2139 2140 2141 2142\n",
      " 2143 2144 2145 2146 2147 2148 2149 2150 2151 2152 2153 2154 2155 2156\n",
      " 2157 2158 2159 2160 2161 2162 2163 2164 2165 2166 2167 2168 2169 2170\n",
      " 2171 2172 2173 2174 2175 2176 2177 2178 2179 2180 2181 2182 2183 2184\n",
      " 2185 2186 2187 2188 2189 2190 2191 2192 2193 2194 2195 2196 2197 2198\n",
      " 2199 2200 2201 2202 2203 2204 2205 2206 2207 2208 2209 2210 2211 2212\n",
      " 2213 2214 2215 2216 2217 2218 2219 2220 2221 2222 2223 2224 2225 2226\n",
      " 2227 2228 2229 2230 2231 2232 2233 2234 2235 2236 2237 2238 2239 2240\n",
      " 2241 2242 2243 2244 2245 2246 2247 2248 2249 2250 2251 2252 2253 2254\n",
      " 2255 2256 2257 2258 2259 2260 2261 2262 2263 2264 2265 2266 2267 2268\n",
      " 2269 2270 2271 2272 2273 2274 2275 2276 2277 2278]\n"
     ]
    }
   ],
   "source": [
    "peak_time_range = calc_peak_time_range(\n",
    "    user_list = [household]\n",
    ")\n",
    "\n",
    "print(peak_time_range)"
   ]
  },
  {
   "cell_type": "markdown",
   "id": "ae3e5eed",
   "metadata": {},
   "source": [
    "### Defining the yearly patterns\n",
    "by default the yearly_pattern function returns weekdays (defined by 0) /weekends (defined by 1) division"
   ]
  },
  {
   "cell_type": "code",
   "execution_count": 6,
   "id": "6e08d850",
   "metadata": {},
   "outputs": [
    {
     "name": "stdout",
     "output_type": "stream",
     "text": [
      "[0. 0. 0. 0. 0. 1. 1. 0. 0. 0. 0. 0. 1. 1. 0. 0. 0. 0. 0. 1. 1. 0. 0. 0.\n",
      " 0. 0. 1. 1. 0. 0. 0. 0. 0. 1. 1. 0. 0. 0. 0. 0. 1. 1. 0. 0. 0. 0. 0. 1.\n",
      " 1. 0. 0. 0. 0. 0. 1. 1. 0. 0. 0. 0. 0. 1. 1. 0. 0. 0. 0. 0. 1. 1. 0. 0.\n",
      " 0. 0. 0. 1. 1. 0. 0. 0. 0. 0. 1. 1. 0. 0. 0. 0. 0. 1. 1. 0. 0. 0. 0. 0.\n",
      " 1. 1. 0. 0. 0. 0. 0. 1. 1. 0. 0. 0. 0. 0. 1. 1. 0. 0. 0. 0. 0. 1. 1. 0.\n",
      " 0. 0. 0. 0. 1. 1. 0. 0. 0. 0. 0. 1. 1. 0. 0. 0. 0. 0. 1. 1. 0. 0. 0. 0.\n",
      " 0. 1. 1. 0. 0. 0. 0. 0. 1. 1. 0. 0. 0. 0. 0. 1. 1. 0. 0. 0. 0. 0. 1. 1.\n",
      " 0. 0. 0. 0. 0. 1. 1. 0. 0. 0. 0. 0. 1. 1. 0. 0. 0. 0. 0. 1. 1. 0. 0. 0.\n",
      " 0. 0. 1. 1. 0. 0. 0. 0. 0. 1. 1. 0. 0. 0. 0. 0. 1. 1. 0. 0. 0. 0. 0. 1.\n",
      " 1. 0. 0. 0. 0. 0. 1. 1. 0. 0. 0. 0. 0. 1. 1. 0. 0. 0. 0. 0. 1. 1. 0. 0.\n",
      " 0. 0. 0. 1. 1. 0. 0. 0. 0. 0. 1. 1. 0. 0. 0. 0. 0. 1. 1. 0. 0. 0. 0. 0.\n",
      " 1. 1. 0. 0. 0. 0. 0. 1. 1. 0. 0. 0. 0. 0. 1. 1. 0. 0. 0. 0. 0. 1. 1. 0.\n",
      " 0. 0. 0. 0. 1. 1. 0. 0. 0. 0. 0. 1. 1. 0. 0. 0. 0. 0. 1. 1. 0. 0. 0. 0.\n",
      " 0. 1. 1. 0. 0. 0. 0. 0. 1. 1. 0. 0. 0. 0. 0. 1. 1. 0. 0. 0. 0. 0. 1. 1.\n",
      " 0. 0. 0. 0. 0. 1. 1. 0. 0. 0. 0. 0. 1. 1. 0. 0. 0. 0. 0. 1. 1. 0. 0. 0.\n",
      " 0. 0. 1. 1. 0.]\n"
     ]
    }
   ],
   "source": [
    "year_behaviour = yearly_pattern()\n",
    "\n",
    "print(year_behaviour)"
   ]
  },
  {
   "cell_type": "markdown",
   "id": "f39ad72e",
   "metadata": {},
   "source": [
    "### Generating a profile for the ith day of the year"
   ]
  },
  {
   "cell_type": "code",
   "execution_count": 7,
   "id": "e4ea14ed",
   "metadata": {},
   "outputs": [],
   "source": [
    "single_profile = household.generate_single_load_profile(\n",
    "    prof_i = 1, # the day to generate the profile\n",
    "    peak_time_range = peak_time_range,\n",
    "    Year_behaviour = year_behaviour\n",
    ")\n"
   ]
  },
  {
   "cell_type": "code",
   "execution_count": 8,
   "id": "04545584",
   "metadata": {},
   "outputs": [
    {
     "data": {
      "text/plain": [
       "<AxesSubplot:>"
      ]
     },
     "execution_count": 8,
     "metadata": {},
     "output_type": "execute_result"
    },
    {
     "data": {
      "image/png": "[encoded data removed]",
      "text/plain": [
       "<Figure size 432x288 with 1 Axes>"
      ]
     },
     "metadata": {
      "needs_background": "light"
     },
     "output_type": "display_data"
    }
   ],
   "source": [
    "single_profile = pd.DataFrame(single_profile,columns=[\"household\"])\n",
    "single_profile.plot()"
   ]
  },
  {
   "cell_type": "markdown",
   "id": "91442f65",
   "metadata": {},
   "source": [
    "### whole year profile can be generated"
   ]
  },
  {
   "cell_type": "code",
   "execution_count": 9,
   "id": "7c526fd2",
   "metadata": {},
   "outputs": [],
   "source": [
    "whole_year_profile = []\n",
    "\n",
    "for i in range(365):\n",
    "    whole_year_profile.extend(\n",
    "        household.generate_single_load_profile(\n",
    "                prof_i = i,\n",
    "                peak_time_range = peak_time_range,\n",
    "                Year_behaviour = year_behaviour\n",
    "                \n",
    "        )\n",
    "    )"
   ]
  },
  {
   "cell_type": "code",
   "execution_count": 10,
   "id": "465bebb8",
   "metadata": {},
   "outputs": [],
   "source": [
    "### Generating aggregated_load_profile for the user category"
   ]
  },
  {
   "cell_type": "code",
   "execution_count": 11,
   "id": "3ed3f527",
   "metadata": {},
   "outputs": [],
   "source": [
    "aggregated_profile = household.generate_aggregated_load_profile(\n",
    "    prof_i = 1,\n",
    "    peak_time_range = peak_time_range,\n",
    "    Year_behaviour = year_behaviour\n",
    ")"
   ]
  },
  {
   "cell_type": "code",
   "execution_count": 12,
   "id": "9bb8f29c",
   "metadata": {},
   "outputs": [
    {
     "data": {
      "text/plain": [
       "<AxesSubplot:>"
      ]
     },
     "execution_count": 12,
     "metadata": {},
     "output_type": "execute_result"
    },
    {
     "data": {
      "image/png": "[encoded data removed]",
      "text/plain": [
       "<Figure size 432x288 with 1 Axes>"
      ]
     },
     "metadata": {
      "needs_background": "light"
     },
     "output_type": "display_data"
    }
   ],
   "source": [
    "aggregated_profile = pd.DataFrame(aggregated_profile,columns = [\"household\"])\n",
    "aggregated_profile.plot()"
   ]
  }
 ],
 "metadata": {
  "kernelspec": {
   "display_name": "Python 3",
   "language": "python",
   "name": "python3"
  },
  "language_info": {
   "codemirror_mode": {
    "name": "ipython",
    "version": 3
   },
   "file_extension": ".py",
   "mimetype": "text/x-python",
   "name": "python",
   "nbconvert_exporter": "python",
   "pygments_lexer": "ipython3",
   "version": "3.8.8"
  }
 },
 "nbformat": 4,
 "nbformat_minor": 5
}
