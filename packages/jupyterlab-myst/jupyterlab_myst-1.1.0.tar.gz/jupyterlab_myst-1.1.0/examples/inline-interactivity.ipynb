{
 "cells": [
  {
   "cell_type": "markdown",
   "id": "613eaf50-e4f0-4328-b0be-c246fb216577",
   "metadata": {
    "user_expressions": []
   },
   "source": [
    "---\n",
    "title: Inline Interactivity in Jupyter using MyST\n",
    "subtitle: Using inline widgets in JupyterLab markdown cells\n",
    "author:\n",
    "  - name: Rowan Cockett\n",
    "    affiliations: Executable Books; Curvenote\n",
    "    orcid: 0000-0002-7859-8394\n",
    "    email: rowan@curvenote.com\n",
    "  - name: Angus Hollands\n",
    "    affiliations: Executable Books\n",
    "  - name: Steve Purves\n",
    "    affiliations: Executable Books; Curvenote\n",
    "date: 2023/02/20\n",
    "---\n",
    "\n",
    "The [JupyterLab MyST extension](https://github.com/executablebooks/jupyterlab-myst) allows you to have MyST renderer in your markdown cells that includes interactivity and inline-evaluation."
   ]
  },
  {
   "cell_type": "markdown",
   "id": "d3c1dba2-889d-4817-8d48-83d45c03a337",
   "metadata": {
    "user_expressions": [
     {
      "expression": "1+1",
      "result": {
       "data": {
        "text/plain": "2"
       },
       "metadata": {},
       "status": "ok"
      }
     }
    ]
   },
   "source": [
    "This is done through the `` {eval}`1+1` `` role, which results in {eval}`1+1`. The extension can also access variables in the kernel.\n",
    "\n",
    ":::{warning} Syntax is Subject to Change\n",
    ":class: dropdown\n",
    "The current syntax is based on a myst role, which may change in the future -- for example to be closer to an inline expression `${}`. This will go through a MyST enhancement proposal, and the `{eval}` role will likely still be supported.\n",
    ":::"
   ]
  },
  {
   "cell_type": "code",
   "execution_count": 3,
   "id": "90dffa46-b084-4b24-a650-e5f5a9aa526e",
   "metadata": {},
   "outputs": [],
   "source": [
    "import numpy as np\n",
    "array = np.arange(4)"
   ]
  },
  {
   "cell_type": "markdown",
   "id": "e8af4aa1-9d91-494e-9a76-4d57a611d9e0",
   "metadata": {
    "user_expressions": [
     {
      "expression": "array",
      "result": {
       "data": {
        "text/plain": "array([0, 1, 2, 3])"
       },
       "metadata": {},
       "status": "ok"
      }
     },
     {
      "expression": "array.sum()",
      "result": {
       "data": {
        "text/plain": "6"
       },
       "metadata": {},
       "status": "ok"
      }
     },
     {
      "expression": "array.max()",
      "result": {
       "data": {
        "text/plain": "3"
       },
       "metadata": {},
       "status": "ok"
      }
     }
    ]
   },
   "source": [
    "Let's consider the following array: {eval}`array`.\n",
    "\n",
    "We can compute the total: {eval}`array.sum()` and the maximum value is {eval}`array.max()`.\n",
    "\n",
    "This is done through using MyST syntax: `` {eval}`array.sum()` `` and `` {eval}`array.max()` ``, respectively."
   ]
  },
  {
   "cell_type": "code",
   "execution_count": 80,
   "id": "5ffba1f7-e455-4dce-a645-38988d97b01b",
   "metadata": {},
   "outputs": [],
   "source": [
    "import ipywidgets as widgets\n",
    "\n",
    "cookiesSlider = widgets.IntSlider(min=0, max=30, step=1, value=10, description=\"Cookies: \")\n",
    "cookiesText = widgets.BoundedIntText(\n",
    "    value=10,\n",
    "    min=0,\n",
    "    max=30,\n",
    "    step=1,\n",
    ")\n",
    "widgetLink = widgets.jslink((cookiesSlider, 'value'), (cookiesText, 'value'))\n",
    "\n",
    "caloriesPerCookie = 50\n",
    "dailyCalories = 2100.\n",
    "\n",
    "calories = widgets.Label(value=f'{cookiesSlider.value * caloriesPerCookie}')\n",
    "def fc(n):\n",
    "    calories.value = f'{n[\"owner\"].value * caloriesPerCookie}'\n",
    "cookiesSlider.observe(fc)\n",
    "\n",
    "\n",
    "percent = widgets.Label(value=f'{cookiesSlider.value * caloriesPerCookie / dailyCalories * 100}')\n",
    "def fp(n):\n",
    "    percent.value = f'{n[\"owner\"].value * caloriesPerCookie / dailyCalories * 100}'\n",
    "cookiesSlider.observe(fp)"
   ]
  },
  {
   "cell_type": "markdown",
   "id": "b8ac6e3c-2982-4921-a882-6b4eeaffe936",
   "metadata": {
    "user_expressions": [
     {
      "expression": "cookiesText",
      "result": {
       "data": {
        "application/vnd.jupyter.widget-view+json": {
         "model_id": "1b843ad605604d90a56db254f925ef90",
         "version_major": 2,
         "version_minor": 0
        },
        "text/plain": "BoundedIntText(value=26, max=30)"
       },
       "metadata": {},
       "status": "ok"
      }
     },
     {
      "expression": "calories",
      "result": {
       "data": {
        "application/vnd.jupyter.widget-view+json": {
         "model_id": "922eb35a099948a0897d2b8d48969c14",
         "version_major": 2,
         "version_minor": 0
        },
        "text/plain": "Label(value='1300')"
       },
       "metadata": {},
       "status": "ok"
      }
     },
     {
      "expression": "percent",
      "result": {
       "data": {
        "application/vnd.jupyter.widget-view+json": {
         "model_id": "e2ff2079caa540478abe3341044c9941",
         "version_major": 2,
         "version_minor": 0
        },
        "text/plain": "Label(value='61.904761904761905')"
       },
       "metadata": {},
       "status": "ok"
      }
     },
     {
      "expression": "cookiesSlider",
      "result": {
       "data": {
        "application/vnd.jupyter.widget-view+json": {
         "model_id": "70989ae9619b4fefbce8277ea1c81f1d",
         "version_major": 2,
         "version_minor": 0
        },
        "text/plain": "IntSlider(value=26, description='Cookies: ', max=30)"
       },
       "metadata": {},
       "status": "ok"
      }
     }
    ]
   },
   "source": [
    ":::{important} Calculate Consuming Cookie Calories 🍪 🧮\n",
    "When you eat {eval}`cookiesText` cookies, you consume {eval}`calories` calories. \\\n",
    "That's {eval}`percent`% of your recommended daily calories.\n",
    ":::\n",
    "\n",
    "You can also edit this through a slider if you want: {eval}`cookiesSlider`\n",
    "\n",
    ":::{note} Improvements\n",
    ":class: dropdown\n",
    "There is a lot to improve both for formatting (e.g. format the numbering) and for the verbosity of the above code for linking and calculating the widgets.\n",
    "These are probably going to be a combination of a MyST library for working with simple inline widgets and showing numbers, as well as improvements and tweaks to the inline renderers for the mime bundles.\n",
    "\n",
    "But you can already do things! 🚀\n",
    ":::"
   ]
  },
  {
   "cell_type": "code",
   "execution_count": 84,
   "id": "600e74dc-6c54-4cb4-91c3-0e5107fcf589",
   "metadata": {},
   "outputs": [],
   "source": [
    "from IPython.display import Image, HTML\n",
    "\n",
    "i = Image(url='https://source.unsplash.com/random/400x50?sunset')"
   ]
  },
  {
   "cell_type": "markdown",
   "id": "edafa8a3-8dcd-4db3-a4cf-90c6aaf461bb",
   "metadata": {
    "user_expressions": [
     {
      "expression": "i",
      "result": {
       "data": {
        "text/html": "<img src=\"https://source.unsplash.com/random/400x50?sunset\"/>",
        "text/plain": "<IPython.core.display.Image object>"
       },
       "metadata": {},
       "status": "ok"
      }
     }
    ]
   },
   "source": [
    "This should be an inline image of a sunset: {eval}`i`"
   ]
  },
  {
   "cell_type": "code",
   "execution_count": 2,
   "id": "7a29588f-afb7-4e2b-99fb-132c6ab04372",
   "metadata": {},
   "outputs": [],
   "source": [
    "import numpy as np\n",
    "import matplotlib.pyplot as plt\n",
    "\n",
    "# Step 1: Predict the stock market, with surprising accuracy:\n",
    "data = np.cumsum(np.random.rand(1000)-0.5)\n",
    "data = data - np.mean(data)\n",
    "\n",
    "stocks = plt.figure(figsize=(10,2))\n",
    "ax1 = stocks.add_subplot(111)\n",
    "ax1.plot(data, 'b-')\n",
    "ax1.axhline(c='grey', alpha=0.5);\n",
    "plt.axis('off')\n",
    "plt.tight_layout();\n",
    "plt.close();\n",
    "\n",
    "annotated = plt.figure(figsize=(10,2))\n",
    "ax1 = annotated.add_subplot(111)\n",
    "plt.axvspan(450, 560, color='red', alpha=0.5)\n",
    "plt.axvspan(680, 740, color='green', alpha=0.5)\n",
    "ax1.plot(data, 'b-')\n",
    "ax1.axhline(c='grey', alpha=0.5);\n",
    "plt.axis('off')\n",
    "plt.tight_layout();\n",
    "plt.close();"
   ]
  },
  {
   "cell_type": "markdown",
   "id": "60a959ef-e31b-4383-9865-982e574debd3",
   "metadata": {
    "user_expressions": [
     {
      "expression": "stocks",
      "result": {
       "data": {
        "image/png": "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\n",
        "text/plain": "<Figure size 1000x200 with 1 Axes>"
       },
       "metadata": {},
       "status": "ok"
      }
     },
     {
      "expression": "annotated",
      "result": {
       "data": {
        "image/png": "iVBORw0KGgoAAAANSUhEUgAAA90AAAC+CAYAAAAoRmzvAAAAOXRFWHRTb2Z0d2FyZQBNYXRwbG90bGliIHZlcnNpb24zLjYuMiwgaHR0cHM6Ly9tYXRwbG90bGliLm9yZy8o6BhiAAAACXBIWXMAAA9hAAAPYQGoP6dpAABTmUlEQVR4nO3ddXgUVxcG8HdjhCAhECC4uwWX4MHdvbRYC6VUaCktpS2UwlenQlsoFLdS3B0aHIIELS5BggQCgXiy3x+nk9nJbkJkLZv39zx5Rnf3Lgm7c+bee45Or9frQURERERERERm52TrBhARERERERE5KgbdRERERERERBbCoJuIiIiIiIjIQhh0ExEREREREVkIg24iIiIiIiIiC2HQTURERERERGQhDLqJiIiIiIiILIRBNxEREREREZGFMOgmIiIiIiIishAXWzeAiIjIpp4+BaZMAR49snVLsjZvb+DTTwFPT1u3hJLxNOoppgRMwaMIx/q/4u3hjU+bfgpPd/7tEZFlMOgmIqKsLSJCAu7s2QEPD1u3JmtSfgcREQy67VhEbAQeRTxCdpfs8HB1jP8rynuKiI1g0E1EFsOgm4iICJCAO1cuW7ci64qMtHULKJU8XD2QK5vj/F+JjOPfHhFZFud0ExEREREREVkIg24iIiIiIiIiC2HQTURERERERGQhDLqJiMjhXLgAPHxo61YQERERMegmIiIHc/gwULUq0LmzrVtCRERExKCbiIgczLhxQEICcOQIEBZm69YQERFRVsegm4iIHMbdu8D+/er28eO2awsRERERwKCbiIgysYgIYNYstUc7IEB7PDDQ6k0iIiIi0mDQTUREmdbo0cDIkcDgwbKdNOjeu9fqTSIiIiLSYNBNRESZ1vz5stywAYiNBXbulO3JkwEnJ2DrVuDvv9Xzly4F5swB9HqrN5WIiIiyKAbdRERkt2JigD//BEJDgUePgGPH1GMJCdpzhwwBLl8GsmeXHvDx42X/11/L8uFDYNAgYMQI4OOPrdN+IiIiIgbdRERkt6ZPB4YPB1q1Atq2BerVU4eMX76sPXfJElmuXAnkyweMHQu4uEgytXPnJMGa0sP99dfy3OzxJiIiIktzsXUDiIiIDMXEAI0bS8B89KjsO3VKPf7dd8CvvwI7dhg/tkkToEMHWff2Bjp2BNatA2bPBnQ67bljx8prjR9skbdBREREBIA93UREZGeOHZOfQ4eA+Hjj45s2SW/206ey7e6uHhs+XHvuqFGynDNH5n0DwOLF6v5ly8zbdiIiIqKkGHQTEZHVRUUBAwcCU6ao++LigMePgYMHjc+vXRt4/32geHHjY/fuAdu3SwD9yivaY23aANWrAy9eAFevyr6mTdU53efOSVuIiIiILIXDy4mIyOrmzJFM4gAwYABQpgwwZowkTStQwPh8pd62mxvwv//Jurs7sHw5kCcP0Lq16dfR6YD+/YHTp2W7ZEmgWDGZy+3tLcnZzl50RR1zvjkiIiIiA+zpJiIii7tyRYZ+37kjWcenT1eP/f679HLPnCllv+7ckf2rVsmcbMMh4F27quuBgdrt5BgG5A0bylKnA2rVkvUTZ3j/mYiIiCyHVxpERGRxbdoA168Dly5JL/e1a+qxZcuAnj215ytJ0Hr00O6vWxfo10/WK1VK3WvXrKmuV6yorteuLcPS9x91w+s5Uv9eiIiIiNKCPd1ERGRx16/Lct8+KeEFADVqSE3tu3eBr77Snj9uHJAtm/HzODlJkL5smaynhpOT9KK3bQu8/ba6v107WW7Y4Y6YeOe0vSEiIiKiVGLQTUREFvXggXZbySLu5wf4+8v6+vWy7NkT+Owz4L33zNuGN94Atm6V+d8KPz+ZPx721Ak771Ux7wsSERER/YdBNxERWdThw9ptZY527draOdl9+gArVgCTJwOurpZvl7OzvCYAfHi8D6Lj2NtNRERE5sc53UREZFG7dpneX6+ezMvOnh3Im1eGf6d2yLi5fPYZsGJ5PM49KorVV6qjf90r1m0AEREROTwG3UREZDF6PbB2raz/9JP0LufIAcTEAFWryv6BA23WPOTPDwzsEYnpf+TEwbsl0R8MuomIiMi8GHQTEZHFHD4M3LoFeHgAI0ZIr7a9qV8zFgBw+F5xG7eEiIiIHBHndBMRkUW8eAEMHizr3brZZ8ANAA1qS9B96mERRMbyXjQRERGZF4NuIiKyiOXLgStXgKJFZWi5vSpeJB4+2cMQl+CMwLuFE/dffJQPcQn8miQiIqKM4dUEERGZXWAgMHy4rI8eDXh727Y9KdHpgCYFLgEA9t4oCQBYfaESKv46BhN2+duwZeZz5n4BPHzhYetmEBERZUkMuomIyKyio4GWLdXtAQNs15bUauFzAQCw50YpAMD4na0AAN8e9EN8gs5m7cqIBL0Oej1w4l4hVJ/5JjostWHGOiIioiyMk9eIiMisAgOB8HBZ//FHoHgmyE/WotC/AICDwcUQFeeCeINh5QeCi6NpiZu2alq6df+rL47eKYIWJW8AAALvFkF4tBtyZYuxbcOIiIiyGPZ0ExGRWe3fL8uePYF33rFtW1KrQu57yJ89HNHxLth1rRSuh3klHvsyoCkS9Jmrt/vEvUJYf7EiQp7nwrKz1RL3H7tbxIatIiIiypoYdBMRkVkpQXfjxrZtR1rodEDtgrcBAD1W9E3c7+4Six3XyuCtzR2MAu/zD/NjxPrOuP88h1XbmpReD3y+pzmWnamauG/28Vomzz0UXBSXQvPheYwbgp/mtlYTiYiIsjQOLyciIrN59gzYvVvWmzSxbVvSqnbB29h6oxJi4uWrcV7XtdBBjyHruuH3wLqoX+Q2XvUNSjzfd+ZIxCY4IyLOFUt6rLZVs3EguDi+CGgOAPDKHoWmJW7i7/NVTJ47cY8/Ju6R5HBuznE4OPRP1C58z1pNJSIiypLY001ERGazfDkQEQFUqgTUMt3ZardqF7iduP5W3SN4zfcUXvUNwpct5S7C5H+aIzZevjZvP8uN2ARnAMBxgzJjtnD8bqHE9fZLBiHHtE8QGqnNVD6i1nGjx8XEu2DinpZG+4mIiMi8GHQTEZHZLF4sy2HDZMh2ZlLXJzhx/f1GhxLX321wGPmyR+B6mBeO3imCjZfKo9j0sYnHw6LcrdrOpE6EqEF3HvfIxPV+Vc+guGcYvNwj8WXL3VjQbY3RY3ddK40LD+24nhsREZEDYNBNRERm8eIFcOi/WLV7d9u2JT2K5nqKv3r9jY39l6BknrDE/R6usWhYTALytf9WRK8VfTSPu/8iJ0Ke5wQAPIrwQJtFryQ7p9oSTtyToHt9v6V4/OHX+KRJAPJlj8C79Q8jcMQfOPfmryiQ4wUG1wjCiwlTNY+NTXBG35W9M12iOCIiosyEQTcRERmJjU37Y/btA+LigJIlgdKlzd4kq+hT5Rw6lr9stL+mTwgA4LtDfoiOd4Gvzz3ETPwClbwfAlCHeM8MrIMd18rg9Y1drNKDHB7thgsP8wMAahW6B50O+LLlbjwc9w3qF72D/DkiUCjX88TzPVxjsWnAEvSsdB5nR/2KXG7ROPOgII7cLoLYeCfsuFoaUXFM90JERGRODLqJiEjjvfeAvHmBw4fT9rht22TZ0gGnCdf00SYba1nyOlydE+BX7BYAoNOygWj45zCsv1gh8Zyp+5pavF0bLlVAvN4J5fKGonCu8MT9KQ3t71DuMlb2WYEqBR6iS4WLAIAV56qgz8reaLN4ML454GfpZhMREWUpDLqJiChRfDzw44/A8+dAixbA06epe9y9e8Ds2bLetavFmmczNQuFaLZ9/+v57lT+UuK+w7eLaepgb7taxuLDtpeflTJhfaucTdcc+l6VzwMAfjzSEGv/rQQA2HlNO0whKs4F8Qkcfk5ERJReDLqJiAgAsGMH4GIwsjgqCvDzA2JiXv7YH36QOd316wOdO1uujbZSwjMMFf8bSg6oQXer0teMzq2c/wFyuMbgUUQOTA1ogjc2dEJQSEFcDs1r1jatOFcFGy5Jz3q/qmfT9Rwdyl1G1QL3NfsC7xbGF/80Q/e/+uLCQ2/4fPcBBq7umeH2EhERZVUMuomIsrjQUKBhQ6BNG3Wfp6csz50DTp9O+fGxscDChbL+8ceZL2t5auh0wLhGBxO3K3o/AgDkcIvFF813a87tVek8mpe8AQD4bG9L/HGiDnxnjUKd2a+bNdP5J7tlHP97DQ6hSoGHLznbNDfneKzu8xcaFbuFKS12w8s9EpFxrvh8bwus/bcSfGeNxNNod/x1rip2XiuN6Dhns7WfiIgoq2DQTUSUhYWHA3PmGM/f/vlnNQivWxcYOlRNrnbrljp/GwC2bwcePAAKFAA6dLBOu23h1Rqn8EXz3VjcfRVcnRMS93/aLAAHhv6ZuN2lwkW0Ln3V6PHPot2x46oM3dbrM9aWJ5HuuPI4n7x+038y9Fzl8j3GgaFzMbFpABoUva05FhOvDn1ovWgwxu1ok/ThRERE9BJMUUpElEVFRQFVq0oQDQDFikkG8rt3gQYNgAsXJKAGgHnzZN62szOwaZPs27sXaNYMOHBAtrt0AVxdrf42rMbZSY9PmwWYPFan8F3ULXwHOd1iUKvQPXi4mk7/PuNYPXxz0A9BIT6oV+QOnkVnw8/tt6BAjhdwdYpHuXyPU9WWk//V5i6V5wm8skel7w2Z8KHfAWy5Ui7Z478crY9vW29HNpd4s70mERE5tpUrgblzgQULgPz5bd0a22DQTUSURR0+rAbcALB0KVCihPwAQK0kpaa3btVur1olQffJk6bPz0rcnONxdMTsxG1l+DkAFM39FF+22I3X1nVHwM2SifsPBBcHALRY8FrivqhPpqQqoFVqc9cqdO8lZ6ZN85I3sH3QQmy7Wha5s0Xj870tjM7ZcqUculX816yvS0REjikyEujdW9bLlAHGjAG+/NIxp6KlhMPLiYiykIgI4PffgU8/NQ6i69XTbtepk/Jzbdggw6RPnZLtmjXN1sxMT6cDxvvtBwD82WU9BlY/gwZFg1/6uIZ/DteUHUtO4N3CAMwfdANA6zLX8F2b7fi48T6MqnMMDZO0e+mZamZ/TSIickyLFqnr4eHAtGnAsWO2a4+tsKebiCgLmTAB+Okn7b6CBYHp0wE3N+3+UqWAFSuAPHkkI3l0tOx/+lQec+MG0KoVEBIiQWY1xmIaX7bcjbfrH0msn71t0GJM29cEDYsGo9tf/U0+5mRIIQxa3QOfNAnArON1sLbfclQvqGYXv/0sN8bvbIW/zkmpsCbFb1qs/a7OCfit4ybo9VJGTKeTed0bLpXHs+hsyJ0t2mKvTUREjmHdOuN9hw4Z3+h3dOzpJiLKIhISJIhOKiAA6G86BkTv3kDr1kC3brJduDCQOzfg7y/bu/9L3F2hApAjh9mbnKm5OCUkBtwAkDtbNL5qtRNdK15M8XHhMdnw0a7WuB7mhbHb2mqOfXewEZaeqf7f80XBr/jLe88zSqeT3m//UtdQyfshouJcseZCxcTjB24Vw+PI7BZvBxER2Y+oKLmuSIleb5yoFVBzwWQlDLqJiLKIQ4ckGZqhsmWBcsnnzUr022/Au+8Ce/bIdtJa3L/8YpYmZhmv1jgFABhW80SK5515UECT6TzgZonE9TdqH4eTLoNp0NNApwMGVDsDAFjyX+B/MLgYGs8bhlqz3kBkLAfPERFlBadOyU34tm1TrsZx6RLw+DGQPTvwySfq/v37M17FI7Nh0E1ElEUoWce7dlX31aqVumQmefPKEPTy5WW7Uyf12NWrMsycUu/XDpuwecBizOq0AVXyP4CrUzyK5HqGob4n0LPS+cTzHrzIibMPCgAAYuOdcOGRNwBgiO9JTGxqOpO6JSlB967rpXDhoTd2Xy8FALj5NA9GbuqELwOaIjzaLaWnICKiTCw0VK4jnjwBdu6USibJOXhQlnXqSPK0iAjA3V06AM6ds0pz7QZvSxMRZRH//FfOuWtX4PlzYNcuYOzY9D1XkSLA+vUSsJcubb42ZhU53GLRvtwVAMD+oXMRE++MAjleAACeRWdDq9LXsOxsVQTcLIlNl8ujWsEHOPOgIKLiXOGZLQpzuqy3ai+3orTXE7QoeR17bpRCy4WvwtcnJPHYwiBfAMDF0HxY1H2N1dtG9i/4bDHcvlAEvm2DMOfN4Shc4S56frrK1s0iolSKj5fpaIaVT374AWhhXOgCgHrd4ecny+zZgZYtgc2bgb/+koSuXbumbsRdZseebiKiLCAiQs0W2qyZfNmdPQvUr5/+5+zcWdvjTemTxz0qMeAGZO73yDqB6FflLABg4yUZXnD4dlEAQP2it20ScCuW91qJEp5hCHmeC1tN1PRefLoGboZ52qBlZM8S4p0wd8wwbP+tHf6e1BuP7+TD2d3VEPU8m62bRkSpNGkSsGMH4OEh1xGABM4LFgDNmwMLFwJ37kiFlJkz1bwvLVuqz6FMT/vyS2DcOBlBp5znyBh0ExFlAQcPArGxQNGikpU8Xz6gShVbt4pS0rH8ZQDAodtFERqRHUfuFAEA1C9yx5bNQoEcL9D3vxsCiqK5n2q2p+5ras0mUSZw/UQpdf2kOjzmzr9FbNEcIkqj6Gi1+skffwB9+kjVkrg4YMgQ6dV+9VW5zvjyS2DUKCA4WCqjKD3dgOmb9f7+wPz5VnkbNsOgm4goC/j7b1m2aZO6Odxke8U9n6JqgftI0Dth29WyiT3dDYretnHLgE7lLyWuVytwH9sGLUbn8hfxawdJHDDvlC/uPMtlq+aRhcTFAdHPPdL12LO7q5rcf/tcsYw0iYis5J9/pM62j49a8aRPH1mmlBStUSPpGVcULQpUNfg4qFVLlqNGSTC/ZYt5220vGHQTEdmp6dOBGjWMM46nVXS0Wips4MCMt4usp2M56e1efLo6LoVKErV6Nu7pBoCGxW6jRcnr8Ct2C6v6/IXK+R9iff9leLPuMdT0uYe4BGfsvVES0XHOtm4qmcmePUCNMgXx16u/4OI/vi89//rJkrh32Sdx++bpEibPu31ebibFRLri8Z28ZmkrEZnfhg2y7NQJcPovguzdWz3u7S1Dyg316KH2jhuqUUNdP3oUaNxYSpC98QbQoQNw2/b3ls2OQTcRkZ0aOxY4fRqYNg0IC5O7xZ9/nvbn2bxZHl+kiMznpsxD6VHe8t/c6bJ5Q+HtEWHLJgGQGuS7X12A/UPnoly+x5pjdQrfBQAMWtMTdWe/jhcxrrZoIpnZ++8DT544QZ/gjK3f90Po7eQD5GvHS2Ph2New6IPBSIjXIfJZdjy5K+cPnTEHjQcGoH6vQwCAK0fLYc207pgzagR+eWUMbpwyHZwTkfXFxgIzZkiVkn37ZF+7durxChVkiDkg1yg9e6rH7t0DVq0Cqlc3ft4pU4ASJWSOuLMz0Lev9vj27WZ9G3aBQTcRkZ3ZvRvIk0fdvn8fWLZM6mx/8YUM70qLxYtlOXCgfLlR5tGg6G14ZotK3Lb1fO7UqOmjDs0486Ag3tjYGYPXdEdQSEEbtooy4uRJ+QEAr5K3EB/jin/mN8elQ+Vx/6r29xr1PBs2/9QBABD5zAPLP+mPg381AgDkLRKKYlVuw3/4brQZuQOu7jEAgNM7auDhzQKAXoe98yUNclpr+D686Y3LR8pm4F0SUVKffgqMGSPJz87/V82yTh3tOW+/Lcu+faW3+8ABGYru44NklSoF3LihdiS0bas9vnWrWZpvV1gyjIjIzvTvDzw1yEt17RpQuLC6vXWrdkhXSp49AzZulPVBg8zXRrIOF6cENCt5A+svVgQA1C9i/2PuahYK0WwvOSPdHKsvVMLzCdNs0STKoEWLZNm5eyT0jedg4/tf4Myu6jizqzpyF3iKMYt+QciVgghcVxeP7+ZFaLB34mMvHymPy0ckA3/hCncT9zs5JyB/iYe4e1GbSO3m6RKYMfgtPL6TF9VbnUZO73DU7nQcXoXCUmzjb6+9BQAY8vNcFK92K8Vziejl9Hrg669l/cIFWXp5AcWLa88bPlzmdufOLduNGqX9tcqWBWrXBo4fl+2dO6U8mSN1FLCnm4jIjsTHAw8eaPcdPy7lOBTr1qX++QIDgZgYoGRJdQgYZS7NS9xIXLeHJGovU73gfZP7X8S6IUHPLH72KCEBWL0aePzY9LGVK2W9W+9I5Ct9C1XaHE08/uyBJ6a2nYg/R49A0HZfBJ+VK/KCZUKMnqts/cuabc8CT43OgV6H0GBv6BOcELTdFweWNsH8d4cAAOJjnREXY9xfFPFUzdKUUm/3rTPFEHyuaLLHiUgVFGS8z9fXdDJWJeBOL51OSpFduwbUrCm95s+fZ+w57Q17uomI7MipU6b3h4Wp6wEBqX++wEBZJh0ORplH0xI3E9dr+JgOaO2Jh2ss1vVbhucxbph+uAEC76o9mRcf5UOl/I9s1raAAEkA9OyZTNl44w1J4JPV/fST5JBo0wbYtk177OhRKfuTMyfQ3D8aAQeBFiPX4tkdHwSfK27y+bLnjkDVlmdx/6qML+0z+S94l3iI/CW0v3v/13fi8d28aNT3IAqWCcHR1fVxYlNto+d79sATUc+zYf67QxD+KBfGLP4F2XJEJV78GyZsC7lcSPPY2ChXuLrHIvxRLsx7exgAYPyGr+CeMwpElLy9e433+fpa7vW8vOTnxAnLvYYtsaebiMiOKAF1qVLAO+9IJtB69WSfp6cEDMHB8pMaylCt2sbXsZRJ1C58D392WYdNA5bAzTne1s1JlS4VLmJAtTPI6Raj2b//lukgzRr27QOaNweaNAE6dpRcB++8Y7PmWERICDBxoixT48kTmcqiDCHdvl1GxhiaNUuWXbsC2bPLuptHNIbOmIuaHY+bfF6fsiGo2PhfODnHo3DFO6jU9IJRwA0A+Yo+xsg5M1G99WkULP0gxWHhvw0ZjftXfRDxNAe+7vwRlowfhPhYGXtqGGjfOlMcCfFyeXtsbV1Ma/8JTm6uie2/t9GcQ0QpOyS5DlG6tCzz52cFlIxg0E1EZEeUO7xDhgA//ig9cUeOSI/18eMy7AoADh5M3fMx6HYMQ2ueRIdyl19+op0ZVvOkZnvfLdtlph41yjg514kTwM2bps/PjF5/HZg61TgTsCnPngEVKwJlykiyRoWSoRiQxEnLlsn66NHGz1Gm9rXE9Xf/+iFxPUeeF/Au/ghvzv8Vg75ZlOr2F6uqBt1u2aM1x8IfacevXj1WFjv/aAUACLmi9nTHRGbDw5veSIjXYfNPHQEA67/tirO71fk1N4Lk7/BFWPpqjhNlBfv3y3LOHODMGfms5LVE+jHoJiKyI0rQXauWdn/t2nJxrCQoOXDg5c8VFiZlPpTHE1nbwGqnsbH/EizotgaA7Xq6Q0OBc+e0+4r+N7U3LTkS7NWZM8CVK2od3YAANfFRcv7+W/JHhIZq969eLctnz6TEYHS0fO40aGD8HJWbn0OXD9di9IIZ8CzwLHG/0mOdr+hjZM+V+mHcXoWfoFKT8yhd+yoa9D6UuN+n7D3onBKQx+eJ5vwjq+vjwfX8ibW+FSGXC2HHrNbJvs71E6WxdUY7fNf9QxxY2DbZ84iyooQEYNgw4O5dSWRWrx5Qtao60oXSh3O6iYjsREQE8O+/sp406Fb4+QG//JK6nm4lgC9VCsibfEldIovR6YCO5S/jWXQ2OOkScD3MC3ee5UKR3Gmse5dBSrmrEiWA9u2BcuWAuDhg/Hjgk08kaJ0+XeYt27vQUAmMBw8GsmUDZs+WHu6kli6VWrjJWbhQXXd2lrwPR47I4777Djh8GHj0CChSBFi71nTyJJ0OqNn+VOL2G7Nn4vqJUqjTJTBd702nA/p8sQKAJE3TOelR0e8iCpYJQfSLbLh9vhiWjFfLMOgTnLDyi94IC/GCzikBNdoE4dTWmvhnYbPEuuAK91yRGPXnb/hpwLsIuVwocUj6kaVtkL/WAcA/XU0mcji//w7MnSvrEycCOXLYtj2Ogj3dREQ2Fh0tWTqDguQOc8GCQKFCps9VerpPnQJevEj5eZUkauzlJlvLnS0aNf7Lar73Rkmrve6dO5IkbNcu2a5XTy4ox45V/y89fy7DJ7/6ymrNypA+fSTIHjdOsoqPHKk93ua/qcs7diT/HNevS2+4TgfcugXExsqNvBIlZITM+vXAsWNybtOmMpczNXzKhqBhn0PQOaWxyLYJzq7xaP7qP/ApGwKdDnDPGQ2fsupk9SE//wknl3g8vFEAAFCo3D0Ury5zBZSAu1Qtdfh7uXqXkTt/OGp3Nr4hEPR3lwy3l8gRREZKoA3IjchJk2zaHIfCoJuIyIb0ermoLVtWvbPs55f8+cWKybDY+HjJKpwSzucme9K+rMxJX36uqlmfNzJShkFu3qyds/3ggfzfevddNaBWciIAxv8vDh82a7PSJSbGeN55Urt3y/KXX6S3OyFB3kvevJIDYs4cOX7smCRKM2XxYlm2bCmfKTqdJGns1k32Hzqk3rSrWzdDb8mscuZ9jq7j16Lbx6tRvFowGvRUf2nFq9/UBOUA4NvuFAb/MB/V/E+j3ZitAIDmr+5F+YYX0Xb0Vrw5fwYAIPhoTVy57EAFgYnSac0aufFWogTw9tu2bo1j4fByIiIruX8fcHeXLOSKa9fU4Fm5WH5ZEiQ/P+CvvyTJSYsWps8JDwf++UfWGXSTPXilxmlM298UWy6Xw4MXOVAgx0uGaqTCypVA797q9vz5wI0b0jN7/778/zJkGEAmnZ+4b5/0+Lq6ZrhZ6TJpEvC//8nc6a+/lrY6J4kDIyK025GRgL+/lPkyPLdiRZmqMno00L279t8IAJYvl+Xgwdr9yrSWkyfVfzt7Kzfo2+5U4nrL4bvg5hGNS4cqoGb7k/AuHoocXs/x4onMEyhS8Q7yFQtFqZo3Eh/j4RmJ/tOWJW6Xrn8O145UwTdTcqHJGmu9CyL7o9dLxRQAeO01uRFH5sN/TiIiK7hyReaRNmwoPVMKJTBW5MgBdOqU8nM1aSLLyZOBTz+VoaJJTZokQUepUur5RLZU0fsRahW6i3i9E7ZeKWuW50waTL77rvztjx6tBpadOwOtWgE//yw9u4a++05dj4kBqldX8ypY05Ej8v85JkaGfTdsCPz2m/F5QUHG++bONQ7Ou/w3WnrZMhmOfueOeuzOHclK7uQk/zaGlJEAAQHA7dtyjuHoAHvj7JKAZoMDMOL32ShQ6iGcnBNQrdXpxON5izx+6XP4vbYZOqcEbFyb3Sa/eyJ7EBoqJQP37QPc3CSRGpkXg24iIiv44APpfb5wATh9Woa+du2q/WLLmRP480/A4yVVbJo1k2V8PPDll0C1atoevYQEYNF/VXp++kl614nsQevS8oe6xwzzuk0Nww4LU9cvXZLlb7/J/OYxY4x7bsaOlSzdS5cCuXNLwN22rfbGmDWYGtq+fbvxvqRTSho1AoqbSAjfs6d2Wyn9A6jz22vVAry8tOdVrCjJ2RSVKmWO5HKGmr/6Dyo2uYB2b21J1dzy/KVCUKCi/LHYwxQDImvbvBnw9gbatZPt0aNl2gmZF4NuIqI0uH9fLnKrVJHeoNS4e1dblmjrVsmYvH69um/1aiAkJHX1dStX1m6/eCHBAyABvY8P8PChBBHKlyiRPWhRUoZlmCOZmqkRHklVqqSWBjNFpwNy5QL691dLbN26Zf3ebmX+9BdfqJUJAgO1Nxb0ehk+D8iQ75Yt1d78pOrWBSpUULcNa28rQbe/iWzdrq7S26+wt6HlqZEtRzT6fvEX6vc8kurH5C0jCdiULPdEWcm8edrtjz+2TTscHYNuIqI02LIFCA6W4ZkTJqTuMRs3arcXLlQD7u7dZQho9+6pL8vh5KT2kE+aJIHDunVyQ+CHHyTgBoDmzW03P5XIFL/iwXBxiseNMC98e6BRhp4raa36/PmNe7LTkgiocGF1KsbLkhSam5IpvE4doEYNGS4eEiI37BSHDknVAnd3uXG3a1fyvVE6HbBnD/D557KtBN3R0epnT3I35AYOVNczY9CdHvlKMeimrEu54QhI0snUViugtGHQTUSUBkpGcEB6oqKjjc/R6+Ui+uhRYNYsGQIOAO+8IxmGL1yQ4eWAHO/XL+3t+PlneZ7PP5fh5YD0vBsGC4MGmX4ska3kdIvBhMYSAY7f2RoPXqS/AKwSdJcrJ4Hq3r3AihXAN99IbekePUzXr05JvXqytGbQ/ewZcPGirNepI9NLqv6X4F0JxgFghiTaxoABQL58L3/eQoUkmzkAnD0rI2K2bpUh+IY3GJIaMkRdr18/TW8l08pb+hYAualh7akFRLb09Kl0IgAyDeXDD23bHkfGoJuIKA0Mg+7oaNM9I3//LRfv9etLDd3gYOlxfvNNYOdO7bnpvaPs4SHzLwF1jnefPuod6x07gF690vfcRJY0ucVeVCtwH3roEHCzRJof/+yZDJ2eNUu2v/pKgqXKlWUu87hx8n9u5cq0Z99VgswjqR+ZnGEnTsiyRAn180AJ/pWh5vfuyfsBZL5lahUqJAF2QoKUGHvvPdnfr59x8jVF7txyA2/uXPsqF2ZJnkXvwj27HuHhcoOCKKs4elQ6CkqXlsooOp2tW+S4GHQTEaVSXJxc3ANA+fKyVC6KDRnO1fb1lR63nTvlMTVrqnMmmzc3T7uUoNuQvz+/PMl+NS95A0Dyc7v1epmWYSpb986dapI0QDJ9J6XTpe/vXwl2T5+WclzWYDi0XNG4sSyVYeGTJ0s5s8aN1bJeqaWc//HHMg++ZMmX92Y1aaLt8XZ0Ts4JaNxUhi1t2WLjxhBZkdKRkFVusNkSg24iolRatkwuxD09gVdflX2mesSUBGtbt0pP+KpVQNOm6vFt22SuqdJTl1GtW8sQW0WHDgy4yb4pQfeWK2URE2/c5bpihZSzqlXLOMmPYVIwQHpzzaV4caBgQe0NNku6f1+migDaoFsZ+h0YKJUJZs+W7WnT0v4ahkF6/foyDL9gwXQ116G1bCNB9+bNNm4IkRUpo/XsuTSgo2DQTUSUCvHxMmwVAMaPVy+Qkw4vv3lThra6uKi9VUn5+EgpL6W3PKNy55Y5oY8fA599pq09TGSP/EtdQ97sEbj2JC86Lh2ATw+0g/ui2Sjnlx+FCqm9rAkJwEcfSf1qhRJ0+/gAmzaZt106ndrbbeqG2v378n9/6tSMv1ZCgoxIuX1btg2D7pIlZV56XBzQpo2c6+ub/DzslBhmI9+yRYaxk7GWrSXoPnBAW3qOyFGsWSP5Itq1k5v1kyap01sYdFseg24iIhNiY6U8z+nTwLvvShB9/77MpX7/ffUL6vJlmWO6fr1k/fXzk/116qQ+G7k56HRSc3fyZCmTRGTPPN2j8WcXmYex81oZfHmkNaITXHHlugtCQmRESZ48MqrkwQNgwwZ53J076o2uwEAZ1WFuKSVTmzxZhmNOnJh8nfABA7QlAk0JCJAs5OfOyXbBgtqkZTqdOgT86lVZJncT72W6dpUbhuvWGdflJlXxkvGoVElusK5aJTdPTf2OiezZs2fAP/+Y/tv97DP5zNm2TabpTJ4MXLkixxh0Wx6DbiIiE374QXrbatSQXmlFjRqAm5skPFKGtebPLxe2S5dKUAAwczjRy3Sr+C/W9l2W7PH27YFRo2RdGV49fbr0+jZtKj3BlpBSMrX9+9X1GzeMj0+YINNQunVL/vnDwoC+feXGHiDJFm/ckHrhht5+Gxg+XN1WbuillYuLZHTv0iV9j89KlJs4w4fLVAOl8gRRZjFokOSLWbhQPivj4mR/0iSB2bKp66VKsUyYNTDoJiKHdOaM1LlND70eWLDA9DHDu8HKcFDDoa+ABOUMuolermvFi8ke8/dXg87t2yUJ2Ny5sv3RR5Zrk/L/+to14NEjdf/t2/K5oggMNH6sYXWC8HBZ6vXAW2/JkM4jR4Aff1Q/m1q1kt4nd3fTbXn3XXU9vUE3pV7SGxOzZrGEGNm36GipjDJhAtC/vzoqaNo0mZJSvrx8bq5dK/vLlgWeP5eRexUryvaiRbZqfdbiYusGEBGZ28WLMo+xWDHg1q20Pz4oSEpvubnJ/CdlzhOg1sQG5ItO+YIDpLe7YUN5jKdn+ttPlJUs7r4Kg9b0NNrfsqX0wLRsCezeDXzxBfDkiQSorVpZrj1eXnKheumSZBZv3172Jx1ufuwY0Lu3uv3ggTpUE5Bh6M2bS7D+66+y78QJtUd78WKZkpKSKlWAP/+UIc/FimXobVEqNG0qSfxy55bRCHfuyBzv9MylJ7KGRYuA33833m9Y4WHYMHW9fXt16tu5c2kvq0jpx39qInI4GzfKMjhY6tumlXJHuEMHmXu5bZt6rHZtdb1dO+DuXXW7enVJstaxY9pfkyirGlj9DJ69NSFx299fbmaVKiXbPXrIcv58Wfr6St17SzI1xFy5+aZUBlBKfSl27tTOo2zRQuZjGyZbfPhQetCzZ5ebdKkxdCgwYkTa2k/p17s30LYt0L27bC9LfgYEkc3o9fIZk5rPBmUkTaFC0iOuYMBtXfznJiKHY3iH98CBtD9eCdq7dJE7wm3aAIcPA8uXG9eyLFRILtCyZeOQcqL0yuUWjQPtv8T40c+xeTPQqZN6zLDcHqDN8m0pSTOYBwWpGcvfeEOWx49rhx4rQ8tdDMYQfvihcYUDQD5bcuY0b5vJvPr3l+Xff8sIBqWeMZE9CA6W8n+K114zfd7mzdI58O23wJ49UvWBbINBNxE5HMMeqAkTgDJlgP/9z7hnypR799SLK8PMyPXry3BDU1atkvmm5ioBRpQVNSpwBV99Eg43N+3+KlVkuK/CmkH3sWMyZ7J1a/XYwIHSUx0eLr3wFy/KnPOlS+X4ypXqXPS1a6WyAaANxg0TpJF9atkS8PaWef3lysnf3YoVMsVhxAjtDd0rV7RJqogszXC6y8mTwLx5xsPM27aVzy4vL+CDD4AKFazbRtJK9Zzu+Ph4S7aDiChDNm4EliyRL5nTpwFnZ9l/7ZosP/1UfgICpHfKy0t6sX18tENVDx6Ux1atKhdcqfnoc3eXH35MZlL8xdmP+HiTv4+OHSXgKVZMboZZ+ldWtar8nw4LA37+GXj8WD4XcuaUCgblysl8yI0b1ZExgNwcaNlSeuqvXpXPm6AgeezHH0tyI50OaNYsc/7ZxcfHAwlQfxzBf+8lPj5ec62r08nQ/u+/V0997TWgUSPpYZw3DwgNlb+Tpk3lb+TIEfnbIbK0Y8fkc2XYMMk1Ex8vN/N69JAbhefOyVQdnS5zftZkNs7KRWcKdHp96qoQ7jUcw0BEZGemTVNL8ABA4cLa+daKEiWAmzfV7Vq1gM6d1e3du4F9+yRLOUvsZBHh4cCuXVKEPWk3K1lHTAwQESFXiUlrZ0HqdgcHyzxvS8/nVsyZo5YABIBKlSSBW968MmQz6cgZDw+gZ0+gdGnZDgiQ4ZyKjz6Sm4AFCgD58lm+/ZYQHh2OXdd3wcPFA24ujvF/JSYuBhFxEfAv5Y9c2bR/e7Gxkvk5JERGKijllxTNm8vfhdLDWLq0TDNS5v0TWcqCBVJqsHNnuY4h22revPlLz+HwciIr0eu1SXbIfGJjtQF3uXJSY9vfX7arVZOEI4A24AYkOVJkpLqtJF5TanATke1lzy7TN6wVcANyg07h5CQ92HnzyrafnzZw9vQExo1TA25AbvwpChSQvA+VKmXegDsrcnWV75K33pLfb9J7ckePaitkXLsGXL5s/DwxMZKFXplqQJScu3cloF6+XEp7mXLvngTcgNSTp8wh1cPLm7BeAlG6xcXJRdrz5/IlrZRrIPM4fFh6pwHJCDx1qlwcN2smPdZ+fjLn6YsvTD++b1+Zo6fXS/Kchw+l51yZ10kO7t49mZjv7MyebluJjpax3DVr2s0dr2rV5HNj927gjz/UbNaKZs1kCgoANG5sXFaqYkVg5EhZ79XLMcpO3Qu/h1UvVsE5uzPcsjnG/5Xo6GiERYahZv2aKJQr5b+927eB11+XShWPH8v2gQPy3Z4zpyyfPjUeBbFypZoFfeJElpSk5PXrB6xZI+tFimizjSt69pRrnr59jT+XyH6lOuhOzVh1IjIWEgJ89pmanGv16uSzTFLqRETIRWzFisAPP8i/bXy8zKNctUo9z9lZLd9Vu7Y6r6lrVxn6+eSJbO/aJRfHK1bI78vNTcoS8WMvi+Av2n44O9vN7yNfPhlGHhEhQ8eTypNH/Uzx8TFuto+PerxCBbt5Wxni7OwsYySVH0fw33txdnZ+6bXukCHye61cWYLoCRMkyAaAKVOA996TGzXBwVJqct48qceufEcBMrrKknXmyX7FxMj1hp+fXH8YjqYB5G9k9271byUgQHLRGAoPB7ZskXM+/tgxPleyCkf5yCSyW/36AbNnq9tDhkj22/r11RIzlDazZsmXzvTp8gWk9CqklNU4d24JygsXlvl3oaGScRgATp2SiySlFNCHH8pwViIiUwG3Yvp0mc7y1Vemjy9YAHTrBrz/vkWaRlam00kiv5IlgVde0R7r3l2CKUASsI0cKYnVypWTck0Kw9rvlHWEhcl1X4cOMtKhZEkpR2fo1CkZQaE4cEACdcWLF3JNGRMjf1dVqlih4WQ2DLqJLOjePeCff4z3L10qw8xbtwZGjZLAkVJn927g88/V7RMngMBAWU9aQzup9etlTnehQnLxVLOm7L9yBRg8WL4U69WTkQlERC/z7rvApUtyAW3K4MEyVNSw5Bk5hqJF1SScv/4q20p9ecMEekkx6M6afvtNgmpD06Zpt5W/m06dZOpKZKR2qsK338roG0BG7DFhX+bCoJvIgpRSMr6+MpQoaRIvAJg5M/m5xqSl18scJsObFLt2SZ1c4OVBt06nrZXr7S0XSoCUgAFkOKA1kzUREVHmtHix3Ph9803Z7t9fe1xJvAcAffrI8sgRJlXNasLC5FoP0N6AO3dOnZ4ASH4aQErQNWsm68q1yePHwNq1sl6woNTdpsyFQTeRBSl3JHv1kvl/xYvL8KKkTp0CDh2Sn5MnJRj87jtrtjRzuHwZePRI1kePluXMmXIBU6IEkD9/2p/T11e7XrlyRltJRERZQe7c6ogpQG7iKomvBg6UObnz50sy1QUL5Ibugwemb8CTY4qNlUSLwcESLAcHS2by4sXl2JYt6rlK0N2ggZSjA2S05LlzkmMiKEj2BQXJc1HmwqCbyEISEuQLF9AmTVGGnxk6eVJKWjVqBDRsKPONJ0yQHtyoKODZM+u02d4pX0h+fnIjA5BM40DK87lT8uqr6nrXrulvGxER0RdfAOvWyZDzKlXkO8bZGXB3B2rUkHO+/lq+28nxbdyoBs0bN8qNmr591ZEPW7dKx8EHHwB37sjfSu3aatB94IA2L1CVKgy4MysG3UQWcv68DAfKkQOoVUvdP368zOMpU0bdFxoqFXMAdRkbK/MFO3WSO6J37lit6XbpxQvgyy9lvX59Kb9jOHSvS5f0PW+vXlIOyN9fTaRGRESUHs7O8n1kqiyYMtJt5kz1+4wc2x9/yHLECG3nQLt2slywQG74f/+9bNeoIckbK1eWQD0iAvjpJ/Vx33xjnXaT+THoJrIQZR5Oo0baOcKurlLm4cgRyaJdoIDpxzs5yR3QXbtkzs/q1RZvsl0bOVKGlwMyGsDZWYbvKZLOpUuLESMkk7ydlAcmIiIHZDjqbepUGY6ufK+R49m8Wa7jnJyAYcO0xxo3VisjbNig7v/hB1k6OWmDdA8P6Xzo0MGybSbLYdBNZAF6PTBnjqy3aWP6nHz5JJD83//UfRUrquvjxmnPP3rUvG20tRcvZAiVYdmVoCApvWNYIgOQ4fUrV8p6r15qr/bkydI7vW8fk58REZF969pV5vMq7txRrwGuXNGWi6LMb9IkWb77LlC2rPZYtmxq77Zi7141gRog10iKli1TLl9I9s/l5acQUVrt2SMBpIeH1OtMydCh0mv74IH03HbuLHUYR42SzKjKsPI9e4AlS4Bq1YDq1S3b/ufP5XUrVEj/c8yYIfOtJ00yXdZi82bJ+nriBPDzz3JXt2ZNuWGRM6fckHjnHSnhpdfL/LeKFYEVK9Tn8/JSM4ISERHZM51O5vL266fuO3dObqo3bixDik+eZCkoRxAVJb9LAHj7bdPnjBwJdOsm13T58snfgCHDoLt1a4s0k6yIQTeRGen1MmRMqb34yivaecfJMUzmdfy4ur51qww7+vxzCYIHDZLA88IF87YbkDnkq1bJcPjx4+VufNK7rimJiZEsnG3byvqYMbK/WzdtdleF8mUESHbXQ4fUMipz5sgX0G+/yY9ygdKnDy9GiIgo89LppNdy927ZPnpUnesdFCTfuy1a2Kx5ZCanT0vWem9vycuTHB8f4NIlGa3n7Kw9xqDbsXB4OZEZBQQAn34KREbK9oABGXu+qlVl/vdXX6n7/v0X+PFHKZGlZEc3hyVLZF50yZLq8Le0JHqZNk0C7Dff1N44CAw0ff7+/er62LHA33+r20FB2n87pT0NG6a+PURERPZo4UIZWly+vPGxWbOs3x4yr8ePpZMEkMD5ZZ0FefJI0t2kiheXqYZjx2qnH1LmxJ5uIjPatUtdd3GR0lbm8N570vP72mvqNiC1vJs2TdtzXb0qw7mfPJGAeONGoHRpNQhWepsBSeCWWpMny3LePDUDOyBlvkaM0J77/Dlw7Jjp53j4UIamm5LesmBERET2okgRCaT69JGbzIcOSaD2+++SNPXBg+STrJL9e/99NUGeYW91Wul0zFbuSBh0E5mREnS7uspQ7aRDhdJLp5Mh6Nu2AcuWqfvPnEn7c733njZT5pAhMpzNVI/0sWPAqVPS2964MfDJJ6afMzZW5mQnJMj20qXqsUOHjM+fP1/mO7m5yU/r1sDcuXK3V68HwsJkPruhUqVkmBYREZEjKFpUfjp2lO3jx2W4+fz5wIcf2rRplA6rVskUQ8Ppc+ktZ0qOh8PLidIhNhb49lsZ6q2YPRs4eFDWL12ShGjmVq2advvGjbTX7965U7sdECBf9GfPmj6/Zk2ZWz5xInD/vulzgoLUgDupCxeAa9fU7YQEtebkDz/I3f1VqyTgBuQGw2efGT9Po0bJviUiIqJMT8nvsmOHbdtBaXf2rFRXMQy4o6LU+fpEDLqJTLh/HwgPT/743LlyF7pSJSA+Hrh7V+YyA8DgwTIv2hJGjADatZPe7lq1ZJ/h3OiU6PWSMVyZb25o5kx5HwULytzuYsVk6HrSMlxJe58VBw7IsmpVedy8eVIGxd9f9hv2fG/eLKVRPD3lAsPV1Xi+U7lykoTk4kV5fz/8AHz9dereJxERUWZUr54sT53STvUi+7dnj3Z73DgpC0ak4PByoiRu35ZgulYt4J9/TJ9j2Fu8ZInM3YmLkznc8+dbrm3e3pIhHJDa1CdOyBDwvn3Vc/R600k7Nm5UhznlyAHcuiWB7DffAH/+Kfvr1pUEZkoSM51O5iYpVq7UbiuUoLt/f+3xQoVkyP3ixTI0XacDfv1Vjg0fLqXBkqP06pcvb7658URERPaqalWZlvbokYxiK1rU1i0iRViYXMN4eqr79HoZ+ejmJtMCACmT2quXdB4QGWJPdxZ044bM6x05Uj7gr1yRodEcziT++ksSfQUEJJ9I7Nw5dX3oUDXL99tvW6+klZKcY/lyKT2SkCBt9vSUnuGkDLODe3pKKTPlrroiaaKyQYPUYd+A3H2PjdWeo9erQXfS4Lh7dyB7dumxPn4cePFCLZMyfHhq3iUREVHW4O4utboB7TBlsq2ICKml7esrJVEBueYaOFCukZRa64AMJ69SRQJxIkMMurOgjh2l5NSsWfJBUa4c8PrrMmw5Ls7WrbO9ixfV9RMnjI8/eaLWyW7SRIZlA5KtvEMHy7dPoQTdd+7IMO4OHeRmSni48TBwvV5bXkzJNJ406K5bV7tdoABw/rxkUs2dW+YnnT+vPefmTRle7+Ji/PjcuYGuXWV94UJJ2BYTI8PvK1RI6zsmIiJybDVrytJUhQ+yjT17gOBg6bQ6dkyuAzt2lKl+kZFS/u3SJTk36XUQkYJBdxZz5Ypx0KRISJCEWFmd0msLaOtNK5Qs36VLy/xlRY0aKQ+XNjflbrhi2zb1JsGZMxIgK86fl+DYzU2CcqWXuVgx7ReEqZJchQoB+fOrQb7hhUBCArB+vazXrQt4eBg/XilzNmeOzIUHgLZtrTcigIiIKLNo1kyWylSyrCgsTEbGWVtoqExpGzxYpsTduCH7DX8X/foBvXtLglnFvHmybNhQyrsSmcKgO4tZsUK77eKi7e3ct8+67bE3d+5ob0ocPy6B5e3b6j4lsK1dWxuklihhnTYqXF0lQ7qLC1C2rPZYXJx6AyUhARg/Xtbbtze+MTB3rgTLtWunXBdUCc4XLZLe6vh4ef/vvCP7+/c3/bg2bSTzeGSk1B8FgE6dUv8+iYiIsgplxFxgIHDvnm3bYm1Dh8oNeS8vGc4dEGDd4Hv+fMnRs2gRMG2aBNFhYcCaNeo5t2+r5WGTllH9+GNrtZQyIwbdWYzSS1u2rASJJ08CR45Ipmkg6wbdf/whgeF772n3Hz8u87SLFVNrWyvzrGrVktrU334rvcHKvG5rWr5cynEZJm9TylMEBsqc9PbtgU2bpK1Tpxo/R9Wq8iWjzLVOzquvSgK2gADJyFmmjPpv4eIid39N0enk30iRP7/0dBMREZGWj496k9vRersTEoBnz0wfCw1Ve4wBubZp1gwYM8Y6bQOMb3KEhADduskUOlPGjgVatpT1UaPYoUApY9CdxSi9tLNny7CZqlVlW6mBnNY5RD/+CLRqpQ2qMpvAQOCNN4BDh9RkYzNmyPLyZTXbtlKySgk0lXlXH3wgH8iVKlmvzQoPD7kh4OcnCeAOHpR5RoCU5urfH9i+Xc774w9J7mFK4cIy/zollStrR0rcvKmu//yzBNPJadRIkqoBkpwtaSkyIiIiEq1aydIwF4sj6NNHrjcMp/EBUuNamcKW1KZNli+fFh8vI/hMTbFUqtjs3Ss3QfLmVY/lzStT7O7fB377jdPmKGUMurOQ0FA1UFICRoWvryyDg+W81HjwQHqGd+2S4cvXrxuf8/Sp/SdnU3r5Fa1bSz3s4sW1+4OCJIHa5cuynfTf0Nb69JGhUEr5sM2b1bvke/cCw4Zl/DU6dDC+wTJ5stzhfZl586Qe+JQpGW8HERGRo2rSRJaONPowJgZYtUqGizduLBnBFaNHq9en774r09GUaX0PHmin+KXGxYvA48epP79bN7kZYFgO1pCnp7S5XTvpeGnXTm4GADICMKWpeUQKBt1ZiNLLXbasts4gIL2cZcrI+qlTqXs+w15xvV4CKkV8vAw3zpNHhmEnJKS31Zbz/Ln0cCvzjDdulAyV27ZJwrHSpY3Pr1xZ3uvL5j/bUvnyEnwrqlY1bzbNDz6QGt+K1D63p6f8e+fIYb62EBEROZpGjaTX9Nq15Ic2ZzZJe5HXrZPljRvaHv1+/aR0WpEiaufG3LkyPU4J1J8+VUt3JXX6tFz3dOuWunZdvizXf0k7nAoXVtcrVpT66YB0yGzZYt1qNeQYGHRnIUrQXauW6eNKb3dqg25lfriSmMuwDvTMmTLcGZBM2v/+m5aWWsf8+TLkGgBy5ZIP0ObN1eFByr8HoK0pnTevOr/bXn3wgbqu3DE3p2LFgHHjgC5d1PlMRERElHGenuo1yObNsrT0EGtLO3xYu710qSyVa0U/P+DqVTUvDaAm+p00CZg4UXLLnDkDlColvc2m/PKLjLDctw949Ojl7Vq+XLvds6eM4DS8SZC0WgxRejDozkKU8lcvC7qVOcsvo/R0jx8vger16zKvBTAegmyPQ6QM76y+/rrxXJxPP5Vh5oGBkiVc0aWLJE6zZ927yxeSTge88oplXuObb+ROdbZslnl+IiKirKpPH1kuXChT/4oVA7y9ZTszOnRIlkqlk61bJShW5nf37m08wlApn6ZYuVKymj95IiMTnzwxfp2DB7Xnf/+9jFRMzqpV2u0PP5TOBG9vma/dvr1kMifKKAbdDk6vB3r1AqpVU3uik0tWoQwTPnIkdc+rBN3+/mqCrgkTgBYtZG6OTieZHQEJcDdvluFCyc2ZsSa9Hti/X9anTjWdeTxvXukJr11bTWoCZI7M2zodsHat3DU2HGpORERE9m/QIPku37dPcqfcuSNDoH/6ydYtS7uYGDXHzMiRMmw8Lk6uS5VrSVNT1V6WDfzoUe329evasq+jRsnIvxEjTD/+7l3p0dbpgAULJFmsYRndzp3l2tXHJ+V2EKUGg24Hd/my3MU7e1bdl1wCMGVIz5UrcqcwpaFMt29LcgtnZ6BGDTWwmztXknYBEoi3by/rBw5IVu27d+1jHsz161IawtVVksG5u6d8voeHvLd33pGbGJlBtmwyBIuIiIgyl6JF1Z7eP/9U958+rU1Clhns2iX1rgsWlGHkAwbI/u++k7Jczs7aKX2KXLmk0wiQHvJ796SWt+LIEbnOnTQJCA9X62cnlXQIuWLbNlnWrg0MHiy97USWwqA7k4qIkGA6uUQSih07tNvlywP58pk+N08eoEIFWffz05aHSkq5M1m1qgSkyrxew6HGVaoAderIumF5qdjY5Os0WovSfl9fIHv21D1myBApkebiYqlWEREREYmuXdV1FxfpIIiLU3P0ZBZKHpwePSTA7tlTtq9dk6VyLWnK5s3AJ59I+VYfH7kB8fPPcmz/fmDgQBkJMGyYGnSbqqjy9Knxvq1bZal0EBFZEoPuTOrVV6XHdfJk08dDQ4FFi9ThPFOnSrKKlStTfl7DYTVKVm9Tkg4H6t1byicYlg2rW1cCeSUruiHl7qKtKPPWk5vfTkRERGRLhkH3+PFqcPjzz/ZZFSY5SuLd5s1lWbIkkD+/etwweVpSRYvKFEAvL3Vfmzay3LFDvR79+2+ZVgdIBvSklHrbISHS8RMXp3ZMJZeUjcicGHRnQnv3qsHztGlAdLTxOX37ylAZpY5gq1aSlEMZppMcZQ42oCZeM0X5kFN6sp2dZdh4oUIy3Oejj4C33pJjpgJbw0QXtqBkaDc1nImIiIjI1kqVAmbMAL76CpgyRU3q+vffmSehWlycZBwH1OmNOp22k0cJolOrQgXtDQlFVJSMsmzQwHgq5fr1Mi++fHm5Jj56VBKxeXlp20JkKQy6M6H167XbpnqkDee1uLjIvOvU8PUFHj+W9atX5Y5gfLz2nNhYtfRDgwbGz1GvHvC//6lDzQ3nFX/yiSwNa3xbm16v9nQnN7+diIiIyNZGj1arxLz2mprVfPt2mzYrVe7dk57qqCiZn2048rFAAXXd3z/tzz1pknZ7yhRJ2hsUBLi5yY2JNm3U89askZ/wcLkG/eYb2d+6NacNknUw6M6ElICxZElZ/v679njS0ghVq6atrJOXF1CpkqwXKiR3BV+8kO3Hj2WuzIsXkt37ZT3ngCTMcHaWTJwDB8q+Eyfk7qct3LolSeCcnFLXfiIiIiJb0+lk7jJg286LpE6flmS5p09r98+fr5aS9fGR6y7FkCGyrF9fpiKmla+vWspr5kyp492kiVxvAhLgb9smVXW8vOT6dcwY9fHr1sly8OC0vzZRejDozmT0enVo9IwZ8uGybx9w4YJ6jnJcUaxY2l/HsMzUtWtqea1p09Qsmo0aaT9Ak1OjhgS58+bJkKBcuYDISG1ZB2taskSWfn7JJ+4gIiIisjfKtL4rV6QH3B7mdvfoIQnPunTR7jcsQavU51Y0aSI3DjZvTv/rfvyxXF++/nry57i6SpZ0V1fjYzVr2kdFHcoaGHRnMjdvStkFV1cZEqPUjzbMUp50LnZ6ykYlre2sDCdXMj0C8vqplTevDN9xclLrhJu6S3v+PPD995brBd+2Ta3JbVh2goiIiMje5c0LFCki6998o/bY2sqTJzIdEZBrVKVnW68HDh2S9Rkz1OmFhurUkfeTEfnzywiAlAwdKhV/FDqddAgtXvzyxxKZC4PuTEYpE1GlisxZadpUtvftU89RAuQqVeQO3uefp/11kgbdBw7I3O4bN2R78GBgxIi0Py+gZjw3FXTXrw988IHclTS3336TDJWRkdL7n1nqbRMREREp3nxTXe/RQ+Z928rff2u3V66UgPvyZemFdnMDhg+XpS117iwdVAEBkpvo1CmgcmXbtomyFgbdmYyS9Vspr9CkiSz37ZPslqtWSYAMSEmJTZvSdxdRmdOtOHwY+Pdfmcvt4QHMnZv6+tZJJQ26Y2Kk/mJgoDoffc2a9D13cvR66UEHpJTE8eNAzpzmfQ0iIiIiS5swQS2BBUinQkiI9duh16s1sz09ZfnWW9IT/+GHst2sWdryCllSq1baed9E1sSgO5NRAurGjWVZt658mN2/L3NbevUCgoPlAyWluocv4+QkgfWQIYC7u2R7VMpT+Ppm7ANLCbpPn5YP6/795UNa2Q/IHdKkWdPTa+lSeT/Xrsn2r79q60MSERERZSZ+ftps4Ibzp61l717g3DnpxJg7V91/75467H3KFOu3i8geMejORO7fV4eOK0G3u7vpUgs1awI5cmTs9YYMkQ9RZQj7L7+oz50RJUpIqYi4OOCdd0yXPHvyRM3SnlqzZ8t88UuX1H16vZoxHZD57RmdP0RERERkS87OMkJQqd2tXB9a07Jlsuzf33St7YYNM9YBRORIGHRnEs+eAbVqyXrx4hK4Kvr2NT7f1Idfevn5yTIyUpZKO9JLpwNatjTeX6+ezK8pXFi2DZPDpcbrr8ucd+ULCDD+EvLxSdtzEhEREdmjPHnUjOHW7umOjVU7Tfr1k95upZStwpzXokSZHYPuTGLuXODuXSm3tWSJNtti167GvbemAvH0UoJuRUaDbgBo29Z4386dMkxpwgTZTkvQrWTOBKSne+NGWU9aisIcbSciIiKyB0pP8rFj5puWlxqrVwOhoTJyURkRuW0bMGmSeo5SYYeIABdbN4BebsMGyegNAN9+qw4tV3h6ylDs7dslo3j27EC1auZ7feXDVGGObI9J7376+8sNBUD9kD5wQL5EDOd6mxIdDbz9tnZfjx7AZ5+pd35HjJChWEq5MCIiIqLMrnJl6WV+/lzKrprz+i85er0k7wUkk7rLf9FE+fJy7XX2rCTebdDA8m0hyiwYdNu5hATgtdfk7mWZMsArr5g+r3hxKcng7Q1Ur27euoOurhK0zp4tSdvMUfahcGFg/nyZ192gAVCokHqsfHm5c3vkiAT8a9ZIqa/kTJ+u9mhPmiS1xA8fBj79VD1n5Ej2chMREZFjcXaWzok9e+TaxxpB9/XrUnLLzQ0YM0Z7TKczLiNGRBxebvfOnQMeP5b1oCAp15WSbt2A0qXN347p04H335fedHN59VVg2DCpJ244PF6nkyFK7dsDUVEyX0nJgmmKMpS8TRspUbF/vzbgBqzzJURERERkbUqPsrXmdZ84Ictq1Ziclii1GHTbuYAAWbZunfFs5BmRIwfw3XfGQ80txdMTWLsW6NNHknUMG6befDD09KmaLG3WLBla7+wMTJ4MDBgg+1u2lN56IiIiIkdTr54sjx61zusp1WUyWs2GKCth0G3nlGRi1gp27YmbmySNq1JFknVMnmx8zp49MvS+fHlt1kydTuqKr10rw9iJiIiIHFHt2rI8f15GCFoag26itGPQbcf271eHVXfsaNu22IqLC/DTT7L+668y3N7Qtm2yNJUN3dlZMrsXK2bZNhIRERHZStGiQP780gmxdq0kOrMUvV4dXs6gmyj1GHTbse++k+WwYVn7g83fH+jeXb5MPvtMe0yZY85akERERJQV6XTqdWL//pIzJyHBMq919Spw/76MRvT1tcxrEDkiBt12Zts24PRpmce8e7fsGznStm2yB0qpr9Wr1d7uy5eBa9dkvnbz5jZrGhEREZFNGSaMXbRISnlZosd7715Z1q8veXSIKHUYdNuRixclY3erVlKjOjxcskJm5V5uReXKksUckFIUkZHAJ5/IdsuWUqOSiIiIKCt6/XXAz0+m1el0klzWnBVnFErQzc4OorRh0G1lCQkSXD9/bnzs8GG5K/nwITBxouzz95e5ySQ3JABJnlaliloH8r33bNcmIiIiIlsrX15yAa1dKwE4IKMDzW3/flk2a2b+5yZyZAy6Lejff6VsVVCQbEdFATVqABUryhzlpJRskID0dANZM2t5cho3lmVAAHD9uqy3bs353ERERESKHj1kuX69Orf7xQtg6VIptZpeoaHAzZuyrmRMJ6LUYdBtIXo9MGgQsGyZBM5hYcCuXcDZs3J8927jsg6GQbeibl2LNzXTqFwZyJNH3X7jDRk6pdPZrElEREREdqVZMyB3biAkBFixAujXT6bhDRwIlCgBrFqVvvnep07JsnRp7fUYEb0cg24L2bIFOH5c1p89A+bOBTZsUI8nJABnzqjber36YebiIktXV+kZJ+HkBLzyirrdp4/t2kJERERkj7JlU5Pw9u8P/PWXeuzpU6BXLylJ+/ixXKMaio83/Zzh4cCECbLOXENEaceg20IMA2xA5mtv2qTdt3ix9IYHBwMXLsgHX/bssg8AqlcH3N2t097M4scfgQULgBkzgBYtbN0aIiIiIvszfrxxb/Tbb6vra9cClSrJMPH4eAnAO3aUHnFl3rYiKgr46CPg6FHZZtBNlHYutm6Ao1LKfb3zDvDTT2rSLzc3YNQo2ffzz7Lv2jVg8GBZb9QIeP99+cB7803rt9veOTmp/1ZEREREZCxvXmDqVGD0aNl++BDw9pba2kOHSgcGADx4AJw/D8yfD2zeLPtWrVLz6AQGAg0aaHvAe/a01rsgchwMui3g9m3g0iUJEMeOlQBbUbeuzPE23HfoEFCypKw3bQpUrSo1qImIiIiI0mPkSMkpVKqUBNyA6QRohw6pCXwB7fp332kD7mfPgFy5LNJcIofG4eUWsHWrLGvXBooXl2zliiZNTA+L3rNHlsxWTkREREQZ5eQk87D791f3Va5sfN4//2iT+R47JrmJABmNaYgBN1H6MOi2gJUrZamUBXvrLfVYkyaAl5fxY0JC5IOsQQPLt4+IiIiIsh4XF0lKmy8fMGWK7Fu6FIiJkevTQoVkX4cOUqL1xAn1sTNmWL+9RI6Cw8vN7PFjKQ0GqHNeRo+WD7MzZ6SutLLv11+1j+3cmYnTiIiIiMhyFi4EYmNl2PjatWq1nbp15Vp0zBjZHjZMzilRQkre5shhsyYTZXoMus1s/nwgLk4SVZQvr+5/7z3teT/8IOXAnj4Fxo2TfYbDf4iIiIiILMHVVX727ZM8Q4cPAx98IAnUypYF2rcHrlyRc9u3l6zmRJR+WS7ovnULuHvX/MO4X39dsj1GRMj2qFEpn+/mBowYIevNmwPXr0upBiIiIiIia8ieXcqBGWrVShL83rgh2507W7tVRI4ny8zpPnxYMonXrg00bAh8/73p82JjgRcv0vbcoaHA7NkytDwqSj7ABg5M/ePr1AF69wZ0urS9LhERERGRObm4ANOny3rOnEDLlrZtD5EjcLig++lTYPhwGdrdty+g10tWxoYN5QPk0SM574MPpGZhUs2aybCaBw9S93rffKOWYVA0asR5L0RERESUOXXrJomBt25lviEic3C4oDtnThnmffkysGKFlDr4/XfT5xpmZASkvvahQ5JJfOZM04/R62Xe9qZNMkx9/Hjjc5o1y9BbICIiIiKyqZ49AT8/W7eCyDE4XNDt7KwOiQEkQcTevabPNaxJCMgQdMXChRJgJ7V7NzBkiNwBVEotJFWvXlpaTERERERERI7KIROpvfYacOGCDP0eMkTdv3evDDV3dgYmTgROndI+zjDovnoVCA4GihdX9+n1wKRJsh4Xp/aGN2kiyxo1gMhIwN/fvO+HiIiIiIiIMieHDLoBKXnwzTfqdrNm6s/27bLv8GHJNu7hAURHA1u2aJ/j5Elt0L1nD7B/v/Fr/fQTULOm+d8DERERERERZW4ON7xc4e8vAXbVqkCnTsDkyeqxunWBXLmAmzeBfv2kZvabbwLnzwNeXlKPEADmzQOePwcWLACKFQN69JD9b74JlC4t6zlyANWqWfe9ERERERERUebgsD3dHh7Jz+X28pKMjG3bAhs2yI/il18kw/mWLcC6dVLP+9w57ePHjwcqVwbeekt61F0c9l+RiIiIiIiIMiLLhoutWgF58gBhYdr9rVsDFy+q20kDbl9fGXI+apQE740bW7ihRERERERElGk57PDyl3FyMh4W7uwMFCggdbbffBNo0cL4cTVqqI8fMEA755uIiIiIiIjIUJbt6Qakp9tQfLwsnZ2BX3+VbOWVKqk93z4+kvWciIiIiIiIKDWybE83AEydCmTLpm7/9pv2uE4n88I//xy4exe4dw8oW9aqTSQiIiIiIqJMLEv3dFerJnW14+KkZnedOsbn+PiotbmJiIiIiIiI0iJLB92A9Ga7ukoZMSIiIiIiIiJzytLDy4mIiIiIiIgsiUE3ERERERERkYUw6CYiIiIiIiKyEAbdRERERERERBaS5ROpERERAQAiImzdgqyL//aZSkSs4/y+HOm9EJH90un1er2tG0FERERERETkiDi8nIiIiIiIiMhCGHQTERERERERWQiDbiIiIiIiIiILYdBNREREREREZCEMuomIiIiIiIgshEE3ERERERERkYUw6CYiIiIiIiKyEAbdRERERERERBbCoJuIiIiIiIjIQv4PwaN5uJwWrBMAAAAASUVORK5CYII=\n",
        "text/plain": "<Figure size 1000x200 with 1 Axes>"
       },
       "metadata": {},
       "status": "ok"
      }
     }
    ]
   },
   "source": [
    "\n",
    "If we look at the following stock price for [Apple](https://en.wikipedia.org/wiki/Apple_Inc.) ({eval}`stocks`) we can see that in 2003, they started selling [computers](https://en.wikipedia.org/wiki/MacBook_Pro), in the red region and their stock went crazy once the investment paid off ({eval}`annotated`).[^note]\n",
    "\n",
    "[^note]: Both the graphs are fake, but pretty cool right!  "
   ]
  },
  {
   "cell_type": "code",
   "execution_count": 86,
   "id": "463cdcbe-066d-4187-bf4a-d09b4233666f",
   "metadata": {},
   "outputs": [],
   "source": [
    "text_hover = HTML('<span onmouseover=\"this.innerText=\\'💚\\'\" onmouseout=\"this.innerText=\\'🎉\\'\">❤️</span>');"
   ]
  },
  {
   "cell_type": "markdown",
   "id": "dd711f73-94eb-4da4-ba01-2ac822450a2f",
   "metadata": {
    "user_expressions": [
     {
      "expression": "text_hover",
      "result": {
       "data": {
        "text/html": "<span onmouseover=\"this.innerText='💚'\" onmouseout=\"this.innerText='🎉'\">❤️</span>",
        "text/plain": "<IPython.core.display.HTML object>"
       },
       "metadata": {},
       "status": "ok"
      }
     }
    ]
   },
   "source": [
    "Try hovering over this element[^trust]: {eval}`text_hover`\n",
    "\n",
    "[^trust]: You may need to set your notebook to trusted to do this!"
   ]
  }
 ],
 "metadata": {
  "kernelspec": {
   "display_name": "Python 3 (ipykernel)",
   "language": "python",
   "name": "python3"
  },
  "language_info": {
   "codemirror_mode": {
    "name": "ipython",
    "version": 3
   },
   "file_extension": ".py",
   "mimetype": "text/x-python",
   "name": "python",
   "nbconvert_exporter": "python",
   "pygments_lexer": "ipython3",
   "version": "3.9.7"
  }
 },
 "nbformat": 4,
 "nbformat_minor": 5
}
