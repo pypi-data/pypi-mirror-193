{
 "cells": [
  {
   "cell_type": "markdown",
   "metadata": {},
   "source": [
    "## Spatial analysis"
   ]
  },
  {
   "cell_type": "code",
   "execution_count": 1,
   "metadata": {},
   "outputs": [],
   "source": [
    "import movekit as mkit\n",
    "import numpy as np\n",
    "import pandas as pd\n",
    "import matplotlib.pyplot as plt\n",
    "from scipy.spatial import Voronoi, voronoi_plot_2d, convex_hull_plot_2d, delaunay_plot_2d"
   ]
  },
  {
   "cell_type": "code",
   "execution_count": 5,
   "metadata": {},
   "outputs": [
    {
     "name": "stderr",
     "output_type": "stream",
     "text": [
      "Extracting all absolute features: 100%|██████████| 100.0/100 [00:01<00:00, 81.44it/s]\n"
     ]
    },
    {
     "data": {
      "text/html": [
       "<div>\n",
       "<style scoped>\n",
       "    .dataframe tbody tr th:only-of-type {\n",
       "        vertical-align: middle;\n",
       "    }\n",
       "\n",
       "    .dataframe tbody tr th {\n",
       "        vertical-align: top;\n",
       "    }\n",
       "\n",
       "    .dataframe thead th {\n",
       "        text-align: right;\n",
       "    }\n",
       "</style>\n",
       "<table border=\"1\" class=\"dataframe\">\n",
       "  <thead>\n",
       "    <tr style=\"text-align: right;\">\n",
       "      <th></th>\n",
       "      <th>time</th>\n",
       "      <th>animal_id</th>\n",
       "      <th>x</th>\n",
       "      <th>y</th>\n",
       "      <th>distance</th>\n",
       "      <th>direction</th>\n",
       "      <th>turning</th>\n",
       "      <th>average_speed</th>\n",
       "      <th>average_acceleration</th>\n",
       "      <th>stopped</th>\n",
       "    </tr>\n",
       "  </thead>\n",
       "  <tbody>\n",
       "    <tr>\n",
       "      <th>0</th>\n",
       "      <td>1</td>\n",
       "      <td>312</td>\n",
       "      <td>405.29</td>\n",
       "      <td>417.76</td>\n",
       "      <td>0.0</td>\n",
       "      <td>(0.0, 0.0)</td>\n",
       "      <td>0.0</td>\n",
       "      <td>0.210217</td>\n",
       "      <td>-0.006079</td>\n",
       "      <td>1</td>\n",
       "    </tr>\n",
       "    <tr>\n",
       "      <th>1</th>\n",
       "      <td>1</td>\n",
       "      <td>511</td>\n",
       "      <td>369.99</td>\n",
       "      <td>428.78</td>\n",
       "      <td>0.0</td>\n",
       "      <td>(0.0, 0.0)</td>\n",
       "      <td>0.0</td>\n",
       "      <td>0.020944</td>\n",
       "      <td>0.000041</td>\n",
       "      <td>1</td>\n",
       "    </tr>\n",
       "    <tr>\n",
       "      <th>2</th>\n",
       "      <td>1</td>\n",
       "      <td>607</td>\n",
       "      <td>390.33</td>\n",
       "      <td>405.89</td>\n",
       "      <td>0.0</td>\n",
       "      <td>(0.0, 0.0)</td>\n",
       "      <td>0.0</td>\n",
       "      <td>0.070235</td>\n",
       "      <td>0.000344</td>\n",
       "      <td>1</td>\n",
       "    </tr>\n",
       "    <tr>\n",
       "      <th>3</th>\n",
       "      <td>1</td>\n",
       "      <td>811</td>\n",
       "      <td>445.15</td>\n",
       "      <td>411.94</td>\n",
       "      <td>0.0</td>\n",
       "      <td>(0.0, 0.0)</td>\n",
       "      <td>0.0</td>\n",
       "      <td>0.370500</td>\n",
       "      <td>0.007092</td>\n",
       "      <td>1</td>\n",
       "    </tr>\n",
       "    <tr>\n",
       "      <th>4</th>\n",
       "      <td>1</td>\n",
       "      <td>905</td>\n",
       "      <td>366.06</td>\n",
       "      <td>451.76</td>\n",
       "      <td>0.0</td>\n",
       "      <td>(0.0, 0.0)</td>\n",
       "      <td>0.0</td>\n",
       "      <td>0.118000</td>\n",
       "      <td>-0.003975</td>\n",
       "      <td>1</td>\n",
       "    </tr>\n",
       "  </tbody>\n",
       "</table>\n",
       "</div>"
      ],
      "text/plain": [
       "   time  animal_id       x       y  distance   direction  turning  \\\n",
       "0     1        312  405.29  417.76       0.0  (0.0, 0.0)      0.0   \n",
       "1     1        511  369.99  428.78       0.0  (0.0, 0.0)      0.0   \n",
       "2     1        607  390.33  405.89       0.0  (0.0, 0.0)      0.0   \n",
       "3     1        811  445.15  411.94       0.0  (0.0, 0.0)      0.0   \n",
       "4     1        905  366.06  451.76       0.0  (0.0, 0.0)      0.0   \n",
       "\n",
       "   average_speed  average_acceleration  stopped  \n",
       "0       0.210217             -0.006079        1  \n",
       "1       0.020944              0.000041        1  \n",
       "2       0.070235              0.000344        1  \n",
       "3       0.370500              0.007092        1  \n",
       "4       0.118000             -0.003975        1  "
      ]
     },
     "execution_count": 5,
     "metadata": {},
     "output_type": "execute_result"
    }
   ],
   "source": [
    "path = \"datasets/fish-5-cleaned.csv\"\n",
    "data = mkit.read_data(path)\n",
    "data = mkit.extract_features(data)\n",
    "data.head()"
   ]
  },
  {
   "cell_type": "markdown",
   "metadata": {},
   "source": [
    "### Spatial Objects\n",
    "The function below produces three types of spatial objects: Voronoi-Diagrams, Convex Hulls and Delaunay Triangles. Optionally, one may obtain only group-specific outputs - one object per time-capture. These spatial objects may be used for a set of attributes, which are described below in detail.\n",
    "To get the full functionality of all attributes, please go to https://docs.scipy.org/doc/scipy-0.14.0/reference/tutorial/spatial.html."
   ]
  },
  {
   "cell_type": "code",
   "execution_count": 6,
   "metadata": {},
   "outputs": [
    {
     "name": "stderr",
     "output_type": "stream",
     "text": [
      "Calculating spatial objects: 100%|██████████| 1000/1000 [00:15<00:00, 63.51it/s]\n"
     ]
    },
    {
     "data": {
      "text/html": [
       "<div>\n",
       "<style scoped>\n",
       "    .dataframe tbody tr th:only-of-type {\n",
       "        vertical-align: middle;\n",
       "    }\n",
       "\n",
       "    .dataframe tbody tr th {\n",
       "        vertical-align: top;\n",
       "    }\n",
       "\n",
       "    .dataframe thead th {\n",
       "        text-align: right;\n",
       "    }\n",
       "</style>\n",
       "<table border=\"1\" class=\"dataframe\">\n",
       "  <thead>\n",
       "    <tr style=\"text-align: right;\">\n",
       "      <th></th>\n",
       "      <th>time</th>\n",
       "      <th>convex_hull_object</th>\n",
       "      <th>voronoi_object</th>\n",
       "      <th>delaunay_object</th>\n",
       "      <th>convex_hull_volume</th>\n",
       "      <th>voronoi_volume</th>\n",
       "    </tr>\n",
       "  </thead>\n",
       "  <tbody>\n",
       "    <tr>\n",
       "      <th>0</th>\n",
       "      <td>1</td>\n",
       "      <td>&lt;scipy.spatial.qhull.ConvexHull object at 0x7f...</td>\n",
       "      <td>&lt;scipy.spatial.qhull.Voronoi object at 0x7ff88...</td>\n",
       "      <td>&lt;scipy.spatial.qhull.Delaunay object at 0x7ff8...</td>\n",
       "      <td>1519.44120</td>\n",
       "      <td>inf</td>\n",
       "    </tr>\n",
       "    <tr>\n",
       "      <th>1</th>\n",
       "      <td>2</td>\n",
       "      <td>&lt;scipy.spatial.qhull.ConvexHull object at 0x7f...</td>\n",
       "      <td>&lt;scipy.spatial.qhull.Voronoi object at 0x7ff88...</td>\n",
       "      <td>&lt;scipy.spatial.qhull.Delaunay object at 0x7ff8...</td>\n",
       "      <td>1528.95525</td>\n",
       "      <td>inf</td>\n",
       "    </tr>\n",
       "    <tr>\n",
       "      <th>2</th>\n",
       "      <td>3</td>\n",
       "      <td>&lt;scipy.spatial.qhull.ConvexHull object at 0x7f...</td>\n",
       "      <td>&lt;scipy.spatial.qhull.Voronoi object at 0x7ff88...</td>\n",
       "      <td>&lt;scipy.spatial.qhull.Delaunay object at 0x7ff8...</td>\n",
       "      <td>1539.23800</td>\n",
       "      <td>inf</td>\n",
       "    </tr>\n",
       "    <tr>\n",
       "      <th>3</th>\n",
       "      <td>4</td>\n",
       "      <td>&lt;scipy.spatial.qhull.ConvexHull object at 0x7f...</td>\n",
       "      <td>&lt;scipy.spatial.qhull.Voronoi object at 0x7ff88...</td>\n",
       "      <td>&lt;scipy.spatial.qhull.Delaunay object at 0x7ff8...</td>\n",
       "      <td>1549.61380</td>\n",
       "      <td>inf</td>\n",
       "    </tr>\n",
       "    <tr>\n",
       "      <th>4</th>\n",
       "      <td>5</td>\n",
       "      <td>&lt;scipy.spatial.qhull.ConvexHull object at 0x7f...</td>\n",
       "      <td>&lt;scipy.spatial.qhull.Voronoi object at 0x7ff88...</td>\n",
       "      <td>&lt;scipy.spatial.qhull.Delaunay object at 0x7ff8...</td>\n",
       "      <td>1560.33905</td>\n",
       "      <td>inf</td>\n",
       "    </tr>\n",
       "  </tbody>\n",
       "</table>\n",
       "</div>"
      ],
      "text/plain": [
       "   time                                 convex_hull_object  \\\n",
       "0     1  <scipy.spatial.qhull.ConvexHull object at 0x7f...   \n",
       "1     2  <scipy.spatial.qhull.ConvexHull object at 0x7f...   \n",
       "2     3  <scipy.spatial.qhull.ConvexHull object at 0x7f...   \n",
       "3     4  <scipy.spatial.qhull.ConvexHull object at 0x7f...   \n",
       "4     5  <scipy.spatial.qhull.ConvexHull object at 0x7f...   \n",
       "\n",
       "                                      voronoi_object  \\\n",
       "0  <scipy.spatial.qhull.Voronoi object at 0x7ff88...   \n",
       "1  <scipy.spatial.qhull.Voronoi object at 0x7ff88...   \n",
       "2  <scipy.spatial.qhull.Voronoi object at 0x7ff88...   \n",
       "3  <scipy.spatial.qhull.Voronoi object at 0x7ff88...   \n",
       "4  <scipy.spatial.qhull.Voronoi object at 0x7ff88...   \n",
       "\n",
       "                                     delaunay_object  convex_hull_volume  \\\n",
       "0  <scipy.spatial.qhull.Delaunay object at 0x7ff8...          1519.44120   \n",
       "1  <scipy.spatial.qhull.Delaunay object at 0x7ff8...          1528.95525   \n",
       "2  <scipy.spatial.qhull.Delaunay object at 0x7ff8...          1539.23800   \n",
       "3  <scipy.spatial.qhull.Delaunay object at 0x7ff8...          1549.61380   \n",
       "4  <scipy.spatial.qhull.Delaunay object at 0x7ff8...          1560.33905   \n",
       "\n",
       "   voronoi_volume  \n",
       "0             inf  \n",
       "1             inf  \n",
       "2             inf  \n",
       "3             inf  \n",
       "4             inf  "
      ]
     },
     "execution_count": 6,
     "metadata": {},
     "output_type": "execute_result"
    }
   ],
   "source": [
    "spatial_obj = mkit.get_spatial_objects(data, group_output = True)\n",
    "spatial_obj.head()"
   ]
  },
  {
   "cell_type": "markdown",
   "metadata": {
    "tags": []
   },
   "source": [
    "#### Producing a voronoi diagram\n",
    "Each timestep gets a voronoi object as well as the area of the voronoi - shape. Infinity, if respective animal is outmost in swarm.\n",
    "\n",
    "Voronoi object contains the following attributes:\n",
    "\n",
    "- `points` Coordinates of input points.\n",
    "\n",
    "- `vertices` Coordinates of the Voronoi vertices.\n",
    "\n",
    "- `ridge_points` Indices of the points between which each Voronoi ridge lies.\n",
    "\n",
    "- `ridge_vertices` Indices of the Voronoi vertices forming each Voronoi ridge.\n",
    "\n",
    "- `regions` Indices of the Voronoi vertices forming each Voronoi region. -1 indicates vertex outside the Voronoi diagram.\n",
    "\n",
    "- `point_region` Index of the Voronoi region for each input point. If qhull option “Qc” was not specified, the list will contain -1 for points that are not associated with a Voronoi region.\n",
    "\n",
    "- `furthest_site` True if this was a furthest site triangulation and False if not.\n",
    "\n"
   ]
  },
  {
   "cell_type": "markdown",
   "metadata": {},
   "source": [
    "#### Producing a convex hull\n",
    "Similar to voronoi-diagram, also the convex hull is of interest for movement-related data. Additionally, a set of attributes may be attached to the convex hull objects. Examples are:\n",
    "\n",
    "- `points` (array of ints) Coordinates of input points\n",
    "\n",
    "- `vertices` (array of ints ) Point indices forming the veritces of the convex hull\n",
    "\n",
    "- `area` Area of the convex hull.\n",
    "\n",
    "- `volume` Volume of the convex hull."
   ]
  },
  {
   "cell_type": "markdown",
   "metadata": {},
   "source": [
    "#### Producing Delaunay-triangles\n",
    "Examples for attributes of interest consist of:\n",
    "\n",
    "- `transform`\tAffine transform from x to the barycentric coordinates c.\n",
    "- `vertex_to_simplex`\tLookup array, from a vertex, to some simplex which it is a part of.\n",
    "- `convex_hull`\tVertices of facets forming the convex hull of the point set.\n",
    "- `vertex_neighbor_vertices`\tNeighboring vertices of vertices.\n",
    "- `points`\t(ndarray of double, shape (npoints, ndim)) Coordinates of input points.\n",
    "- `simplices`\t(ndarray of ints, shape (nsimplex, ndim+1)) Indices of the points forming the simplices in the triangulation. For 2-D, the points are oriented counterclockwise.\n",
    "- `neighbors`\t(ndarray of ints, shape (nsimplex, ndim+1)) Indices of neighbor simplices for each simplex. The kth neighbor is opposite to the kth vertex. For simplices at the boundary, -1 denotes no neighbor. "
   ]
  },
  {
   "cell_type": "markdown",
   "metadata": {},
   "source": [
    "#### Plotting all spatial objects at the 3rd timestep. "
   ]
  },
  {
   "cell_type": "code",
   "execution_count": 7,
   "metadata": {},
   "outputs": [
    {
     "data": {
      "image/png": "[encoded data removed]",
      "text/plain": [
       "<Figure size 432x288 with 1 Axes>"
      ]
     },
     "metadata": {
      "needs_background": "light"
     },
     "output_type": "display_data"
    },
    {
     "data": {
      "image/png": "[encoded data removed]",
      "text/plain": [
       "<Figure size 432x288 with 1 Axes>"
      ]
     },
     "metadata": {
      "needs_background": "light"
     },
     "output_type": "display_data"
    },
    {
     "data": {
      "image/png": "[encoded data removed]",
      "text/plain": [
       "<Figure size 432x288 with 1 Axes>"
      ]
     },
     "metadata": {
      "needs_background": "light"
     },
     "output_type": "display_data"
    }
   ],
   "source": [
    "# Plot all scipy - spatial objects of a given timestamp\n",
    "voronoi_plot_2d(spatial_obj.voronoi_object[2])\n",
    "convex_hull_plot_2d(spatial_obj.convex_hull_object[2])\n",
    "delaunay_plot_2d(spatial_obj.delaunay_object[2])\n",
    "plt.show()"
   ]
  },
  {
   "cell_type": "code",
   "execution_count": null,
   "metadata": {},
   "outputs": [],
   "source": []
  }
 ],
 "metadata": {
  "kernelspec": {
   "display_name": "Python 3 (ipykernel)",
   "language": "python",
   "name": "python3"
  },
  "language_info": {
   "codemirror_mode": {
    "name": "ipython",
    "version": 3
   },
   "file_extension": ".py",
   "mimetype": "text/x-python",
   "name": "python",
   "nbconvert_exporter": "python",
   "pygments_lexer": "ipython3",
   "version": "3.9.7"
  }
 },
 "nbformat": 4,
 "nbformat_minor": 4
}
