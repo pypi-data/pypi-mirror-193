{
 "cells": [
  {
   "cell_type": "code",
   "execution_count": null,
   "metadata": {},
   "outputs": [],
   "source": [
    "%load_ext autoreload\n",
    "%autoreload 2\n",
    "%matplotlib inline"
   ]
  },
  {
   "cell_type": "code",
   "execution_count": null,
   "metadata": {},
   "outputs": [],
   "source": [
    "from experiments.conf import RESULTS_PATH\n",
    "from espm.conf import DATASETS_PATH\n",
    "from espm.measures import find_min_angle, find_min_MSE, ordered_mse, find_min_config\n",
    "from pathlib import Path\n",
    "import matplotlib.pyplot as plt\n",
    "import re\n",
    "import numpy as np\n",
    "import hyperspy.api as hs\n"
   ]
  },
  {
   "cell_type": "code",
   "execution_count": null,
   "metadata": {},
   "outputs": [],
   "source": [
    "i = 4\n",
    "\n",
    "file = \"new_sim_data/FpBrgCaPv_N18_VCA_batch.npz\"\n",
    "path = RESULTS_PATH/ Path(file)\n",
    "res = np.load(path,allow_pickle=True)\n",
    "\n",
    "# G = res[\"G_{}\".format(i)]\n",
    "# W = res[\"W_{}\".format(i)]\n",
    "D = res[\"D_{}\".format(i)]\n",
    "H = res[\"H_{}\".format(i)]\n",
    "# GW = G@W\n",
    "GW = D\n",
    "\n",
    "dataset_path = DATASETS_PATH / Path(\"FpBrgCaPv_N18_paper/sample_{}.hspy\".format(i))\n",
    "spim = hs.load(str(dataset_path))\n",
    "true_spectra = spim.phases\n",
    "true_maps = spim.maps\n",
    "shape_2d =  spim.shape_2d\n",
    "\n",
    "angles, mse, true_ind_spec, warning = find_min_config(true_maps,true_spectra.T,H,GW.T,angles = False)\n",
    "# mse = ordered_mse(true_maps,H,true_ind_spec)\n",
    "\n",
    "k = spim.phases.shape[1]\n",
    "print(np.max(H[true_ind_spec[2]]))"
   ]
  },
  {
   "cell_type": "code",
   "execution_count": null,
   "metadata": {},
   "outputs": [],
   "source": [
    "spim.maps_2d.shape"
   ]
  },
  {
   "cell_type": "code",
   "execution_count": null,
   "metadata": {},
   "outputs": [],
   "source": [
    "d = {}\n",
    "d[\"x\"] = x\n",
    "d[\"true_D_0\"] = true_spectra[:,0]\n",
    "d[\"true_D_1\"] = true_spectra[:,1]\n",
    "d[\"true_D_2\"] = true_spectra[:,2]\n",
    "d[\"true_H_0\"] = spim.maps_2d[:,:,0]\n",
    "d[\"true_H_1\"] = spim.maps_2d[:,:,1]\n",
    "d[\"true_H_2\"] = spim.maps_2d[:,:,2]\n",
    "\n",
    "np.savez(\"true_s4_n18.npz\",**d)"
   ]
  },
  {
   "cell_type": "markdown",
   "metadata": {},
   "source": [
    "# Load data and ground truth"
   ]
  },
  {
   "cell_type": "code",
   "execution_count": null,
   "metadata": {},
   "outputs": [],
   "source": [
    "# file = \"tests_mu_l_N293/FpBrgCaPv_N293_s5_rs47_lmu0p0005_l0p05_er0p01.npz\"\n",
    "# file = \"new_sim_data/FpBrgCaPv_N293_s0_random_rs1_fwbrg.npz\"\n",
    "file = \"FpBrgCaPv_N18_s4_random_rs7_noS.npz\"\n",
    "dataset_path = DATASETS_PATH / Path(\"FpBrgCaPv_N293_paper/sample_4.hspy\")\n",
    "# path = \"/mnt/c/Users/teurtrie/Travail/SNMF_EDXS/results/res_data_papr/FpBrgCaPv_N293_SmoothNMF_fPnone_s0.npz\"\n",
    "path = RESULTS_PATH/ Path(file)\n",
    "res = np.load(path,allow_pickle=True)\n",
    "spim = hs.load(str(dataset_path))\n",
    "true_spectra = spim.phases\n",
    "true_maps = spim.maps\n",
    "shape_2d =  spim.shape_2d\n",
    "\n",
    "G = res[\"G\"]\n",
    "W = res[\"W\"]\n",
    "H = res[\"H\"]\n",
    "GW = G@W\n",
    "metrics = res[\"metrics\"]\n",
    "losses = res[\"losses\"]\n",
    "angles, true_ind_spec = find_min_angle(true_spectra.T,(GW).T,get_ind=True, unique=True)\n",
    "mse = ordered_mse(true_maps,H,true_ind_spec)\n",
    "\n",
    "k = spim.phases.shape[1]\n",
    "print(np.max(H[true_ind_spec[2]]))\n",
    "plt.imshow(spim.maps_2d[:,:,0])"
   ]
  },
  {
   "cell_type": "markdown",
   "metadata": {},
   "source": [
    "## Plot params"
   ]
  },
  {
   "cell_type": "code",
   "execution_count": null,
   "metadata": {},
   "outputs": [],
   "source": [
    "fontsize = 30\n",
    "scale = 15\n",
    "aspect_ratio = 1.4\n",
    "marker_list = [\"-o\",\"-s\",\"->\",\"-<\",\"-^\",\"-v\",\"-d\"]\n",
    "mark_space = 20\n"
   ]
  },
  {
   "cell_type": "markdown",
   "metadata": {},
   "source": [
    "# Plot spectra and maps"
   ]
  },
  {
   "cell_type": "code",
   "execution_count": null,
   "metadata": {},
   "outputs": [],
   "source": [
    "fig, axes = plt.subplots(k,3,figsize = (scale/k * 3 * aspect_ratio,scale))\n",
    "for i, spectre in enumerate(true_spectra.T): \n",
    "    axes[2,i].plot(true_spectra.T[i],'bo',label='truth',linewidth=4)\n",
    "    axes[2,true_ind_spec[i]].plot(GW.T[i] ,'r-',label='reconstructed',markersize=3.5)\n",
    "    axes[2,true_ind_spec[i]].set_title(\"{:.2f} deg\".format(angles[i]),fontsize = fontsize-2)\n",
    "    axes[2,i].set_xlim(0,1000)\n",
    "\n",
    "    axes[1,true_ind_spec[i]].imshow(H[i].reshape(shape_2d),vmin = 0.0,vmax = 1.0)\n",
    "    axes[1,true_ind_spec[i]].set_title(\"{:.3f} MSE\".format(mse[i]),fontsize = fontsize-2)\n",
    "    # axes[i,1].set_ylim(0.0,1.0)\n",
    "    axes[1,i].tick_params(axis = \"both\",labelleft = False, labelbottom = False,left = False, bottom = False)\n",
    "\n",
    "    im = axes[0,i].imshow(true_maps[i].reshape(shape_2d),vmin = 0.0,vmax = 1.0)\n",
    "    axes[0,i].set_title(\"Phase {}\".format(i),fontsize = fontsize)\n",
    "    axes[0,i].tick_params(axis = \"both\",labelleft = False, labelbottom = False,left = False, bottom = False)\n",
    "    axes[2,0].legend()\n",
    "\n",
    "rows = [\"True maps\",\"Reconstructed maps\",\"Spectra\"]\n",
    "\n",
    "for ax, row in zip(axes[:,0], rows):\n",
    "    ax.set_ylabel(row, rotation=90, fontsize=fontsize)\n",
    "\n",
    "\n",
    "fig.subplots_adjust(right=0.84)\n",
    "# put colorbar at desire position\n",
    "cbar_ax = fig.add_axes([0.85, 0.5, 0.01, 0.3])\n",
    "fig.colorbar(im,cax=cbar_ax)\n",
    "\n",
    "# fig.tight_layout()\n",
    "\n",
    "plt.show()"
   ]
  },
  {
   "cell_type": "code",
   "execution_count": null,
   "metadata": {},
   "outputs": [],
   "source": [
    "fig, axes = plt.subplots(k,2,figsize = (scale/k * 2 * aspect_ratio,scale))\n",
    "for i, spectre in enumerate(true_spectra):\n",
    "    axes[i,0].plot(true_spectra[i],'b-',label='truth',linewidth=3)\n",
    "    axes[i,0].set_xlim(0,1000)\n",
    "    \n",
    "    im = axes[i,1].imshow(true_maps[i].reshape(shape_2d),vmin = 0.0, vmax = 1.0)\n",
    "    axes[i,1].tick_params(axis = \"both\",labelleft = False, labelbottom = False,left = False, bottom = False)\n",
    "    \n",
    "axes[0,0].set_title(\"True spectra\",fontsize = fontsize)\n",
    "axes[0,1].set_title(\"True maps\",fontsize = fontsize)\n",
    "    \n",
    "fig.subplots_adjust(right=0.84)\n",
    "# put colorbar at desire position\n",
    "cbar_ax = fig.add_axes([0.85, 0.35, 0.01, 0.3])\n",
    "fig.colorbar(im,cax=cbar_ax)"
   ]
  },
  {
   "cell_type": "code",
   "execution_count": null,
   "metadata": {},
   "outputs": [],
   "source": [
    "np.savetxt(\"true_spectra.txt\",true_spectra)\n",
    "np.savetxt(\"GP.txt\",GP.T)"
   ]
  },
  {
   "cell_type": "code",
   "execution_count": null,
   "metadata": {},
   "outputs": [],
   "source": [
    "fig, axes = plt.subplots(2,k,figsize = (scale/k * 3 * aspect_ratio,scale))\n",
    "fig.subplots_adjust(wspace=0.01,hspace=0.01)\n",
    "\n",
    "\n",
    "\n",
    "for i, spectre in enumerate(true_spectra): \n",
    "    # axes[1,i].plot(true_spectra[i],'bo',label='truth',linewidth=4)\n",
    "    # axes[1,i].plot(GP.T[true_ind_spec[i]] ,'r-',label='reconstructed',markersize=3.5)\n",
    "    # axes[1,i].set_title(\"{:.2f} deg\".format(angles[i]),fontsize = fontsize-2)\n",
    "    # axes[1,i].set_xlim(0,1000)\n",
    "\n",
    "    axes[1,i].imshow(A[true_ind_spec[i]].reshape(shape_2d),vmin = 0.0, vmax = 1.0 )\n",
    "    axes[1,i].set_title(\"{:.2f} MSE\".format(mse[i]),fontsize = fontsize-2)\n",
    "    axes[1,i].tick_params(axis=u'both', which=u'both',length=0)\n",
    "    axes[1,i].set_xticklabels([])\n",
    "    axes[1,i].set_yticklabels([])\n",
    "    # axes[i,1].set_ylim(0.0,1.0)\n",
    "\n",
    "    im = axes[0,i].imshow(true_maps[i].reshape(shape_2d),vmin = 0.0, vmax = 1.0)\n",
    "    axes[0,i].set_title(\"Phase {}\".format(i),fontsize = fontsize)\n",
    "    axes[0,i].tick_params(axis=u'both', which=u'both',length=0)\n",
    "    axes[0,i].set_xticklabels([])\n",
    "    axes[0,i].set_yticklabels([])\n",
    "\n",
    "    # axes[2,0].legend()\n",
    "\n",
    "rows = [\"Truth\",\"Reconstructed\",\"Spectra\"]\n",
    "\n",
    "for ax, row in zip(axes[:,0], rows):\n",
    "    ax.set_ylabel(row, rotation=90, fontsize=fontsize)\n",
    "\n",
    "\n",
    "fig.subplots_adjust(right=0.84)\n",
    "# put colorbar at desire position\n",
    "cbar_ax = fig.add_axes([0.85, 0.4, 0.02, 0.3])\n",
    "fig.colorbar(im,cax=cbar_ax)\n",
    "cbar_ax.tick_params(labelsize=fontsize)\n",
    "\n",
    "# fig.tight_layout()\n",
    "\n",
    "plt.show()"
   ]
  },
  {
   "cell_type": "markdown",
   "metadata": {},
   "source": [
    "# Plot losses"
   ]
  },
  {
   "cell_type": "code",
   "execution_count": null,
   "metadata": {},
   "outputs": [],
   "source": [
    "fig, axes = plt.subplots(1, 4, figsize=(4*scale,scale))\n",
    "\n",
    "names = list(losses.dtype.names)\n",
    "for j,name in enumerate(names) :\n",
    "    if re.match(r\".*(loss)\",name) : \n",
    "        axes[0].plot(losses[name],marker_list[j%len(marker_list)],markersize=3.5,label = name,markevery = mark_space,linewidth = 2)\n",
    "        axes[0].set_yscale(\"log\")\n",
    "        axes[0].set_xscale(\"log\")\n",
    "        axes[0].tick_params(axis='both', which='major', labelsize=fontsize-5)\n",
    "        axes[0].set_xscale(\"log\")\n",
    "        axes[0].legend(fontsize = fontsize -2)\n",
    "        axes[0].set_xlabel(\"number of iterations\",fontsize = fontsize -5)\n",
    "    elif re.match(r\"^(rel)\",name) : \n",
    "        axes[1].plot(losses[name],marker_list[j%len(marker_list)],markersize=3.5,label = name,markevery = mark_space,linewidth = 2)\n",
    "        axes[1].legend(fontsize = fontsize -2)\n",
    "        axes[1].set_yscale(\"log\")\n",
    "        axes[1].set_xscale(\"log\")\n",
    "        axes[1].tick_params(axis='both', which='major', labelsize=fontsize-5)\n",
    "        axes[1].set_xlabel(\"number of iterations\",fontsize = fontsize -5)\n",
    "    elif re.match(r\"^(ang)\",name) :\n",
    "        axes[2].plot(losses[name],marker_list[j%len(marker_list)],markersize=3.5,label = name,markevery = mark_space,linewidth = 2)\n",
    "        axes[2].legend(fontsize = fontsize -2)\n",
    "        axes[2].set_xscale(\"log\")\n",
    "        axes[2].tick_params(axis='both', which='major', labelsize=fontsize-5)\n",
    "        axes[2].set_xlabel(\"number of iterations\",fontsize = fontsize -5)\n",
    "    elif re.match(r\"^(mse)\",name) :\n",
    "        axes[3].plot(losses[name],marker_list[j%len(marker_list)],markersize=3.5,label = name,markevery = mark_space,linewidth = 2)\n",
    "        axes[3].legend(fontsize = fontsize -2)\n",
    "        axes[3].set_xscale(\"log\")\n",
    "        axes[3].tick_params(axis='both', which='major', labelsize=fontsize-5)\n",
    "        axes[3].set_xlabel(\"number of iterations\",fontsize = fontsize -5)"
   ]
  },
  {
   "cell_type": "code",
   "execution_count": null,
   "metadata": {},
   "outputs": [],
   "source": []
  }
 ],
 "metadata": {
  "interpreter": {
   "hash": "508ccdc6fb5be5f7fd5f6d84709a2756aa123300835f386535c0d36e037b0594"
  },
  "kernelspec": {
   "display_name": "Python 3",
   "language": "python",
   "name": "python3"
  },
  "language_info": {
   "codemirror_mode": {
    "name": "ipython",
    "version": 3
   },
   "file_extension": ".py",
   "mimetype": "text/x-python",
   "name": "python",
   "nbconvert_exporter": "python",
   "pygments_lexer": "ipython3",
   "version": "3.8.5"
  }
 },
 "nbformat": 4,
 "nbformat_minor": 4
}
