{
 "metadata": {
  "language_info": {
   "codemirror_mode": {
    "name": "ipython",
    "version": 3
   },
   "file_extension": ".py",
   "mimetype": "text/x-python",
   "name": "python",
   "nbconvert_exporter": "python",
   "pygments_lexer": "ipython3",
   "version": "3.8.5"
  },
  "orig_nbformat": 2,
  "kernelspec": {
   "name": "python385jvsc74a57bd0508ccdc6fb5be5f7fd5f6d84709a2756aa123300835f386535c0d36e037b0594",
   "display_name": "Python 3.8.5 64-bit ('SNMF_EDXS--pNpjmq1': pipenv)"
  }
 },
 "nbformat": 4,
 "nbformat_minor": 2,
 "cells": [
  {
   "cell_type": "code",
   "execution_count": null,
   "metadata": {},
   "outputs": [],
   "source": [
    "%load_ext autoreload\n",
    "%autoreload 2\n",
    "%matplotlib inline"
   ]
  },
  {
   "cell_type": "code",
   "execution_count": null,
   "metadata": {},
   "outputs": [],
   "source": [
    "import numpy as np\n",
    "import matplotlib.pyplot as plt\n",
    "\n",
    "from pathlib import Path\n",
    "from snmfem.conf import DATASETS_PATH\n",
    "\n",
    "from snmfem.models import EDXS"
   ]
  },
  {
   "cell_type": "code",
   "execution_count": null,
   "metadata": {},
   "outputs": [],
   "source": [
    "# Load an EDXS model\n",
    "model_parameters = {\"params_dict\" : {\"c0\" : 4.8935e-05, \n",
    "                                          \"c1\" : 1464.19810,\n",
    "                                          \"c2\" : 0.04216872,\n",
    "                                          \"b0\" : 0.15910789,\n",
    "                                          \"b1\" : -0.00773158,\n",
    "                                          \"b2\" : 8.7417e-04},\n",
    "                         \"db_name\" : \"default_xrays.json\",\n",
    "                         \"e_offset\" : 0.208,\n",
    "                         \"e_scale\" : 0.01,\n",
    "                         \"e_size\": 1980,\n",
    "                         \"width_slope\" : 0.01,\n",
    "                         \"width_intercept\" : 0.065,\n",
    "                         \"seed\" : 1}\n",
    "\n",
    "model = EDXS(**model_parameters)\n",
    "e = model.x"
   ]
  },
  {
   "source": [
    "You need to run the script `python script/generate_synthetic_dataset.py` in order to get the data for the next cell."
   ],
   "cell_type": "markdown",
   "metadata": {}
  },
  {
   "cell_type": "code",
   "execution_count": null,
   "metadata": {},
   "outputs": [],
   "source": [
    "# load an EDXS sample\n",
    "sample = DATASETS_PATH / Path(\"aspim037_N100_2ptcls_brstlg\") / Path(\"sample_0.npz\")\n",
    "# load data\n",
    "data = np.load(sample)\n",
    "X = data[\"X\"]\n",
    "Xdot = data[\"Xdot\"]\n",
    "nx, ny, ns = X.shape\n",
    "Xflat = X.transpose([2,0,1]).reshape(ns, nx*ny)\n",
    "Xdotflat = Xdot.transpose([2,0,1]).reshape(ns, nx*ny)\n",
    "densities = data[\"densities\"]\n",
    "phases = data[\"phases\"]\n",
    "true_spectra = np.expand_dims(densities, axis=1) * phases\n",
    "true_maps = data[\"weights\"]\n",
    "k = true_maps.shape[2]\n",
    "true_maps_flat = true_maps.transpose([2,0,1]).reshape(k,nx*ny)\n",
    "assert(true_maps.shape[:2] == (nx, ny))\n",
    "G = data[\"G\"]\n"
   ]
  },
  {
   "cell_type": "code",
   "execution_count": null,
   "metadata": {},
   "outputs": [],
   "source": [
    "A = true_maps.reshape(-1, true_maps.shape[2]).T\n",
    "GP = np.linalg.lstsq(A.T, Xflat.T)[0]\n",
    "P = np.linalg.lstsq(G, GP.T)[0]\n"
   ]
  },
  {
   "cell_type": "code",
   "execution_count": null,
   "metadata": {},
   "outputs": [],
   "source": [
    "# parameters\n",
    "c0 = 4.8935e-05\n",
    "c1 = 1464.19810\n",
    "c2 = 0.04216872\n",
    "b0 = 0.15910789\n",
    "b1 = -0.00773158\n",
    "b2 = 8.7417e-04"
   ]
  },
  {
   "source": [
    "# Numpy implementation\n"
   ],
   "cell_type": "markdown",
   "metadata": {}
  },
  {
   "cell_type": "code",
   "execution_count": null,
   "metadata": {},
   "outputs": [],
   "source": [
    "def Bmatrix(b0, b1, b2, c0, c1, c2, e):\n",
    "    beta = b0/e + b1 + b2*e\n",
    "    Gamma = np.exp(-c2 / e**3) * (1 - np.exp(-c1 / e**3))\n",
    "    alpha = e**3 * (1 - np.exp(- c0 / e**3)) / c0\n",
    "    B = np.expand_dims(beta * Gamma * alpha, axis=1 )\n",
    "    return B\n",
    "\n",
    "def loss(b0, b1, b2, c0, c1, c2, e, G, P, A, X):\n",
    "    B = Bmatrix(b0, b1, b2, c0, c1, c2, e)\n",
    "    GP = G @ P\n",
    "    GPA = (GP + B) @ A\n",
    "    return - np.mean(X*np.log(GPA)) + np.mean(GPA)"
   ]
  },
  {
   "cell_type": "code",
   "execution_count": null,
   "metadata": {},
   "outputs": [],
   "source": [
    "B = Bmatrix(b0, b1, b2, c0, c1, c2, e)\n",
    "l = loss(b0, b1, b2, c0, c1, c2, e, G, P, A, Xflat)\n"
   ]
  },
  {
   "source": [
    "# Torch implementation"
   ],
   "cell_type": "markdown",
   "metadata": {}
  },
  {
   "cell_type": "code",
   "execution_count": null,
   "metadata": {},
   "outputs": [],
   "source": [
    "import torch\n",
    "from torch.autograd import Variable\n"
   ]
  },
  {
   "cell_type": "code",
   "execution_count": null,
   "metadata": {},
   "outputs": [],
   "source": [
    "t_c0 = Variable(torch.tensor(c0), requires_grad=True)\n",
    "t_c1 = Variable(torch.tensor(c1), requires_grad=True)\n",
    "t_c2 = Variable(torch.tensor(c2), requires_grad=True)\n",
    "t_b0 = Variable(torch.tensor(b0), requires_grad=True)\n",
    "t_b1 = Variable(torch.tensor(b1), requires_grad=True)\n",
    "t_b2 = Variable(torch.tensor(b2), requires_grad=True)\n",
    "\n",
    "t_e = Variable(torch.tensor(e), requires_grad=False)\n",
    "\n",
    "t_G = Variable(torch.tensor(G), requires_grad=False)\n",
    "t_P = Variable(torch.tensor(P), requires_grad=False)\n",
    "t_A = Variable(torch.tensor(A), requires_grad=False)\n",
    "t_X = Variable(torch.tensor(Xflat), requires_grad=False)\n"
   ]
  },
  {
   "cell_type": "code",
   "execution_count": null,
   "metadata": {},
   "outputs": [],
   "source": [
    "def torch_Bmatrix(b0, b1, b2, c0, c1, c2, e):\n",
    "    beta = b0/e + b1 + b2*e\n",
    "    Gamma = torch.exp(-c2 / e**3) * (1 - torch.exp(-c1 / e**3))\n",
    "    alpha = e**3 * (1 - torch.exp(- c0 / e**3)) / c0\n",
    "    B = torch.unsqueeze(beta * Gamma * alpha, axis=1 )\n",
    "    return B\n",
    "\n",
    "def torch_loss(b0, b1, b2, c0, c1, c2, e, G, P, A, X):\n",
    "    B = torch_Bmatrix(b0, b1, b2, c0, c1, c2, e)\n",
    "    GP = torch.matmul(G, P)\n",
    "    GPA = torch.matmul((GP + B), A )\n",
    "    return - torch.sum(X*torch.log(GPA)) + torch.sum(GPA)"
   ]
  },
  {
   "source": [
    "### Check that the forward functions gives the same results in torch and in numpy"
   ],
   "cell_type": "markdown",
   "metadata": {}
  },
  {
   "cell_type": "code",
   "execution_count": null,
   "metadata": {},
   "outputs": [],
   "source": [
    "B_torch = torch_Bmatrix(t_b0, t_b1, t_b2, t_c0, t_c1, t_c2, t_e)\n",
    "\n",
    "np.linalg.norm(B - B_torch.detach().numpy())/np.linalg.norm(B)"
   ]
  },
  {
   "cell_type": "code",
   "execution_count": null,
   "metadata": {},
   "outputs": [],
   "source": [
    "l_torch = torch_loss(t_b0, t_b1, t_b2, t_c0, t_c1, t_c2, t_e, t_G, t_P, t_A, t_X)\n",
    "\n",
    "np.linalg.norm(l - l_torch.detach().numpy())/np.linalg.norm(l)"
   ]
  },
  {
   "source": [
    "### Compute the gradients"
   ],
   "cell_type": "markdown",
   "metadata": {}
  },
  {
   "cell_type": "code",
   "execution_count": null,
   "metadata": {},
   "outputs": [],
   "source": [
    "t_c0.grad = torch.zeros(t_c0.size())\n",
    "t_c1.grad = torch.zeros(t_c1.size())\n",
    "t_c2.grad = torch.zeros(t_c2.size())\n",
    "t_b0.grad = torch.zeros(t_b0.size())\n",
    "t_b1.grad = torch.zeros(t_b1.size())\n",
    "t_b2.grad = torch.zeros(t_b2.size())\n",
    "\n",
    "l_torch = torch_loss(t_b0, t_b1, t_b2, t_c0, t_c1, t_c2, t_e, t_G, t_P, t_A, t_X)\n",
    "l_torch.backward()\n",
    "\n",
    "# here they are! The number are quite big indeed. That is likely to cause problem for the optimization...\n",
    "t_c0.grad, t_c1.grad, t_c2.grad, t_b0.grad, t_b1.grad,t_b2.grad\n"
   ]
  },
  {
   "cell_type": "code",
   "execution_count": null,
   "metadata": {},
   "outputs": [],
   "source": [
    "def calc_b(E, b0=None, b1=None, b2=None, c0=None, c1=None, c2=None):\n",
    "    \"\"\"\n",
    "    Function to calculate the values of B according to the model.\n",
    "    This function takes arguments to allow calculation with temporary values of the parameters.\n",
    "    \"\"\"\n",
    "    return (\n",
    "        chapman_brstlg(E,b0, b1, b2) * detector(E,c1, c2) * self_abs(E,c0)\n",
    "    )\n",
    "\n",
    "def chapman_brstlg(E, b0=None, b1=None, b2=None):\n",
    "    \"\"\"\n",
    "    Bremsstrahlung modelling function.\n",
    "    This function takes arguments to allow calculation with temporary values of the parameters.\n",
    "    See Chapman et al., 1984, J. of microscopy, vol. 136, pp. 171\n",
    "    \"\"\"\n",
    "    return (1.0 / E[:, np.newaxis] + b1 + b2 * E[:, np.newaxis]) * b0\n",
    "\n",
    "def detector(E, c1=None, c2=None):\n",
    "    \"\"\"\n",
    "    Detector modelling function.\n",
    "    This function takes arguments to allow calculation with temporary values of the parameters.\n",
    "    Absorption in the dead layer * Photons not absorbed in the detector\n",
    "    \"\"\"\n",
    "    return np.exp(-c2 / np.power(E[:, np.newaxis], 3)) * (\n",
    "        1 - np.exp(-c1 / np.power(E[:, np.newaxis], 3))\n",
    "    )\n",
    "\n",
    "def self_abs(E, c0=None):\n",
    "    \"\"\"\n",
    "    self-absorption modelling function.\n",
    "    This function takes arguments to allow calculation with temporary values of the parameters.\n",
    "    Phi rho z model with a constant Phi rho z function\n",
    "    \"\"\"\n",
    "    return (\n",
    "        np.power(E[:, np.newaxis], 3)\n",
    "        * (1 - np.exp(-c0 / np.power(E[:, np.newaxis], 3)))\n",
    "        / c0\n",
    "    )\n",
    "\n",
    "def calc_db1(E,b0,c0,c1,c2):\n",
    "    \"\"\"\n",
    "    Partial derivative of B with respect to b1\n",
    "    \"\"\"\n",
    "    return detector(E,c1,c2) * self_abs(E,c0) * b0\n",
    "\n",
    "def calc_db2(E,b0,c0,c1,c2):\n",
    "    \"\"\"\n",
    "    Partial derivative of B with respect to b2\n",
    "    \"\"\"\n",
    "    return E[:, np.newaxis] * detector(E,c1,c2) * self_abs(E,c0) * b0\n",
    "\n",
    "def calc_dc0(E,b0,b1,b2,c0,c1,c2):\n",
    "    \"\"\"\n",
    "    Partial derivative of B with respect to c0\n",
    "    \"\"\"\n",
    "    return (\n",
    "        chapman_brstlg(E,b0,b1,b2)\n",
    "        * detector(E,c1,c2)\n",
    "        * np.power(E[:, np.newaxis], 3)\n",
    "        / np.power(c0, 2)\n",
    "        * (\n",
    "            np.exp(-c0 / np.power(E[:, np.newaxis], 3))\n",
    "            - 1\n",
    "            + np.exp(-c0 / np.power(E[:, np.newaxis], 3))\n",
    "            * c0\n",
    "            / np.power(E[:, np.newaxis], 3)\n",
    "        )\n",
    "    )\n",
    "\n",
    "def calc_dc1(E,b0,b1,b2,c0,c1,c2):\n",
    "    \"\"\"\n",
    "    Partial derivative of B with respect to c1\n",
    "    \"\"\"\n",
    "    return (\n",
    "        chapman_brstlg(E,b0,b1,b2)\n",
    "        * self_abs(E,c0)\n",
    "        * np.exp(-c2 / np.power(E[:, np.newaxis], 3))\n",
    "        * np.exp(-c1 / np.power(E[:, np.newaxis], 3))\n",
    "        / np.power(E[:, np.newaxis], 3)\n",
    "    )\n",
    "\n",
    "def calc_dc2(E,b0,b1,b2,c0,c1,c2):\n",
    "    \"\"\"\n",
    "    Partial derivative of B with respect to c2\n",
    "    \"\"\"\n",
    "    return (\n",
    "        -chapman_brstlg(E,b0,b1,b2)\n",
    "        * self_abs(E,c0)\n",
    "        * np.exp(-c2 / np.power(E[:, np.newaxis], 3))\n",
    "        * (1 - np.exp(-c1 / np.power(E[:, np.newaxis], 3)))\n",
    "        / np.power(E[:, np.newaxis], 3)\n",
    "    )\n",
    "\n",
    "def dLdB(x_matr,d_matr,a_matr):\n",
    "    \"\"\"\n",
    "    Partial derivative of L with respect to B\n",
    "    \"\"\"\n",
    "    return -(\n",
    "        x_matr.clip(min=1e-150) / (d_matr @ a_matr)\n",
    "    ) @ a_matr.T + np.sum(a_matr, axis=1)"
   ]
  },
  {
   "cell_type": "code",
   "execution_count": null,
   "metadata": {},
   "outputs": [],
   "source": [
    "ext_c0 = np.array(3*[c0])\n",
    "ext_c1 = np.array(3*[c1])\n",
    "ext_c2 = np.array(3*[c2])\n",
    "ext_b0 = np.array(3*[b0])\n",
    "ext_b1 = np.array(3*[b1])\n",
    "ext_b2 = np.array(3*[b2])\n",
    "myB = calc_b(e,ext_b0,ext_b1/ext_b0,ext_b2/ext_b0,ext_c0,ext_c1,ext_c2)"
   ]
  },
  {
   "cell_type": "code",
   "execution_count": null,
   "metadata": {},
   "outputs": [],
   "source": [
    "myD = (GP.T + myB)\n",
    "mydL = dLdB(Xflat,myD,A)"
   ]
  },
  {
   "cell_type": "code",
   "execution_count": null,
   "metadata": {},
   "outputs": [],
   "source": [
    "grad_b1 = np.einsum(\"i...,i...\", mydL, calc_db1(e,ext_b0,ext_c0,ext_c1,ext_c2))\n",
    "grad_b2 = np.einsum(\"i...,i...\", mydL, calc_db2(e,ext_b0,ext_c0,ext_c1,ext_c2))\n",
    "grad_c0 = np.einsum(\"i...,i...\", mydL, calc_dc0(e,ext_b0,ext_b1/ext_b0,ext_b2/ext_b0,ext_c0,ext_c1,ext_c2))\n",
    "grad_c1 = np.einsum(\"i...,i...\", mydL, calc_dc1(e,ext_b0,ext_b1/ext_b0,ext_b2/ext_b0,ext_c0,ext_c1,ext_c2))\n",
    "grad_c2 = np.einsum(\"i...,i...\", mydL, calc_dc2(e,ext_b0,ext_b1/ext_b0,ext_b2/ext_b0,ext_c0,ext_c1,ext_c2))\n",
    "\n"
   ]
  },
  {
   "cell_type": "code",
   "execution_count": null,
   "metadata": {},
   "outputs": [],
   "source": [
    "print(grad_c0)\n",
    "print(grad_c1)\n",
    "print(grad_c2)\n",
    "print(grad_b1)\n",
    "print(grad_b2)"
   ]
  },
  {
   "cell_type": "code",
   "execution_count": null,
   "metadata": {},
   "outputs": [],
   "source": [
    "t_c0.grad, t_c1.grad, t_c2.grad, t_b0.grad, t_b1.grad,t_b2.grad"
   ]
  },
  {
   "cell_type": "code",
   "execution_count": null,
   "metadata": {},
   "outputs": [],
   "source": []
  }
 ]
}