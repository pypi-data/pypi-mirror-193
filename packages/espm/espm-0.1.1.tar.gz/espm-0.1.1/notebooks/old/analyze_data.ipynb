{
 "metadata": {
  "language_info": {
   "codemirror_mode": {
    "name": "ipython",
    "version": 3
   },
   "file_extension": ".py",
   "mimetype": "text/x-python",
   "name": "python",
   "nbconvert_exporter": "python",
   "pygments_lexer": "ipython3",
   "version": "3.7.6"
  },
  "orig_nbformat": 2,
  "kernelspec": {
   "name": "python3",
   "display_name": "Python 3.7.6 64-bit ('teurtrie-Jj3N6OEN': pipenv)",
   "metadata": {
    "interpreter": {
     "hash": "f6679034cdacd370e2932d4f533870513ed60f8e3e5a021334854984182bfbf5"
    }
   }
  }
 },
 "nbformat": 4,
 "nbformat_minor": 2,
 "cells": [
  {
   "source": [
    "# Imports"
   ],
   "cell_type": "markdown",
   "metadata": {}
  },
  {
   "cell_type": "code",
   "execution_count": null,
   "metadata": {},
   "outputs": [],
   "source": [
    "%matplotlib qt\n",
    "import matplotlib.pyplot as plt\n",
    "import numpy as np\n",
    "# from snmf import SNMF\n",
    "# import EDXS_model\n",
    "import h5py\n",
    "# hyperspy is the commonly used library to handle spectrum images in the electron microscopy community\n",
    "import hyperspy.api as hs\n",
    "# import utils as u\n",
    "import snmfem\n",
    "from snmfem.measures import find_min_angle,find_min_MSE\n",
    "from snmfem import EDXS_model\n",
    "from snmfem.estimator.snmf import SNMF"
   ]
  },
  {
   "source": [
    "# Load the data"
   ],
   "cell_type": "markdown",
   "metadata": {}
  },
  {
   "cell_type": "code",
   "execution_count": null,
   "metadata": {},
   "outputs": [],
   "source": [
    "# filename=\"Data/71GPa_subsolidus\"\n",
    "filename = \"C:/Users/teurtrie/Travail/SNMF_EDXS/snmfem/Data/aspim037_N100_2ptcls_brstlg\"\n",
    "\n",
    "S=hs.load(filename+\".hspy\")\n",
    "X=S.data\n",
    "\n",
    "# This part of the spectrum image contains only pure spectra from phase 0\n",
    "# This kind of area is often available in experimental datasets\n",
    "X_part=S.inav[60:,:].data\n",
    "\n",
    "# Loading of ground truth\n",
    "true_spectra=[]\n",
    "true_maps=[]\n",
    "true_spectra.append(np.genfromtxt(filename+\"spectrum_p0\"))\n",
    "true_spectra.append(np.genfromtxt(filename+\"spectrum_p1\"))\n",
    "true_spectra.append(np.genfromtxt(filename+\"spectrum_p2\"))\n",
    "true_maps.append(np.load(filename+\"map_p0.npy\"))\n",
    "true_maps.append(np.load(filename+\"map_p1.npy\"))\n",
    "true_maps.append(np.load(filename+\"map_p2.npy\"))"
   ]
  },
  {
   "source": [
    "# Performance assessment functions\n",
    "\n",
    "These functions are used to compare the endmembers determined by SNMF and the ground truth"
   ],
   "cell_type": "markdown",
   "metadata": {}
  },
  {
   "cell_type": "code",
   "execution_count": null,
   "metadata": {},
   "outputs": [],
   "source": [
    "# This function will find the best matching endmember for each true spectrum. This is useful since the A and P matrice are initialized at random. \n",
    "\n",
    "# This function works but can probably greatly improved\n",
    "def find_min_angle (list_true_vectors,list_algo_vectors) :\n",
    "    # This function calculates all the possible angles between endmembers and true spectra\n",
    "    # For each true spectrum a best matching endmember is found\n",
    "    # The function returns the angles of the corresponding pairs\n",
    "    copy_algo_vectors=list_algo_vectors.copy()\n",
    "    size=list_algo_vectors[0].shape\n",
    "    ordered_angles=[]\n",
    "    for i in range(len(list_true_vectors)) :\n",
    "        list_angles=[]\n",
    "        for j in range(len(list_algo_vectors)) :\n",
    "            list_angles.append(u.Functions.spectral_angle(list_true_vectors[i],list_algo_vectors[j]))\n",
    "        ind_min=np.argmin(np.array(list_angles))\n",
    "        list_algo_vectors[ind_min]=1e28*np.ones(size)\n",
    "        ordered_angles.append(u.Functions.spectral_angle(list_true_vectors[i],copy_algo_vectors[ind_min]))\n",
    "    return ordered_angles\n",
    "\n",
    "# This function works but can probably greatly improved\n",
    "def find_min_MSE (list_true_maps,list_algo_maps) :\n",
    "    # This function calculates all the possible MSE between abundances and true maps\n",
    "    # For each true map a best matching abundance is found\n",
    "    # The function returns the MSE of the corresponding pairs\n",
    "    copy_algo_maps=list_algo_maps.copy()\n",
    "    size=list_algo_maps[0].shape\n",
    "    ordered_maps=[]\n",
    "    for i in range(len(list_true_maps)) :\n",
    "        list_maps=[]\n",
    "        for j in range(len(list_algo_maps)) :\n",
    "            list_maps.append(u.Functions.MSE_map(list_true_maps[i],list_algo_maps[j]))\n",
    "        ind_min=np.argmin(np.array(list_maps))\n",
    "        list_algo_maps[ind_min]=1e28*np.ones(size)\n",
    "        ordered_maps.append(u.Functions.MSE_map(list_true_maps[i],copy_algo_maps[ind_min]))\n",
    "    return ordered_maps\n",
    "\n",
    "# This function gives the residuals between the model determined by snmf and the data that were fitted\n",
    "def residuals (data,model) :\n",
    "    X_sum=data.sum(axis=0).sum(axis=0)\n",
    "    model_sum=model.get_phase_map(0).sum()*model.get_phase_spectrum(0)+model.get_phase_map(1).sum()*model.get_phase_spectrum(1)+model.get_phase_map(2).sum()*model.get_phase_spectrum(2)\n",
    "    return X_sum-model_sum"
   ]
  },
  {
   "source": [
    "# Parameters "
   ],
   "cell_type": "markdown",
   "metadata": {}
  },
  {
   "cell_type": "code",
   "execution_count": null,
   "metadata": {},
   "outputs": [],
   "source": [
    "# True bremsstrahlung parameters\n",
    "brstlg_pars = {\"c0\" : 4.8935e-05,\"c1\" : 1464.19810, \"c2\" : 0.04216872, \"b0\" : 0.15910789, \"b1\" : -0.00773158, \"b2\" : 8.7417e-04}\n",
    "# brstlg_pars = {\n",
    "#                 \"c0\"  :  8.0192e-08,\n",
    "#                 \"c1\"  :  380.523471\t,\n",
    "#                 \"c2\"  :  2.7332e-11,\n",
    "#                 \"b0\"  :  0.09002422,\n",
    "#                 \"b1\"  :  -0.0162849,\n",
    "#                 \"b2\"  :  0.00193291\n",
    "#                 }\n",
    "\n",
    "\n",
    "# SNMF parameters\n",
    "tol = 1e-4\n",
    "max_iter = 50000\n",
    "b_tol = 1e-1\n",
    "mu_sparse = 0.0\n",
    "eps_sparse = 1.0\n",
    "phases = 3\n",
    "em = EDXS_model.EDXS_Model(\"C:/Users/teurtrie/Travail/SNMF_EDXS/snmfem/Data/simple_xrays_threshold.json\",brstlg_pars = brstlg_pars,e_offset=S.axes_manager[2].offset,e_scale=S.axes_manager[2].scale,e_size=S.axes_manager[2].size)\n",
    "# em.generate_g_matr([8,13,14,12,26,29,31,72,71,62,60,92,20],brstlg = False)\n",
    "em.generate_g_matr([12,13,14,20,26,29,31,34,40,60,62,71,92],brstlg = True)\n",
    "\n",
    "\n",
    "\n",
    "# # If mu_sparse !=0 a good initialization of the first phase is required, it can be done using the spectrum below\n",
    "init_matrix=np.average(X_part,axis=(0,1))"
   ]
  },
  {
   "source": [
    "# SNMF"
   ],
   "cell_type": "markdown",
   "metadata": {}
  },
  {
   "cell_type": "code",
   "execution_count": null,
   "metadata": {},
   "outputs": [],
   "source": [
    "# Creation of an SNMF object with the parameters above\n",
    "mdl = SNMF(max_iter = max_iter, tol = tol, b_tol = b_tol, mu_sparse=mu_sparse, eps_sparse = eps_sparse, num_phases=phases,edxs_model=em, brstlg_pars = brstlg_pars, init_spectrum = init_matrix)"
   ]
  },
  {
   "cell_type": "code",
   "execution_count": null,
   "metadata": {
    "tags": [
     "outputPrepend"
    ]
   },
   "outputs": [],
   "source": [
    "mdl.fit(X,eval_print=True)"
   ]
  },
  {
   "cell_type": "code",
   "execution_count": null,
   "metadata": {},
   "outputs": [],
   "source": [
    "\n",
    "\n",
    "filename = \"C:/Users/teurtrie/Travail/SNMF_EDXS/Code/Results/aspims/mask_bl_mu0.57_eps1.0_out.hdf5\"\n",
    "\n",
    "with h5py.File(filename, \"r\") as f:\n",
    "    # List all groups\n",
    "    print(\"Keys: %s\" % f.keys())\n",
    "    a = list(f.keys())[0]\n",
    "    b = list(f.keys())[1]\n",
    "    g = list(f.keys())[2]\n",
    "    p = list(f.keys())[3]\n",
    "\n",
    "    # Get the data\n",
    "    loaded_a = np.array(f[a])\n",
    "    loaded_b = np.array(f[b])\n",
    "    loaded_g = np.array(f[g])\n",
    "    loaded_p = np.array(f[p])\n",
    "\n",
    "h_spec = loaded_g@loaded_p + loaded_b\n",
    "\n",
    "# f_b = \"Results/0.3wt%Nd-Sm-Hf-Lu-U-A-X15-71GPa_subsolidus grains_01_Brg spectrum.hdf5\"\n",
    "# f_c = \"Results/0.3wt%Nd-Sm-Hf-Lu-U-A-X15-71GPa_subsolidus grains_01_CaPv spectrum.hdf5\"\n",
    "# f_f = \"Results/0.3wt%Nd-Sm-Hf-Lu-U-A-X15-71GPa_subsolidus grains_01_Fp spectrum.hdf5\"\n",
    "\n",
    "# with h5py.File(f_b, \"r\") as f :\n",
    "#     brg = np.array(f[\"Experiments\"][\"EDSmap\"][\"data\"])\n",
    "# with h5py.File(f_f, \"r\") as f :\n",
    "#     fp = np.array(f[\"Experiments\"][\"EDSmap\"][\"data\"])\n",
    "# with h5py.File(f_c, \"r\") as f :\n",
    "#     capv = np.array(f[\"Experiments\"][\"EDSmap\"][\"data\"])\n",
    "\n",
    "# x_true = np.linspace(-0.48,-0.48+1047*0.01,num=1047)\n",
    "# true_spectra = [brg,fp,capv]"
   ]
  },
  {
   "cell_type": "code",
   "execution_count": null,
   "metadata": {},
   "outputs": [],
   "source": [
    "filename = \"C:/Users/teurtrie/Travail/SNMF_EDXS/Code/Results/71GPa_subsolidus_mu3.0_eps1.0.hdf5\"\n",
    "with h5py.File(filename, \"r\") as f:\n",
    "    # List all groups\n",
    "    print(\"Keys: %s\" % f.keys())\n",
    "    a = list(f.keys())[0]\n",
    "    b = list(f.keys())[1]\n",
    "    p = list(f.keys())[2]\n",
    "\n",
    "    # Get the data\n",
    "    loaded_a = np.array(f[a])\n",
    "    loaded_b = np.array(f[b])\n",
    "    loaded_p = np.array(f[p])\n",
    "\n",
    "h_spec = mdl.g_matr@loaded_p + loaded_b"
   ]
  },
  {
   "cell_type": "code",
   "execution_count": null,
   "metadata": {},
   "outputs": [],
   "source": [
    "plt.imshow(aa)\n",
    "plt.xticks(ticks=[])\n",
    "plt.yticks(ticks=[])"
   ]
  },
  {
   "cell_type": "code",
   "execution_count": null,
   "metadata": {},
   "outputs": [],
   "source": [
    "a0 = (loaded_a[0,:]*128).astype(\"int\")\n",
    "a1 = (loaded_a[1,:]*255000).astype(\"int\")\n",
    "a2 = (loaded_a[2,:]*255).astype(\"int\")\n",
    "a = np.vstack((a0,a1,a2))\n",
    "\n"
   ]
  },
  {
   "cell_type": "code",
   "execution_count": null,
   "metadata": {},
   "outputs": [],
   "source": [
    "aa = a.T.reshape(201,201,3)"
   ]
  },
  {
   "cell_type": "code",
   "execution_count": null,
   "metadata": {},
   "outputs": [],
   "source": [
    "np.sqrt(121203)"
   ]
  },
  {
   "cell_type": "code",
   "execution_count": null,
   "metadata": {},
   "outputs": [],
   "source": [
    "trunc_true = x_true > em.x[0]\n",
    "trunc_res = (em.x < x_true[-1])\n",
    "res_spec = [h_spec[:,0][trunc_res][:-1],h_spec[:,1][trunc_res][:-1],h_spec[:,2][trunc_res][:-1]]\n",
    "true_spectra = [brg[trunc_true],fp[trunc_true],capv[trunc_true]]\n",
    "\n",
    "angles=find_min_angle(true_spectra,res_spec)\n",
    "\n",
    "print(\"Angle phase 0 :\",angles[0])\n",
    "print(\"Angle phase 1 :\",angles[1])\n",
    "print(\"Angle phase 2 :\",angles[2])\n"
   ]
  },
  {
   "cell_type": "code",
   "execution_count": null,
   "metadata": {},
   "outputs": [],
   "source": [
    "angles=find_min_angle(true_spectra,[h_spec[:,0],h_spec[:,1],h_spec[:,2]])\n",
    "\n",
    "print(\"Angle phase 0 :\",angles[0])\n",
    "print(\"Angle phase 1 :\",angles[1])\n",
    "print(\"Angle phase 2 :\",angles[2])\n"
   ]
  },
  {
   "source": [
    "# Results"
   ],
   "cell_type": "markdown",
   "metadata": {}
  },
  {
   "cell_type": "code",
   "execution_count": null,
   "metadata": {},
   "outputs": [],
   "source": [
    "# Returns the angles between the ground truth and the endmembers found using SNMF\n",
    "angles=find_min_angle(true_spectra,[mdl.get_phase_spectrum(0),mdl.get_phase_spectrum(1),mdl.get_phase_spectrum(2)])\n",
    "\n",
    "maps=find_min_MSE(true_maps,[mdl.get_phase_map(0),mdl.get_phase_map(1),mdl.get_phase_map(2)])\n",
    "\n",
    "print(\"Angle phase 0 :\",angles[0])\n",
    "print(\"Angle phase 1 :\",angles[1])\n",
    "print(\"Angle phase 2 :\",angles[2])\n",
    "print(\"MSE phase 0 :\",maps[0])\n",
    "print(\"MSE phase 1 :\",maps[1])\n",
    "print(\"MSE phase 2 :\",maps[2])\n",
    "\n",
    "# RITM0165818"
   ]
  },
  {
   "source": [
    "### Visualisation of the results"
   ],
   "cell_type": "markdown",
   "metadata": {}
  },
  {
   "cell_type": "code",
   "execution_count": null,
   "metadata": {},
   "outputs": [],
   "source": [
    "# switch correspond to the index of the SNMF endmember\n",
    "# true correspond to the index of the true spectrum\n",
    "# The 2 should be changed independantly until a match is found\n",
    "switch = 1\n",
    "true= 1\n",
    "\n",
    "plt.rcParams.update({'font.size': 22})\n",
    "fig1 = plt.figure(figsize=(20, 12))\n",
    "plt.subplot(121)\n",
    "plt.plot(em.x,133*true_spectra[true]/np.sum(true_spectra[true]),'bo',label='truth',linewidth=4)\n",
    "plt.plot(em.x, mdl.get_phase_spectrum(switch),'r-',label='reconstructed',markersize=3.5)\n",
    "plt.legend(loc='best')\n",
    "plt.xlim(0, 10)\n",
    "plt.ylabel(\"Intensity\")\n",
    "\n",
    "plt.subplot(122)\n",
    "plt.imshow(mdl.get_phase_map(switch), cmap=\"viridis\")\n",
    "plt.grid(b=30)\n",
    "plt.title(f\"Activations of first spectrum\")\n",
    "plt.colorbar()\n",
    "plt.clim(0, 1)\n",
    "\n",
    "fig1.tight_layout()"
   ]
  },
  {
   "cell_type": "code",
   "execution_count": null,
   "metadata": {},
   "outputs": [],
   "source": [
    "# switch correspond to the index of the SNMF endmember\n",
    "# true correspond to the index of the true spectrum\n",
    "# The 2 should be changed independantly until a match is found\n",
    "switch =2\n",
    "true=1\n",
    "\n",
    "x = np.linspace(S.axes_manager[2].offset,S.axes_manager[2].offset+S.axes_manager[2].scale*S.axes_manager[2].size,num=S.axes_manager[2].size)\n",
    "\n",
    "N=[100,125,133]\n",
    "\n",
    "plt.rcParams.update({'font.size': 22})\n",
    "fig1 = plt.figure(figsize=(20, 12))\n",
    "plt.subplot(121)\n",
    "plt.plot(x,N[true]*true_spectra[true]/np.sum(true_spectra[true]),'bo',label='truth',linewidth=4)\n",
    "plt.plot(x, h_spec[:,switch],'r-',label='reconstructed',markersize=3.5)\n",
    "plt.legend(loc='best')\n",
    "plt.xlim(0, 10)\n",
    "plt.ylabel(\"Intensity\")\n",
    "\n",
    "plt.subplot(122)\n",
    "plt.imshow(loaded_a[switch].reshape(80,80), cmap=\"viridis\")\n",
    "plt.grid(b=30)\n",
    "plt.title(f\"Activations of first spectrum\")\n",
    "plt.colorbar()\n",
    "plt.clim(0, 1)\n",
    "\n",
    "fig1.tight_layout()"
   ]
  },
  {
   "cell_type": "code",
   "execution_count": null,
   "metadata": {},
   "outputs": [],
   "source": [
    "plt.imshow((loaded_a[0]>0.99).reshape(80,80))"
   ]
  },
  {
   "cell_type": "code",
   "execution_count": null,
   "metadata": {},
   "outputs": [],
   "source": [
    "# switch correspond to the index of the SNMF endmember\n",
    "# true correspond to the index of the true spectrum\n",
    "# The 2 should be changed independantly until a match is found\n",
    "switch = 1\n",
    "true=2\n",
    "\n",
    "plt.rcParams.update({'font.size': 22})\n",
    "fig1 = plt.figure(figsize=(20, 12))\n",
    "plt.subplot(121)\n",
    "#plt.plot(x_true[trunc_true],50000*true_spectra[true]/np.sum(true_spectra[true]),'bo',label='truth',linewidth=4)\n",
    "plt.plot(em.x,h_spec[:,switch],'r-',label='reconstructed',markersize=3.5)\n",
    "plt.legend(loc='best')\n",
    "plt.xlim(0, 10)\n",
    "plt.ylabel(\"Intensity\")\n",
    "\n",
    "plt.subplot(122)\n",
    "plt.imshow(loaded_a[switch].reshape(201,201), cmap=\"viridis\")\n",
    "plt.grid(b=30)\n",
    "plt.title(f\"Activations of first spectrum\")\n",
    "plt.colorbar()\n",
    "#plt.clim(0, 1)\n",
    "\n",
    "fig1.tight_layout()"
   ]
  },
  {
   "source": [
    "# Cross validation"
   ],
   "cell_type": "markdown",
   "metadata": {}
  },
  {
   "source": [
    "# En chantier"
   ],
   "cell_type": "markdown",
   "metadata": {}
  },
  {
   "cell_type": "code",
   "execution_count": null,
   "metadata": {},
   "outputs": [],
   "source": [
    "init_p_matr = np.random.rand(dl.g_matr.shape[1],dl.p_)\n",
    "init_p_matr[:,0] = (np.linalg.inv(dl.g_matr.T@dl.g_matr)@dl.g_matr.T@(true_spectra[0]-1.9*Distributions.simplified_brstlg(Gaussians().x,b0,b1,b2,c0))).clip(min=1e-5)\n",
    "init_p_matr[:,1] = (np.linalg.inv(dl.g_matr.T@dl.g_matr)@dl.g_matr.T@(true_spectra[1]-2.0 *Distributions.simplified_brstlg(Gaussians().x,b0,b1,b2,c0))).clip(min=1e-5)\n",
    "init_p_matr[:,2] = (np.linalg.inv(dl.g_matr.T@dl.g_matr)@dl.g_matr.T@(true_spectra[2]-1.7*Distributions.simplified_brstlg(Gaussians().x,b0,b1,b2,c0))).clip(min=1e-5)\n",
    "\n",
    "init_a_matr = np.random.rand(dl.p_, X.shape[0]*X.shape[1])\n",
    "init_a_matr[0,:]= true_maps[0].reshape(6400)\n",
    "init_a_matr[1,:]= true_maps[1].reshape(6400)\n",
    "init_a_matr[2,:]= true_maps[2].reshape(6400)"
   ]
  },
  {
   "source": [
    "x_matr = np.random.rand(80*80,2000).T\n",
    "a = loaded_a\n",
    "mask1 = a[0,:] > 0.99\n",
    "mask2 = a[1:,:]<0.01\n",
    "mask = np.vstack((mask1,mask2))\n",
    "L = adj(80)"
   ],
   "cell_type": "code",
   "metadata": {},
   "execution_count": null,
   "outputs": []
  },
  {
   "cell_type": "code",
   "execution_count": null,
   "metadata": {},
   "outputs": [],
   "source": [
    "n_mask = np.invert(mask)\n",
    "neigh = (((mask[0,:]@L).clip(max=1)- mask[0,:].astype(\"int\")).clip(min=0)).astype(\"bool\")\n",
    "a[0,:][neigh] = 0.8\n",
    "a[0,:][np.logical_xor(n_mask[0,:],neigh)] = 0.1"
   ]
  },
  {
   "cell_type": "code",
   "execution_count": null,
   "metadata": {},
   "outputs": [],
   "source": [
    "plt.imshow(a[0,:].reshape(80,80))"
   ]
  },
  {
   "cell_type": "code",
   "execution_count": null,
   "metadata": {},
   "outputs": [],
   "source": [
    "n2 = (((mask[0,:]@L).clip(max=1)- mask[0,:].astype(\"int\")).clip(min=0)).astype(\"bool\")\n"
   ]
  },
  {
   "cell_type": "code",
   "execution_count": null,
   "metadata": {},
   "outputs": [],
   "source": [
    "a[0,:][n2] = 10000"
   ]
  },
  {
   "cell_type": "code",
   "execution_count": null,
   "metadata": {},
   "outputs": [],
   "source": [
    "plt.imshow(a[0,:].reshape(80,80))"
   ]
  },
  {
   "cell_type": "code",
   "execution_count": null,
   "metadata": {},
   "outputs": [],
   "source": [
    "from scipy.sparse import lil_matrix, block_diag\n",
    "def adj(n):\n",
    "    \"\"\"\n",
    "    Helper method to create the laplacian matrix for the laplacian regularization\n",
    "    :param n: width of the original image\n",
    "    :return:the n x n laplacian matrix\n",
    "    \"\"\"\n",
    "    \n",
    "    #Blocks corresponding to the corner of the image (linking row elements)\n",
    "    top_block=lil_matrix((n,n),dtype=np.float32)\n",
    "    #top_block.setdiag([1]+[1]*(n-2)+[1])\n",
    "    top_block.setdiag(1,k=1)\n",
    "    top_block.setdiag(1,k=-1)\n",
    "    #Blocks corresponding to the middle of the image (linking row elements)\n",
    "    mid_block=lil_matrix((n,n),dtype=np.float32)\n",
    "    #mid_block.setdiag([1]+[1]*(n-2)+[1])\n",
    "    mid_block.setdiag(1,k=1)\n",
    "    mid_block.setdiag(1,k=-1)\n",
    "    #Construction of the diagonal of blocks\n",
    "    list_blocks=[top_block]+[mid_block]*(n-2)+[top_block]\n",
    "    blocks=block_diag(list_blocks)\n",
    "    #Diagonals linking different rows\n",
    "    blocks.setdiag(1,k=n)\n",
    "    blocks.setdiag(1,k=-n)\n",
    "    return blocks"
   ]
  },
  {
   "cell_type": "code",
   "execution_count": null,
   "metadata": {},
   "outputs": [],
   "source": [
    "plt.imshow(adj(3).toarray())"
   ]
  },
  {
   "cell_type": "code",
   "execution_count": null,
   "metadata": {},
   "outputs": [],
   "source": [
    "a = adj(80)\n",
    "b = np.random.rand(6400)\n",
    "a@b -b"
   ]
  },
  {
   "cell_type": "code",
   "execution_count": null,
   "metadata": {},
   "outputs": [],
   "source": [
    "np.sqrt(6400)"
   ]
  },
  {
   "cell_type": "code",
   "execution_count": null,
   "metadata": {},
   "outputs": [],
   "source": []
  }
 ]
}