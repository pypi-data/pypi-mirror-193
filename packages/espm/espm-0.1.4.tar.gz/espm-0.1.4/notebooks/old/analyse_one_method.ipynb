{
 "cells": [
  {
   "cell_type": "code",
   "execution_count": null,
   "metadata": {},
   "outputs": [],
   "source": [
    "%load_ext autoreload\n",
    "%autoreload 2\n",
    "%matplotlib inline\n"
   ]
  },
  {
   "cell_type": "code",
   "execution_count": null,
   "metadata": {},
   "outputs": [],
   "source": [
    "import numpy as np\n",
    "import matplotlib.pyplot as plt\n",
    "from snmfem.experiments import load_samples, print_results, load_data, run_experiment\n",
    "from snmfem.measures import KLdiv\n",
    "import re"
   ]
  },
  {
   "cell_type": "code",
   "execution_count": null,
   "metadata": {},
   "outputs": [],
   "source": [
    "import warnings\n",
    "warnings.simplefilter(action='ignore', category=FutureWarning)"
   ]
  },
  {
   "cell_type": "markdown",
   "metadata": {},
   "source": [
    "# Running NMF"
   ]
  },
  {
   "cell_type": "markdown",
   "metadata": {},
   "source": [
    "## Inputs"
   ]
  },
  {
   "cell_type": "code",
   "execution_count": null,
   "metadata": {},
   "outputs": [],
   "source": [
    "dataset = \"dataset_EDXS.json\"\n",
    "n_sample = 0"
   ]
  },
  {
   "cell_type": "code",
   "execution_count": null,
   "metadata": {},
   "outputs": [],
   "source": [
    "samples, k = load_samples(dataset)\n",
    "sample = samples[n_sample]"
   ]
  },
  {
   "cell_type": "code",
   "execution_count": null,
   "metadata": {},
   "outputs": [],
   "source": [
    "# About initialization\n",
    "# 'random': non-negative random matrices, scaled with: sqrt(X.mean() / n_components)\n",
    "# 'nndsvd': Nonnegative Double Singular Value Decomposition (NNDSVD) initialization (better for sparseness)\n",
    "# 'nndsvda': NNDSVD with zeros filled with the average of X (better when sparsity is not desired)\n",
    "# 'nndsvdar' NNDSVD with zeros filled with small random values (generally faster, less accurate alternative to NNDSVDa for when sparsity is not desired)\n",
    "\n",
    "# for me random was the best initialization...\n",
    "default_params = {\n",
    "    \"n_components\" : k,\n",
    "    \"tol\" : 1e-6,\n",
    "    \"max_iter\" : 10000,\n",
    "    \"init\" : \"random\",\n",
    "    \"random_state\" : 1,\n",
    "    \"verbose\" : 1\n",
    "    }\n",
    "\n",
    "params_snmf = {\n",
    "    \"force_simplex\" : True,\n",
    "    \"skip_G\" : False,\n",
    "    \"mu\": np.array([0, 1, 1])\n",
    "}\n",
    "\n",
    "params_evalution = {\n",
    "    \"u\" : True,\n",
    "}\n",
    "\n",
    "# All parameters are contained here\n",
    "exp = {\"name\": \"snmfem smooth 30\", \"method\": \"SmoothNMF\", \"params\": {**default_params, **params_snmf, \"lambda_L\" : 100.0}}"
   ]
  },
  {
   "cell_type": "code",
   "execution_count": null,
   "metadata": {},
   "outputs": [],
   "source": [
    "Xflat, true_spectra, true_maps, G, shape_2d = load_data(sample)\n"
   ]
  },
  {
   "cell_type": "markdown",
   "metadata": {},
   "source": [
    "# Run a single experiment and plotting results"
   ]
  },
  {
   "cell_type": "code",
   "execution_count": null,
   "metadata": {},
   "outputs": [],
   "source": [
    "Xflat, true_spectra, true_maps, G, shape_2d = load_data(sample)\n",
    "\n",
    "m, (GP, A), loss  = run_experiment(Xflat, true_spectra, true_maps, G, exp, params_evalution,shape_2d)\n"
   ]
  },
  {
   "cell_type": "code",
   "execution_count": null,
   "metadata": {},
   "outputs": [],
   "source": [
    "Xtrue = true_spectra.T @ true_maps"
   ]
  },
  {
   "cell_type": "code",
   "execution_count": null,
   "metadata": {},
   "outputs": [],
   "source": [
    "from snmfem.measures import KL\n",
    "print(KL(Xflat, Xtrue, average=True))\n",
    "print(KL(Xflat, GP @ A, average=True))\n",
    "print(KL(Xtrue, GP @ A, average=True))\n"
   ]
  },
  {
   "cell_type": "code",
   "execution_count": null,
   "metadata": {},
   "outputs": [],
   "source": [
    "# Ploting parameters\n",
    "fontsize = 15\n",
    "aspect_ratio = 3/4\n",
    "scale = 20\n",
    "cmap = plt.cm.gist_heat_r\n",
    "vmin = 0\n",
    "vmax = np.max(true_maps)\n",
    "\n"
   ]
  },
  {
   "cell_type": "code",
   "execution_count": null,
   "metadata": {},
   "outputs": [],
   "source": [
    "metric = np.array(m[:-1])\n",
    "order = np.array(m[-1])\n",
    "\n",
    "fig, axes = plt.subplots(k,3,figsize = (scale, scale/3*k * aspect_ratio))\n",
    "\n",
    "\n",
    "for j in range(k):\n",
    "    ind = np.arange(k)[order[0,j]]\n",
    "    axes[j, 0].plot(true_spectra[j],'bo',label='truth',linewidth=4)\n",
    "    axes[j, 0].plot(GP[:,ind] ,'r-',label='reconstructed',markersize=3.5)\n",
    "    axes[j, 0].set_title(\"{:.2f} deg\".format(metric[0,j]))\n",
    "\n",
    "for j in range(k):\n",
    "    ind = np.arange(k)[order[1,j]]\n",
    "    axes[j, 1].imshow(A[ind].reshape(*shape_2d), vmin=vmin, vmax=vmax, cmap=cmap)\n",
    "    axes[j, 1].set_title(\"Mse: {:.2f}\".format(metric[1,j]))\n",
    "    axes[j, 2].imshow(true_maps[j].reshape(*shape_2d), vmin=vmin, vmax=vmax, cmap=cmap)   \n",
    "    \n",
    "rows = ['Phase {}'.format(col) for col in range(k)]\n",
    "cols = [\"Phase\", \"Map\", \"Real map\"]\n",
    "\n",
    "for ax, col in zip(axes[0], cols):\n",
    "    ax.set_title(col, fontsize=fontsize)\n",
    "\n",
    "for ax, row in zip(axes[:,0], rows):\n",
    "    ax.set_ylabel(row, rotation=90, fontsize=fontsize)\n",
    "\n",
    "fig.tight_layout()\n",
    "\n",
    "plt.show()\n"
   ]
  },
  {
   "cell_type": "markdown",
   "metadata": {},
   "source": [
    "# Quick and dirty way to look at the Loss"
   ]
  },
  {
   "cell_type": "code",
   "execution_count": null,
   "metadata": {},
   "outputs": [],
   "source": [
    "# fig, axes = plt.subplots(1, 2, figsize=(10, 3))\n",
    "\n",
    "# names = list(loss.dtype.names)\n",
    "# values = np.array([list(e) for e in loss])\n",
    "\n",
    "# # axes[0].plot(values[:,1:-2], markersize=3.5)\n",
    "# axes[0].plot(values[:,1],'b',markersize=3.5)\n",
    "# axes[0].plot(values[:,0],'r--',markersize=3.5)\n",
    "# axes[0].set_yscale(\"log\")\n",
    "# axes[0].set_xlabel(\"number of iterations\")\n",
    "# # axes[0].legend(names[1:-2] + [names[0]])\n",
    "# axes[0].legend([names[1]] + [names[0]])\n",
    "# axes[0].set_title(\"Losses\")\n",
    "\n",
    "# axes[1].plot(values[:,-2:], markersize=3.5)\n",
    "# axes[1].legend(names[-2:])\n",
    "# axes[1].set_xlabel(\"number of iterations\")\n",
    "# axes[1].set_title(\"Evolution of A and P\")\n",
    "# axes[1].set_yscale(\"log\")\n",
    "\n",
    "# fig.tight_layout()"
   ]
  },
  {
   "cell_type": "code",
   "execution_count": null,
   "metadata": {},
   "outputs": [],
   "source": [
    "mark_space = 20\n",
    "marker_list = [\"-o\",\"-s\",\"->\",\"-<\",\"-^\",\"-v\",\"-d\"]\n",
    "\n",
    "\n",
    "fig, axes = plt.subplots(1, 4, figsize=(15, 3))\n",
    "\n",
    "names = list(loss.dtype.names)\n",
    "for j,name in enumerate(names) :\n",
    "    if re.match(r\".*(loss)\",name) : \n",
    "        axes[0].plot(loss[name],marker_list[j%len(marker_list)],markersize=3.5,label = name,markevery = mark_space,linewidth = 2)\n",
    "        axes[0].set_yscale(\"log\")\n",
    "        axes[0].legend()\n",
    "        axes[0].set_xlabel(\"number of iterations\")\n",
    "    elif re.match(r\"^(rel)\",name) : \n",
    "        axes[1].plot(loss[name],marker_list[j%len(marker_list)],markersize=3.5,label = name,markevery = mark_space,linewidth = 2)\n",
    "        axes[1].legend()\n",
    "        axes[1].set_xlabel(\"number of iterations\")\n",
    "    elif re.match(r\"^(ang)\",name) :\n",
    "        axes[2].plot(loss[name],marker_list[j%len(marker_list)],markersize=3.5,label = name,markevery = mark_space,linewidth = 2)\n",
    "        axes[2].legend()\n",
    "        axes[2].set_xlabel(\"number of iterations\")\n",
    "    elif re.match(r\"^(mse)\",name) :\n",
    "        axes[3].plot(loss[name],marker_list[j%len(marker_list)],markersize=3.5,label = name,markevery = mark_space,linewidth = 2)\n",
    "        axes[3].legend()\n",
    "        axes[3].set_xlabel(\"number of iterations\")\n",
    "\n",
    "cols = [\"Losses\", \"Evolution of A and P\",\"Angles\",\"MSE\"]\n",
    "\n",
    "for ax, col in zip(axes, cols):\n",
    "    ax.set_title(col, fontsize=fontsize)\n",
    "\n",
    "fig.tight_layout()"
   ]
  },
  {
   "cell_type": "code",
   "execution_count": null,
   "metadata": {},
   "outputs": [],
   "source": []
  }
 ],
 "metadata": {
  "kernelspec": {
   "name": "python3",
   "display_name": "Python 3",
   "language": "python"
  },
  "language_info": {
   "codemirror_mode": {
    "name": "ipython",
    "version": 3
   },
   "file_extension": ".py",
   "mimetype": "text/x-python",
   "name": "python",
   "nbconvert_exporter": "python",
   "pygments_lexer": "ipython3",
   "version": "3.8.6"
  }
 },
 "nbformat": 4,
 "nbformat_minor": 4
}