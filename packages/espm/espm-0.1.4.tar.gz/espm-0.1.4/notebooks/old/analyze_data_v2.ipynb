{
 "cells": [
  {
   "cell_type": "code",
   "execution_count": null,
   "metadata": {},
   "outputs": [],
   "source": [
    "%load_ext autoreload\n",
    "%autoreload 2\n",
    "%matplotlib qt"
   ]
  },
  {
   "cell_type": "markdown",
   "metadata": {},
   "source": [
    "# Imports and utility functions"
   ]
  },
  {
   "cell_type": "code",
   "execution_count": null,
   "metadata": {},
   "outputs": [],
   "source": [
    "\n",
    "import matplotlib.pyplot as plt\n",
    "import numpy as np\n",
    "from snmfem.estimator.snmf import SNMF\n",
    "from snmfem import EDXS_model\n",
    "from snmfem.measures import find_min_angle, find_min_MSE, residuals\n",
    "from snmfem.conf import DATASETS_PATH\n",
    "from pathlib import Path\n",
    "\n",
    "# hyperspy is the commonly used library to handle spectrum images in the electron microscopy community\n",
    "import hyperspy.api as hs\n"
   ]
  },
  {
   "cell_type": "markdown",
   "metadata": {},
   "source": [
    "# Data Loading"
   ]
  },
  {
   "cell_type": "code",
   "execution_count": null,
   "metadata": {},
   "outputs": [],
   "source": [
    "folder = DATASETS_PATH / Path(\"aspim037_N100_2ptcls_brstlg\")\n",
    "sample_num = 1\n",
    "\n",
    "sample_filenames = list(folder.glob(\"*.npz\"))\n",
    "print(\"Found {} samples\".format(len(sample_filenames)))\n",
    "sample_filename = sample_filenames[sample_num]"
   ]
  },
  {
   "cell_type": "code",
   "execution_count": null,
   "metadata": {},
   "outputs": [],
   "source": [
    "# S=hs.load(filename+\".hspy\")\n",
    "dat = np.load(sample_filename)\n",
    "X = dat[\"X\"]\n",
    "Xdot = dat[\"Xdot\"]\n",
    "phases = dat[\"phases\"] \n",
    "densities = dat[\"densities\"]\n",
    "weights = dat[\"weights\"]\n",
    "N = dat[\"N\"]\n",
    "k = len(densities)\n",
    "\n",
    "S = hs.signals.Signal1D(X)\n",
    "S.axes_manager[2].name=\"Energy\"\n",
    "S.axes_manager[2].scale=0.01\n",
    "S.axes_manager[2].offset=0.20805000000000007\n",
    "S.axes_manager[2].unit=\"keV\"\n",
    "\n",
    "# # This part of the spectrum image contains only pure spectra from phase 0\n",
    "# # This kind of area is often available in experimental datasets\n",
    "X_part=S.inav[60:,:].data"
   ]
  },
  {
   "cell_type": "code",
   "execution_count": null,
   "metadata": {},
   "outputs": [],
   "source": [
    "X.shape"
   ]
  },
  {
   "cell_type": "code",
   "execution_count": null,
   "metadata": {},
   "outputs": [],
   "source": [
    "X_part.shape"
   ]
  },
  {
   "cell_type": "code",
   "execution_count": null,
   "metadata": {},
   "outputs": [],
   "source": [
    "plt.figure()\n",
    "plt.imshow(np.mean(X, axis=2))\n",
    "plt.colorbar()\n"
   ]
  },
  {
   "cell_type": "code",
   "execution_count": null,
   "metadata": {},
   "outputs": [],
   "source": [
    "plt.figure()\n",
    "plt.hist(X.flatten(), 100)\n",
    "plt.yscale(\"log\")"
   ]
  },
  {
   "cell_type": "markdown",
   "metadata": {},
   "source": [
    "# Interactive plotting of the data"
   ]
  },
  {
   "cell_type": "code",
   "execution_count": null,
   "metadata": {},
   "outputs": [],
   "source": [
    "roi=hs.roi.RectangularROI(12,12,24,24)\n",
    "S.plot()\n",
    "spim_ROI=roi.interactive(S)\n",
    "    \n",
    "sum_ROI=hs.interactive(spim_ROI.sum,\n",
    "               event=spim_ROI.axes_manager.events.any_axis_changed,\n",
    "               recompute_out_event=None)\n",
    "sum_ROI.plot()"
   ]
  },
  {
   "source": [
    "# Testing an NMF algorithm"
   ],
   "cell_type": "markdown",
   "metadata": {}
  },
  {
   "cell_type": "code",
   "execution_count": null,
   "metadata": {},
   "outputs": [],
   "source": [
    "D = phases.T\n",
    "A = weights.reshape(-1, 3).T\n",
    "w = densities\n",
    "W = np.diag(w)\n",
    "Dp = N * D @ W\n",
    "Xdot_m = Xdot.reshape(-1, 1980).T\n",
    "X_m = X.reshape(-1, 1980).T\n",
    "\n",
    "np.testing.assert_allclose(Xdot_m, Dp @ A)\n",
    "np.testing.assert_allclose(np.sum(A, axis=0), np.ones(A.shape[1]))\n"
   ]
  },
  {
   "cell_type": "code",
   "execution_count": null,
   "metadata": {},
   "outputs": [],
   "source": [
    "from snmfem.estimator.nmf import NMF"
   ]
  },
  {
   "cell_type": "code",
   "execution_count": null,
   "metadata": {},
   "outputs": [],
   "source": [
    "from sklearn.decomposition import TruncatedSVD\n",
    "from sklearn.decomposition import NMF\n",
    "from sklearn.decomposition._nmf import _initialize_nmf as initialize_nmf "
   ]
  },
  {
   "cell_type": "code",
   "execution_count": null,
   "metadata": {},
   "outputs": [],
   "source": [
    "# U,V = initialize_nmf(Xdot_m, k)"
   ]
  },
  {
   "cell_type": "code",
   "execution_count": null,
   "metadata": {},
   "outputs": [],
   "source": [
    "def truncated_SVD(X, k, algorithm='randomized', n_iter=5, **kwargs):\n",
    "    \"\"\"Wrapper function to perform a truncated SVD.\n",
    "    \n",
    "    Returns U, V, e where X = U V and e is the explained variance ratio.\n",
    "    \"\"\"\n",
    "    tsvd = TruncatedSVD(n_components=k, algorithm=algorithm, n_iter=n_iter, **kwargs)\n",
    "    U = tsvd.fit_transform(X)\n",
    "    V = tsvd.components_\n",
    "    e = tsvd.explained_variance_ratio_\n",
    "    return U, V, e\n"
   ]
  },
  {
   "cell_type": "code",
   "execution_count": null,
   "metadata": {},
   "outputs": [],
   "source": [
    "Xr = Xdot.reshape(-1, Xdot.shape[2])\n",
    "Xr.shape"
   ]
  },
  {
   "cell_type": "code",
   "execution_count": null,
   "metadata": {},
   "outputs": [],
   "source": [
    "U, V, e = truncated_SVD(Xr, k =k, n_iter=20)\n",
    "np.testing.assert_allclose(np.sum(e),1)\n",
    "np.testing.assert_allclose((U @ V), Xr)"
   ]
  },
  {
   "cell_type": "markdown",
   "metadata": {},
   "source": [
    "# Parameters intialisation"
   ]
  },
  {
   "cell_type": "code",
   "execution_count": null,
   "metadata": {},
   "outputs": [],
   "source": [
    "# True bremsstrahlung parameters\n",
    "brstlg_pars = {\"c0\" : 4.8935e-05,\"c1\" : 1464.19810, \"c2\" : 0.04216872, \"b0\" : 0.15910789, \"b1\" : -0.00773158, \"b2\" : 8.7417e-04}\n",
    "\n",
    "# SNMF parameters\n",
    "tol = 1e-4\n",
    "max_iter = 5000\n",
    "b_tol = 1e-1\n",
    "mu_sparse = 0.0\n",
    "eps_sparse = 1.0\n",
    "phases = 3\n",
    "debug = True\n",
    "\n",
    "# # If mu_sparse !=0 a good initialization of the first phase is required, it can be done using the spectrum below\n",
    "init_matrix=np.average(X_part,axis=(0,1))"
   ]
  },
  {
   "cell_type": "markdown",
   "metadata": {},
   "source": [
    "## Creating the EDXS model"
   ]
  },
  {
   "cell_type": "code",
   "execution_count": null,
   "metadata": {},
   "outputs": [],
   "source": [
    "em = EDXS_model.EDXS_Model(\"Data/simple_xrays_threshold.json\",brstlg_pars = brstlg_pars,e_offset=S.axes_manager[2].offset,e_scale=S.axes_manager[2].scale,e_size=S.axes_manager[2].size)\n",
    "em.generate_g_matr([8,13,14,12,26,29,31,72,71,62,60,92,20],brstlg = False) # If brstlg=False, it will learn the continum model, if brstlg=True it add a column in the G matrix using the parameters , "
   ]
  },
  {
   "cell_type": "code",
   "execution_count": null,
   "metadata": {},
   "outputs": [],
   "source": [
    "S.axes_manager[2].scale, "
   ]
  },
  {
   "cell_type": "code",
   "execution_count": null,
   "metadata": {},
   "outputs": [],
   "source": [
    "S.axes_manager[2].offset"
   ]
  },
  {
   "cell_type": "code",
   "execution_count": null,
   "metadata": {},
   "outputs": [],
   "source": [
    "brstlg_pars"
   ]
  },
  {
   "cell_type": "code",
   "execution_count": null,
   "metadata": {},
   "outputs": [],
   "source": [
    "em.g_matr.shape"
   ]
  },
  {
   "cell_type": "code",
   "execution_count": null,
   "metadata": {},
   "outputs": [],
   "source": [
    "em.x"
   ]
  },
  {
   "cell_type": "markdown",
   "metadata": {},
   "source": [
    "## Loading the ground truth"
   ]
  },
  {
   "cell_type": "code",
   "execution_count": null,
   "metadata": {},
   "outputs": [],
   "source": [
    "true_spectra=[]\n",
    "true_maps=[]\n",
    "true_spectra.append(np.genfromtxt(filename+\"spectrum_p0\"))\n",
    "true_spectra.append(np.genfromtxt(filename+\"spectrum_p1\"))\n",
    "true_spectra.append(np.genfromtxt(filename+\"spectrum_p2\"))\n",
    "true_maps.append(np.load(filename+\"map_p0.npy\"))\n",
    "true_maps.append(np.load(filename+\"map_p1.npy\"))\n",
    "true_maps.append(np.load(filename+\"map_p2.npy\"))\n",
    "\n",
    "true_spectra = np.array(true_spectra)\n",
    "true_maps = np.array(true_maps)\n"
   ]
  },
  {
   "cell_type": "code",
   "execution_count": null,
   "metadata": {},
   "outputs": [],
   "source": [
    "true_maps.shape, true_spectra.shape"
   ]
  },
  {
   "cell_type": "code",
   "execution_count": null,
   "metadata": {},
   "outputs": [],
   "source": [
    "plt.figure(figsize=(10,10))\n",
    "plt.subplot(221)\n",
    "plt.plot(em.x, true_spectra.T);\n",
    "plt.yscale(\"log\")\n",
    "for i in range(3):\n",
    "    plt.subplot(2,2,i+2)\n",
    "    plt.imshow(true_maps[i])"
   ]
  },
  {
   "cell_type": "code",
   "execution_count": null,
   "metadata": {},
   "outputs": [],
   "source": []
  },
  {
   "cell_type": "code",
   "execution_count": null,
   "metadata": {},
   "outputs": [],
   "source": [
    "# Checking the loss of the ground truth\n",
    "n_components = true_maps.shape[0]\n",
    "im_size = true_maps.shape[1:]\n",
    "\n",
    "perfect_reconstruction = (true_maps.reshape(n_components,-1).T @ true_spectra ).reshape(*im_size, -1)\n",
    "diff = perfect_reconstruction -X\n",
    "np.std(diff)"
   ]
  },
  {
   "cell_type": "code",
   "execution_count": null,
   "metadata": {},
   "outputs": [],
   "source": [
    "plt.figure(figsize=(10,5))\n",
    "plt.subplot(121)\n",
    "plt.imshow(np.mean(perfect_reconstruction, axis=2))\n",
    "plt.colorbar()\n",
    "plt.subplot(122)\n",
    "plt.imshow(np.mean(X, axis=2))\n",
    "plt.colorbar()\n"
   ]
  },
  {
   "cell_type": "markdown",
   "metadata": {},
   "source": [
    "# SNMF\n",
    "\n",
    "## Initialize the algorithm"
   ]
  },
  {
   "cell_type": "code",
   "execution_count": null,
   "metadata": {},
   "outputs": [],
   "source": [
    "mdl = SNMF(max_iter = max_iter, tol = tol, b_tol = b_tol, mu_sparse=mu_sparse, eps_sparse = eps_sparse, num_phases=phases,edxs_model=em, brstlg_pars = brstlg_pars, init_spectrum = init_matrix, debug=debug)"
   ]
  },
  {
   "cell_type": "markdown",
   "metadata": {},
   "source": [
    "## Running the algorithm"
   ]
  },
  {
   "cell_type": "code",
   "execution_count": null,
   "metadata": {
    "scrolled": true
   },
   "outputs": [],
   "source": [
    "mdl.fit(X,eval_print=50, flush=False)"
   ]
  },
  {
   "cell_type": "code",
   "execution_count": null,
   "metadata": {},
   "outputs": [],
   "source": [
    "# from time import sleep\n",
    "# for i in range(10):\n",
    "#     print(f\"\\r {i}\", end=\"\", flush=True)\n",
    "#     sleep(0.1)\n"
   ]
  },
  {
   "cell_type": "markdown",
   "metadata": {},
   "source": [
    "# Results\n",
    "\n",
    "## Comparison with ground truth"
   ]
  },
  {
   "cell_type": "code",
   "execution_count": null,
   "metadata": {},
   "outputs": [],
   "source": [
    "# Returns the angles between the ground truth and the endmembers found using SNMF\n",
    "angles=find_min_angle(true_spectra,[mdl.get_phase_spectrum(0),mdl.get_phase_spectrum(1),mdl.get_phase_spectrum(2)])\n",
    "\n",
    "maps=find_min_MSE(true_maps,[mdl.get_phase_map(0),mdl.get_phase_map(1),mdl.get_phase_map(2)])\n",
    "\n",
    "print(\"Angle phase 0 :\",angles[0])\n",
    "print(\"Angle phase 1 :\",angles[1])\n",
    "print(\"Angle phase 2 :\",angles[2])\n",
    "print(\"MSE phase 0 :\",maps[0])\n",
    "print(\"MSE phase 1 :\",maps[1])\n",
    "print(\"MSE phase 2 :\",maps[2])"
   ]
  },
  {
   "cell_type": "markdown",
   "metadata": {},
   "source": [
    "## Visualisation of the results \n",
    "\n",
    "### Matching endmembers and ground truth"
   ]
  },
  {
   "cell_type": "code",
   "execution_count": null,
   "metadata": {},
   "outputs": [],
   "source": [
    "# switch is the index of the endmember (0 to 2)\n",
    "switch = 1\n",
    "# true is the index of the ground truth (0 to 2)\n",
    "true=1"
   ]
  },
  {
   "cell_type": "markdown",
   "metadata": {},
   "source": [
    "## Endmember + abundance plot"
   ]
  },
  {
   "cell_type": "code",
   "execution_count": null,
   "metadata": {},
   "outputs": [],
   "source": [
    "plt.rcParams.update({'font.size': 22})\n",
    "fig1 = plt.figure(figsize=(20, 12))\n",
    "plt.subplot(121)\n",
    "plt.plot(em.x,100*true_spectra[true]/np.sum(true_spectra[true]),'bo',label='truth',linewidth=4)\n",
    "plt.plot(em.x, mdl.get_phase_spectrum(switch),'r-',label='reconstructed',markersize=3.5)\n",
    "plt.legend(loc='best')\n",
    "plt.xlim(0, 10)\n",
    "plt.ylim(0,1)\n",
    "plt.ylabel(\"Intensity\")\n",
    "\n",
    "plt.subplot(122)\n",
    "plt.imshow(mdl.get_phase_map(switch), cmap=\"viridis\")\n",
    "plt.grid(b=30)\n",
    "plt.title(f\"Activations of first spectrum\")\n",
    "plt.colorbar()\n",
    "plt.clim(0, 1)\n",
    "\n",
    "fig1.tight_layout()"
   ]
  },
  {
   "cell_type": "markdown",
   "metadata": {},
   "source": [
    "## Plotting the convergence\n",
    "\n",
    "### Losses"
   ]
  },
  {
   "cell_type": "code",
   "execution_count": null,
   "metadata": {},
   "outputs": [],
   "source": [
    "fig, (ax1, ax2) = plt.subplots(2, 1)\n",
    "ax1.plot(mdl.base_losses)\n",
    "ax1.set_title(\"base loss\",fontsize=24)\n",
    "ax1.set_xticks([])\n",
    "ax2.plot(mdl.losses)\n",
    "ax2.set_title(\"full loss\",fontsize=24)\n",
    "ax2.set_xlabel(\"number of iterations\",fontsize=20)"
   ]
  },
  {
   "cell_type": "markdown",
   "metadata": {},
   "source": [
    "### B parameters step sizes"
   ]
  },
  {
   "cell_type": "code",
   "execution_count": null,
   "metadata": {},
   "outputs": [],
   "source": [
    "fig, (ax1, ax2, ax3, ax4, ax5) = plt.subplots(5, 1)\n",
    "ax1.plot(np.array(mdl.eta_list)[:,0])\n",
    "ax1.set_title(\"step size b1\",fontsize=18)\n",
    "ax1.set_xticks([])\n",
    "ax2.plot(np.array(mdl.eta_list)[:,1])\n",
    "ax2.set_title(\"step size b2\",fontsize=18)\n",
    "ax2.set_xticks([])\n",
    "ax3.plot(np.array(mdl.eta_list)[:,2])\n",
    "ax3.set_title(\"step size c0\",fontsize=18)\n",
    "ax3.set_xticks([])\n",
    "ax4.plot(np.array(mdl.eta_list)[:,3])\n",
    "ax4.set_title(\"step size c1\",fontsize=18)\n",
    "ax4.set_xticks([])\n",
    "ax5.plot(np.array(mdl.eta_list)[:,4])\n",
    "ax5.set_title(\"step size c2\",fontsize=18)\n",
    "ax5.set_xlabel(\"number of iterations\",fontsize=16)"
   ]
  },
  {
   "cell_type": "markdown",
   "metadata": {},
   "source": [
    "### A, P and B norms"
   ]
  },
  {
   "cell_type": "code",
   "execution_count": null,
   "metadata": {},
   "outputs": [],
   "source": [
    "fig, (ax1, ax2, ax3) = plt.subplots(3, 1)\n",
    "ax1.plot(mdl.a_norm)\n",
    "ax1.set_title(\"A norm\",fontsize=18)\n",
    "ax1.set_xticks([])\n",
    "ax2.plot(mdl.p_norm)\n",
    "ax2.set_title(\"P norm\",fontsize=18)\n",
    "ax2.set_xticks([])\n",
    "ax3.plot(mdl.b_norm)\n",
    "ax3.set_title(\"B norm\",fontsize=18)\n",
    "ax3.set_xlabel(\"number of iterations\",fontsize=16)"
   ]
  },
  {
   "cell_type": "code",
   "execution_count": null,
   "metadata": {},
   "outputs": [],
   "source": []
  }
 ],
 "metadata": {
  "kernelspec": {
   "display_name": "Python 3",
   "language": "python",
   "name": "python3"
  },
  "language_info": {
   "codemirror_mode": {
    "name": "ipython",
    "version": 3
   },
   "file_extension": ".py",
   "mimetype": "text/x-python",
   "name": "python",
   "nbconvert_exporter": "python",
   "pygments_lexer": "ipython3",
   "version": "3.8.6-final"
  }
 },
 "nbformat": 4,
 "nbformat_minor": 4
}