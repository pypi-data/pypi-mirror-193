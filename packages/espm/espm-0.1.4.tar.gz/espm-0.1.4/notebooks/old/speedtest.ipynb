{
 "metadata": {
  "language_info": {
   "codemirror_mode": {
    "name": "ipython",
    "version": 3
   },
   "file_extension": ".py",
   "mimetype": "text/x-python",
   "name": "python",
   "nbconvert_exporter": "python",
   "pygments_lexer": "ipython3",
   "version": "3.8.8-final"
  },
  "orig_nbformat": 2,
  "kernelspec": {
   "name": "python3",
   "display_name": "Python 3.8.8 64-bit ('SNMF_EDXS': pipenv)",
   "metadata": {
    "interpreter": {
     "hash": "7271e8df8ff50cd9f6e8b7c98b53ae7e7d5e768bff95979d30c69fc509a26b70"
    }
   }
  }
 },
 "nbformat": 4,
 "nbformat_minor": 2,
 "cells": [
  {
   "cell_type": "code",
   "execution_count": null,
   "metadata": {},
   "outputs": [],
   "source": [
    "%load_ext autoreload\n",
    "%autoreload 2\n",
    "%matplotlib inline\n",
    "%load_ext line_profiler\n"
   ]
  },
  {
   "cell_type": "code",
   "execution_count": null,
   "metadata": {},
   "outputs": [],
   "source": [
    "import numpy as np\n",
    "import matplotlib.pyplot as plt\n",
    "from snmfem.experiments import load_samples, load_data, run_experiment"
   ]
  },
  {
   "cell_type": "code",
   "execution_count": null,
   "metadata": {},
   "outputs": [],
   "source": [
    "# dataset = \"dataset_EDXS_small.json\"\n",
    "dataset = \"dataset_EDXS.json\"\n",
    "samples, k, shape_2d = load_samples(dataset)\n",
    "n_samples = 5\n",
    "samples = samples[:n_samples]\n"
   ]
  },
  {
   "cell_type": "code",
   "execution_count": null,
   "metadata": {},
   "outputs": [],
   "source": [
    "default_params = {\n",
    "    \"n_components\" : k,\n",
    "    \"tol\" : 1e-6,\n",
    "    \"max_iter\" : 10,\n",
    "    \"init\" : \"random\",\n",
    "    \"random_state\" : 1,\n",
    "    \"verbose\" : 0\n",
    "    }\n",
    "\n",
    "params_snmf = {\n",
    "    \"force_simplex\" : True,\n",
    "    \"skip_G\" : False,\n",
    "    \"mu\": 0\n",
    "}\n",
    "\n",
    "params_evalution = {\n",
    "    \"u\" : True,\n",
    "}\n",
    "\n",
    "exp = {\"name\": \"snmfem smooth 100\", \"method\": \"SmoothNMF\", \"params\": {**default_params, **params_snmf, \"lambda_L\" : 100.0, \"shape_2d\" : shape_2d}}"
   ]
  },
  {
   "cell_type": "code",
   "execution_count": null,
   "metadata": {},
   "outputs": [],
   "source": [
    "sample_num = 0\n",
    "\n",
    "s = samples[sample_num]\n",
    "Xflat, true_spectra, true_maps, G = load_data(s)"
   ]
  },
  {
   "cell_type": "code",
   "execution_count": null,
   "metadata": {},
   "outputs": [],
   "source": [
    "from snmfem.updates import multiplicative_step_a, multiplicative_step_p\n",
    "from snmfem.estimators import SmoothNMF, NMFEstimator\n",
    "from snmfem.measures import KLdiv"
   ]
  },
  {
   "cell_type": "code",
   "execution_count": null,
   "metadata": {},
   "outputs": [],
   "source": [
    "%lprun -f NMFEstimator.fit_transform run_experiment(Xflat, true_spectra, true_maps, G, exp, params_evalution)"
   ]
  },
  {
   "cell_type": "code",
   "execution_count": null,
   "metadata": {},
   "outputs": [],
   "source": [
    "%lprun -f SmoothNMF._iteration run_experiment(Xflat, true_spectra, true_maps, G, exp, params_evalution)"
   ]
  },
  {
   "cell_type": "code",
   "execution_count": null,
   "metadata": {},
   "outputs": [],
   "source": [
    "%lprun -f multiplicative_step_a run_experiment(Xflat, true_spectra, true_maps, G, exp, params_evalution)"
   ]
  },
  {
   "cell_type": "code",
   "execution_count": null,
   "metadata": {},
   "outputs": [],
   "source": [
    "%lprun -f multiplicative_step_p run_experiment(Xflat, true_spectra, true_maps, G, exp, params_evalution)"
   ]
  },
  {
   "cell_type": "code",
   "execution_count": null,
   "metadata": {},
   "outputs": [],
   "source": [
    "%lprun -f SmoothNMF.loss run_experiment(Xflat, true_spectra, true_maps, G, exp, params_evalution)"
   ]
  },
  {
   "cell_type": "code",
   "execution_count": null,
   "metadata": {},
   "outputs": [],
   "source": [
    "%lprun -f NMFEstimator.loss run_experiment(Xflat, true_spectra, true_maps, G, exp, params_evalution)"
   ]
  },
  {
   "cell_type": "code",
   "execution_count": null,
   "metadata": {},
   "outputs": [],
   "source": [
    "%lprun -f KLdiv run_experiment(Xflat, true_spectra, true_maps, G, exp, params_evalution)"
   ]
  },
  {
   "cell_type": "code",
   "execution_count": null,
   "metadata": {},
   "outputs": [],
   "source": [
    "# %timeit -r 1 -n 1 run_experiment(Xflat, true_spectra, true_maps, G, exp, params_evalution)"
   ]
  },
  {
   "cell_type": "code",
   "execution_count": null,
   "metadata": {},
   "outputs": [],
   "source": []
  },
  {
   "cell_type": "code",
   "execution_count": null,
   "metadata": {},
   "outputs": [],
   "source": [
    "import torch\n",
    "from torch.autograd import Variable"
   ]
  },
  {
   "cell_type": "code",
   "execution_count": null,
   "metadata": {},
   "outputs": [],
   "source": [
    "A = true_maps\n",
    "GP = np.linalg.lstsq(A.T, Xflat.T)[0]\n",
    "P = np.linalg.lstsq(G, GP.T)[0]\n",
    "X = Xflat"
   ]
  },
  {
   "cell_type": "code",
   "execution_count": null,
   "metadata": {},
   "outputs": [],
   "source": [
    "%timeit G @ P @ A\n",
    "%timeit (G @ P) @ A\n",
    "%timeit G @ (P @ A)"
   ]
  },
  {
   "cell_type": "code",
   "execution_count": null,
   "metadata": {},
   "outputs": [],
   "source": [
    "GPA = G @ P @ A\n",
    "%timeit X / GPA\n",
    "%timeit np.log(X+0.01)\n"
   ]
  },
  {
   "cell_type": "code",
   "execution_count": null,
   "metadata": {},
   "outputs": [],
   "source": [
    "GPA = G @ P @ A\n",
    "%timeit X / GPA"
   ]
  },
  {
   "cell_type": "code",
   "execution_count": null,
   "metadata": {},
   "outputs": [],
   "source": [
    "t_G = Variable(torch.tensor(G), requires_grad=False)\n",
    "t_P = Variable(torch.tensor(P), requires_grad=False)\n",
    "t_A = Variable(torch.tensor(A), requires_grad=False)\n",
    "t_X = Variable(torch.tensor(X), requires_grad=False)"
   ]
  },
  {
   "cell_type": "code",
   "execution_count": null,
   "metadata": {},
   "outputs": [],
   "source": [
    "%timeit (G @ P) @ A\n",
    "%timeit t_G.matmul(t_P).matmul(t_A)"
   ]
  },
  {
   "cell_type": "code",
   "execution_count": null,
   "metadata": {},
   "outputs": [],
   "source": [
    "t_GPA = t_G.matmul(t_P).matmul(t_A)\n",
    "%timeit t_X / t_GPA"
   ]
  },
  {
   "cell_type": "code",
   "execution_count": null,
   "metadata": {},
   "outputs": [],
   "source": []
  }
 ]
}