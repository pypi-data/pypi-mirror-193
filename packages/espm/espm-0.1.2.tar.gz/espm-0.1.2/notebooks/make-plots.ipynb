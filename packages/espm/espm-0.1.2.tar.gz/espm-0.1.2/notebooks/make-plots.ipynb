{
 "cells": [
  {
   "cell_type": "code",
   "execution_count": null,
   "metadata": {},
   "outputs": [],
   "source": [
    "%load_ext autoreload\n",
    "%autoreload 2\n",
    "%matplotlib inline"
   ]
  },
  {
   "cell_type": "code",
   "execution_count": null,
   "metadata": {},
   "outputs": [],
   "source": [
    "import numpy as np\n",
    "import matplotlib.pyplot as plt"
   ]
  },
  {
   "cell_type": "code",
   "execution_count": null,
   "metadata": {},
   "outputs": [],
   "source": [
    "lim = 5\n",
    "n = 100\n",
    "epsilon = lim / n\n",
    "\n",
    "x = np.arange(epsilon, lim+epsilon, epsilon)\n",
    "y = np.arange(epsilon, lim+epsilon, epsilon)\n",
    "X, Y = np.meshgrid(x, y)\n",
    "\n",
    "def f(x, y):\n",
    "    return - 2*np.log(x*y) + x*y\n",
    "\n",
    "\n",
    "plt.figure(figsize=(6,4))\n",
    "plt.imshow((f(X,Y)),extent=[epsilon, lim, epsilon, lim], cmap=plt.cm.hot, origin=\"lower\")\n",
    "plt.colorbar()\n",
    "plt.plot(x, 2/x, label=\"$arg\\min_y f(x,y)=2/x$\")\n",
    "plt.ylim([epsilon, lim])\n",
    "plt.legend()\n",
    "plt.title(\"$ f(x,y) = 2 \\log (x\\cdot y) + x\\cdot y$\");\n",
    "\n"
   ]
  },
  {
   "cell_type": "code",
   "execution_count": null,
   "metadata": {},
   "outputs": [],
   "source": [
    "# Check function for dichotomy\n",
    "lim = 10\n",
    "n = 1000\n",
    "x = np.arange(-lim, lim, 2*lim/n)\n",
    "\n",
    "def f(x):\n",
    "    return -x + np.sqrt(x**2 + 1 )\n",
    "\n",
    "\n",
    "plt.plot(x, f(x))"
   ]
  }
 ],
 "metadata": {
  "kernelspec": {
   "display_name": "espm",
   "language": "python",
   "name": "python3"
  },
  "language_info": {
   "codemirror_mode": {
    "name": "ipython",
    "version": 3
   },
   "file_extension": ".py",
   "mimetype": "text/x-python",
   "name": "python",
   "nbconvert_exporter": "python",
   "pygments_lexer": "ipython3",
   "version": "3.10.6 (main, Sep  8 2022, 23:31:57) [Clang 13.1.6 (clang-1316.0.21.2.5)]"
  },
  "vscode": {
   "interpreter": {
    "hash": "a7ceffc662db6c9d514927743d8d35570797b920e33613212d4f424c0416cf91"
   }
  }
 },
 "nbformat": 4,
 "nbformat_minor": 2
}
