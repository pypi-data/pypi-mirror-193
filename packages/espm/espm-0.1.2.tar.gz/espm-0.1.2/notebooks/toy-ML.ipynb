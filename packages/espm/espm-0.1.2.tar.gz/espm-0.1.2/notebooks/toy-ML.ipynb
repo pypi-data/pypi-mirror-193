{
 "cells": [
  {
   "cell_type": "markdown",
   "metadata": {},
   "source": [
    "# NMF on a toy dataset"
   ]
  },
  {
   "cell_type": "code",
   "execution_count": null,
   "metadata": {},
   "outputs": [],
   "source": [
    "%load_ext autoreload\n",
    "%autoreload 2\n",
    "%matplotlib inline"
   ]
  },
  {
   "cell_type": "markdown",
   "metadata": {},
   "source": [
    "## Import and function definition"
   ]
  },
  {
   "cell_type": "code",
   "execution_count": null,
   "metadata": {},
   "outputs": [],
   "source": [
    "import numpy as np\n",
    "import matplotlib.pyplot as plt\n",
    "from espm.datasets.base import generate_spim\n",
    "from espm.estimators import SmoothNMF\n",
    "from espm.measures import find_min_angle, find_min_MSE, ordered_mse, ordered_mae, ordered_r2\n",
    "from espm.datasets.toy import syntheticG, load_toy_images, create_toy_problem\n"
   ]
  },
  {
   "cell_type": "code",
   "execution_count": null,
   "metadata": {},
   "outputs": [],
   "source": [
    "C = 15\n",
    "L = 200\n",
    "P = 100**2\n",
    "seed = 0\n",
    "\n",
    "n_poisson = 600 # Average poisson number per pixel (this number will be splitted on the L dimension)\n"
   ]
  },
  {
   "cell_type": "code",
   "execution_count": null,
   "metadata": {},
   "outputs": [],
   "source": [
    "\n",
    "\n",
    "def plot_results(Ddot, D, Hdotflat, Hflat):\n",
    "    fontsize = 30\n",
    "    scale = 15\n",
    "    aspect_ratio = 1.4\n",
    "    marker_list = [\"-o\",\"-s\",\"->\",\"-<\",\"-^\",\"-v\",\"-d\"]\n",
    "    mark_space = 20\n",
    "    # cmap = plt.cm.hot_r    \n",
    "    cmap = plt.cm.gray_r\n",
    "    vmax = 1\n",
    "    vmin = 0\n",
    "    K = len(H)\n",
    "    L = len(D)\n",
    "    \n",
    "    angles, true_inds = find_min_angle(Ddot.T, D.T, unique=True, get_ind=True)\n",
    "    mse = ordered_mse(Hdotflat, Hflat, true_inds)\n",
    "    mae = ordered_mae(Hdotflat, Hflat, true_inds)\n",
    "    r2 = ordered_r2(Hdotflat, Hflat, true_inds)\n",
    "\n",
    "\n",
    "    fig, axes = plt.subplots(K,3,figsize = (scale/K * 3 * aspect_ratio,scale))\n",
    "    x = np.linspace(0,1, num = L)\n",
    "    for i in range(K): \n",
    "        axes[2,i].plot(x,Ddot.T[i,:],'bo',label='truth',linewidth=4)\n",
    "        axes[2,i].plot(x,D[:,true_inds[i]],'r-',label='reconstructed',markersize=3.5)\n",
    "        axes[2,i].set_title(\"{:.2f} deg\".format(angles[i]),fontsize = fontsize-2)\n",
    "        axes[2,i].set_xlim(0,1)\n",
    "\n",
    "        axes[1,i].imshow((Hflat[true_inds[i],:]).reshape(shape_2d),vmin = vmin, vmax = vmax , cmap=cmap)\n",
    "        axes[1,i].set_title(\"R2: {:.2f}\".format(r2[true_inds[i]]),fontsize = fontsize-2)\n",
    "        # axes[i,1].set_ylim(0.0,1.0)\n",
    "        axes[1,i].tick_params(axis = \"both\",labelleft = False, labelbottom = False,left = False, bottom = False)\n",
    "\n",
    "        im = axes[0,i].imshow(Hdotflat[i].reshape(shape_2d),vmin = vmin, vmax = vmax, cmap=cmap)\n",
    "        axes[0,i].set_title(\"Phase {}\".format(i),fontsize = fontsize)\n",
    "        axes[0,i].tick_params(axis = \"both\",labelleft = False, labelbottom = False,left = False, bottom = False)\n",
    "        axes[2,0].legend()\n",
    "\n",
    "    rows = [\"True maps\",\"Reconstructed maps\",\"Spectra\"]\n",
    "\n",
    "    for ax, row in zip(axes[:,0], rows):\n",
    "        ax.set_ylabel(row, rotation=90, fontsize=fontsize)\n",
    "\n",
    "\n",
    "    fig.subplots_adjust(right=0.84)\n",
    "    # put colorbar at desire position\n",
    "    cbar_ax = fig.add_axes([0.85, 0.5, 0.01, 0.3])\n",
    "    fig.colorbar(im,cax=cbar_ax)\n",
    "\n",
    "    # fig.tight_layout()\n",
    "\n",
    "    print(\"angles : \", angles)\n",
    "    print(\"mse : \", mse)\n",
    "    print(\"mae : \", mae)\n",
    "    print(\"r2 : \", r2)\n",
    "\n",
    "    return fig\n",
    "\n",
    "    \n",
    "        "
   ]
  },
  {
   "attachments": {},
   "cell_type": "markdown",
   "metadata": {},
   "source": [
    "## Create a synthetic problem"
   ]
  },
  {
   "cell_type": "code",
   "execution_count": null,
   "metadata": {},
   "outputs": [],
   "source": [
    "G = syntheticG(L,C, seed)\n",
    "l = np.arange(0, 1, 1/L)\n",
    "plt.plot(l, G[:,:3])\n",
    "plt.title(\"Spectral response of each elements\")\n"
   ]
  },
  {
   "cell_type": "code",
   "execution_count": null,
   "metadata": {},
   "outputs": [],
   "source": [
    "\n",
    "Hdot = load_toy_images()\n",
    "vmin, vmax = 0,1\n",
    "cmap = plt.cm.gray_r\n",
    "plt.figure(figsize=(10, 3))\n",
    "for i, hdot in enumerate(Hdot):\n",
    "    plt.subplot(1,3,i+1)\n",
    "    plt.imshow(hdot, cmap=cmap, vmin=vmin, vmax=vmax)\n",
    "    plt.axis(\"off\")\n",
    "    plt.title(f\"Map {i+1}\")\n"
   ]
  },
  {
   "cell_type": "code",
   "execution_count": null,
   "metadata": {},
   "outputs": [],
   "source": [
    "G, Wdot, Ddot, Hdot, Hdotflat, Ydot, Y, shape_2d, K = create_toy_problem(L, C, n_poisson)"
   ]
  },
  {
   "attachments": {},
   "cell_type": "markdown",
   "metadata": {},
   "source": [
    "## Solve the problem"
   ]
  },
  {
   "cell_type": "code",
   "execution_count": null,
   "metadata": {},
   "outputs": [],
   "source": [
    "\n",
    "mu = 0\n",
    "lambda_L = 0\n",
    "force_simplex = False\n",
    "Gused = None\n",
    "\n",
    "params = {}\n",
    "params[\"tol\"]=1e-6\n",
    "params[\"max_iter\"] = 50\n",
    "params[\"hspy_comp\"] = False\n",
    "params[\"verbose\"] = 1\n",
    "params[\"epsilon_reg\"] = 1\n",
    "params[\"linesearch\"] = False\n",
    "params[\"shape_2d\"] = shape_2d\n",
    "params[\"n_components\"] = K\n",
    "\n",
    "estimator = SmoothNMF(mu=mu, lambda_L=lambda_L, G = Gused, force_simplex=force_simplex, **params)\n",
    "D = estimator.fit_transform(Y)\n",
    "Hflat = estimator.H_\n",
    "H = Hflat.reshape([Hflat.shape[0], *shape_2d])\n",
    "W = estimator.W_"
   ]
  },
  {
   "cell_type": "code",
   "execution_count": null,
   "metadata": {},
   "outputs": [],
   "source": [
    "        \n",
    "angles, true_inds = find_min_angle(Ddot.T, D.T, unique=True, get_ind=True)\n",
    "mse = ordered_mse(Hdotflat, Hflat, true_inds)\n",
    "print(\"angles : \", angles)\n",
    "print(\"mse : \", mse)"
   ]
  },
  {
   "cell_type": "code",
   "execution_count": null,
   "metadata": {
    "tags": [
     "nbsphinx-thumbnail"
    ]
   },
   "outputs": [],
   "source": [
    "fig = plot_results(Ddot, D, Hdotflat, Hflat)\n",
    "plt.show()\n"
   ]
  },
  {
   "cell_type": "code",
   "execution_count": null,
   "metadata": {
    "tags": []
   },
   "outputs": [],
   "source": [
    "plt.figure(figsize=(10, 4))\n",
    "plt.subplot(1,2,1)\n",
    "plt.hist(Ydot.flatten()*n_poisson, 100);\n",
    "plt.subplot(1,2,1)\n",
    "plt.hist(Y.flatten()*n_poisson, 100, alpha=0.5);"
   ]
  },
  {
   "cell_type": "code",
   "execution_count": null,
   "metadata": {},
   "outputs": [],
   "source": []
  }
 ],
 "metadata": {
  "kernelspec": {
   "display_name": "espm",
   "language": "python",
   "name": "python3"
  },
  "language_info": {
   "codemirror_mode": {
    "name": "ipython",
    "version": 3
   },
   "file_extension": ".py",
   "mimetype": "text/x-python",
   "name": "python",
   "nbconvert_exporter": "python",
   "pygments_lexer": "ipython3",
   "version": "3.10.6"
  },
  "vscode": {
   "interpreter": {
    "hash": "a7ceffc662db6c9d514927743d8d35570797b920e33613212d4f424c0416cf91"
   }
  }
 },
 "nbformat": 4,
 "nbformat_minor": 4
}
