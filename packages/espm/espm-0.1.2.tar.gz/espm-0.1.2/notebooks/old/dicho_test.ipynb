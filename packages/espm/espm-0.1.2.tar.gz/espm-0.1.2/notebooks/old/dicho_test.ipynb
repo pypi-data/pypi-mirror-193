{
 "metadata": {
  "language_info": {
   "codemirror_mode": {
    "name": "ipython",
    "version": 3
   },
   "file_extension": ".py",
   "mimetype": "text/x-python",
   "name": "python",
   "nbconvert_exporter": "python",
   "pygments_lexer": "ipython3",
   "version": "3.8.6"
  },
  "orig_nbformat": 2,
  "kernelspec": {
   "name": "python386jvsc74a57bd01c54570ff4268047c81dd2c61765206f7b22026564b587a11579858717e9a312",
   "display_name": "Python 3.8.6 64-bit ('SNMF_EDXS-FwWDtlwS': pipenv)"
  }
 },
 "nbformat": 4,
 "nbformat_minor": 2,
 "cells": [
  {
   "cell_type": "code",
   "execution_count": null,
   "metadata": {},
   "outputs": [],
   "source": [
    "%load_ext autoreload\n",
    "%autoreload 2\n",
    "%matplotlib inline"
   ]
  },
  {
   "cell_type": "code",
   "execution_count": null,
   "metadata": {},
   "outputs": [],
   "source": [
    "import snmfem.experiments as e\n",
    "import snmfem.data_analysis as da\n",
    "from snmfem.conf import SCRIPT_CONFIG_PATH,DATASETS_PATH\n",
    "from pathlib import Path\n",
    "import numpy as np\n",
    "\n",
    "\n"
   ]
  },
  {
   "cell_type": "code",
   "execution_count": null,
   "metadata": {},
   "outputs": [],
   "source": [
    "\n",
    "dataset = SCRIPT_CONFIG_PATH / Path(\"brg_fp_gradients.json\")\n",
    "list_inputs = [str(json_path), 'SmoothNMF', '6', '--tol', '1e-8', '-mi', '1000', '-l', '0.1']"
   ]
  },
  {
   "cell_type": "code",
   "execution_count": null,
   "metadata": {},
   "outputs": [],
   "source": [
    "pos, est, eval = e.experiment_parser(list_inputs)\n",
    "\n",
    "file = da.load_filename(dataset)\n",
    "Xflat, shape_2d, offset, scale, size = da.load_hs_data(file)\n",
    "G = da.build_model(dataset, offset, scale, size)\n",
    "experiment = da.build_analysis(pos, est)\n",
    "G,P,A,losses = da.run_analysis(Xflat, G, experiment,shape_2d)\n"
   ]
  }
 ]
}