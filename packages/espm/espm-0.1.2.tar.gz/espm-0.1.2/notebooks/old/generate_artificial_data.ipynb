{
 "cells": [
  {
   "source": [
    "# Imports"
   ],
   "cell_type": "markdown",
   "metadata": {}
  },
  {
   "cell_type": "code",
   "execution_count": null,
   "metadata": {},
   "outputs": [],
   "source": [
    "%load_ext autoreload\n",
    "%autoreload 2\n",
    "%matplotlib inline"
   ]
  },
  {
   "cell_type": "code",
   "execution_count": null,
   "metadata": {},
   "outputs": [],
   "source": [
    "# %matplotlib qt\n",
    "import snmfem.generate_data as gd\n",
    "from snmfem.models import EDXS\n",
    "import numpy as np\n",
    "import hyperspy.api as hs\n",
    "import matplotlib.pyplot as plt\n",
    "from snmfem.conf import DB_PATH"
   ]
  },
  {
   "source": [
    "# Parameters"
   ],
   "cell_type": "markdown",
   "metadata": {}
  },
  {
   "cell_type": "code",
   "execution_count": null,
   "metadata": {},
   "outputs": [],
   "source": [
    "# To save the dataset\n",
    "filename = \"aspim037_N100_2ptcls_brstlg\"\n",
    "abs_db_path = None\n",
    "# abs_db_path = \"Data/wernisch_abs.json\"\n",
    "abs_elt_dict = None\n",
    "\n",
    "# Continuum X-rays parameters\n",
    "# They were determine by fitting experimental data from 0.6 to 18 keV. Since low energies were incorporated, the model is only effective and not quantitative. \n",
    "brstlg_pars = {\"c0\" : 0.094, \"c1\" : 1417, \"c2\" : 1e-6, \"b0\" : 1.2, \"b1\" : -0.06, \"b2\" : 0.00683}\n",
    "\n",
    "# brstlg_pars = {\"c0\" : 9.3144e-04,\"c1\" : 1.23453632, \"c2\" : 4.9488e-10, \"b0\" : 0.14986191, \"b1\" : -0.00188483, \"b2\" : 2.5428e-04}\n",
    "\n",
    "\n",
    "scale = 1\n",
    "\n",
    "# Average number of counts in one spectrum of the artificial data\n",
    "N = 100 \n",
    "\n",
    "# Creation of the pure spectra of the different phases.\n",
    "phase1 = EDXS(DB_PATH,abs_db_path,brstlg_pars)\n",
    "#phase1.generate_abs_coeff({\"8\":1.0,\"12\" : 0.51,\"14\":0.61,\"13\":0.07,\"20\":0.04,\"62\":0.02,\"26\":0.028,\"60\":0.002,\"71\":0.003,\"72\":0.003,\"29\" : 0.02})\n",
    "# Gaussians corresponding to elements\n",
    "phase1.generate_spectrum({\"8\":1.0,\"12\" : 0.51,\"14\":0.61,\"13\":0.07,\"20\":0.04,\"62\":0.02,\"26\":0.028,\"60\":0.002,\"71\":0.003,\"72\":0.003,\"29\" : 0.02},scale)\n",
    "\n",
    "phase2 = EDXS(DB_PATH,abs_db_path,brstlg_pars)\n",
    "#phase2.generate_abs_coeff({\"8\":0.54,\"26\":0.15,\"12\" : 1.0,\"29\":0.038,\"92\":0.0052,\"60\":0.004,\"31\":0.03,\"71\":0.003})\n",
    "phase2.generate_spectrum({\"8\":0.54,\"26\":0.15,\"12\" : 1.0,\"29\":0.038,\"92\":0.0052,\"60\":0.004,\"31\":0.03,\"71\":0.003},scale)\n",
    "\n",
    "phase3 = EDXS(DB_PATH,abs_db_path,brstlg_pars)\n",
    "#phase3.generate_abs_coeff({\"8\":1.0,\"14\":0.12,\"13\":0.18,\"20\":0.47,\"62\":0.04,\"26\":0.004,\"60\":0.008,\"72\":0.004,\"29\":0.01})\n",
    "phase3.generate_spectrum({\"8\":1.0,\"14\":0.12,\"13\":0.18,\"20\":0.47,\"62\":0.04,\"26\":0.004,\"60\":0.008,\"72\":0.004,\"29\":0.01},scale)\n",
    "\n",
    "# Objects needed for the creation of data\n",
    "# list of spectra\n",
    "phases = np.array([phase1.spectrum,phase2.spectrum,phase3.spectrum])\n",
    "# list of densities which will give different total number of events per spectra\n",
    "densities = np.array([1.0,1.33,1.25])"
   ]
  },
  {
   "cell_type": "code",
   "execution_count": null,
   "metadata": {},
   "outputs": [],
   "source": [
    "phases.shape"
   ]
  },
  {
   "source": [
    "# Artificial data creation\n",
    "\n",
    "Note : Each function of ArtificialSpim updates the current object and adds on top. It is usually better to re-create a new object to change the artificial data settings.\n",
    "Spim corresponds to spectrum image."
   ],
   "cell_type": "markdown",
   "metadata": {}
  },
  {
   "cell_type": "code",
   "execution_count": null,
   "metadata": {},
   "outputs": [],
   "source": [
    "# Creation of an ArtificialSpim instance\n",
    "spim=gd.AritificialSpim(phases,densities,(80,80))\n",
    "assert(spim.phases.shape==(3, 1980))\n",
    "assert(spim.densities.shape==(3,))"
   ]
  },
  {
   "cell_type": "code",
   "execution_count": null,
   "metadata": {},
   "outputs": [],
   "source": [
    "np.testing.assert_allclose(np.sum(spim.phases, axis=1), np.ones([3]))"
   ]
  },
  {
   "cell_type": "code",
   "execution_count": null,
   "metadata": {},
   "outputs": [],
   "source": [
    "# We add two particles belonging to two different phases to the data\n",
    "spim.sphere((25,30),3.5,3.5,0.0,0.5,1)\n",
    "spim.sphere((55,30),3.5,3.5,0.0,0.5,2)"
   ]
  },
  {
   "cell_type": "code",
   "execution_count": null,
   "metadata": {},
   "outputs": [],
   "source": [
    "# Generates a noiseless version of the dataset\n",
    "spim.generate_spim_deterministic()\n",
    "assert(spim.generated_spim.shape==(80, 80, 1980))"
   ]
  },
  {
   "cell_type": "code",
   "execution_count": null,
   "metadata": {},
   "outputs": [],
   "source": [
    "np.testing.assert_allclose(np.sum(spim.generated_spim, axis=2), np.ones([80,80]))"
   ]
  },
  {
   "cell_type": "code",
   "execution_count": null,
   "metadata": {},
   "outputs": [],
   "source": [
    "D = spim.phases.T\n",
    "A = spim.weights.reshape(-1, 3).T\n",
    "X = spim.generated_spim.reshape(-1, 1980).T\n",
    "np.testing.assert_allclose(D@A, X)"
   ]
  },
  {
   "cell_type": "code",
   "execution_count": null,
   "metadata": {},
   "outputs": [],
   "source": [
    "plt.figure(figsize=(15, 4))\n",
    "for i in range(3):\n",
    "    plt.subplot(1,3,i+1)\n",
    "    plt.imshow(spim.weights[:,:,i], vmin=0, vmax=1)\n",
    "    plt.colorbar()"
   ]
  },
  {
   "cell_type": "code",
   "execution_count": null,
   "metadata": {},
   "outputs": [],
   "source": [
    "# Generate noisy spectra based on a Poisson distribution with average N\n",
    "spim.generate_spim_stochastic(N)"
   ]
  },
  {
   "cell_type": "code",
   "execution_count": null,
   "metadata": {},
   "outputs": [],
   "source": [
    "# plt.imshow(spim.density_map)\n",
    "# plt.colorbar()"
   ]
  },
  {
   "cell_type": "code",
   "execution_count": null,
   "metadata": {},
   "outputs": [],
   "source": [
    "assert(spim.continuous_spim.shape==(80, 80, 1980))"
   ]
  },
  {
   "cell_type": "code",
   "execution_count": null,
   "metadata": {},
   "outputs": [],
   "source": [
    "D = spim.phases.T\n",
    "A = spim.weights.reshape(-1, 3).T\n",
    "w = spim.densities\n",
    "Xdot = spim.continuous_spim.reshape(-1, 1980).T\n",
    "# n D W A\n",
    "np.testing.assert_allclose(N*D@np.diag(w)@A, Xdot)"
   ]
  },
  {
   "cell_type": "code",
   "execution_count": null,
   "metadata": {},
   "outputs": [],
   "source": [
    "spim.densities"
   ]
  },
  {
   "cell_type": "code",
   "execution_count": null,
   "metadata": {},
   "outputs": [],
   "source": [
    "# ns = [10, 30, 100, 300, 1000, 3000, 10000, 30000]\n",
    "# rels = []\n",
    "# for n in ns:\n",
    "#     spim.generate_spim_stochastic(n)\n",
    "#     Xhat = spim.continuous_spim\n",
    "#     Xtilde = spim.stochastic_spim\n",
    "#     r = np.linalg.norm((Xhat-Xtilde).flatten())/np.sqrt(np.linalg.norm(Xhat.flatten())*np.linalg.norm(Xtilde.flatten()))\n",
    "#     print(\"For {}, the relative error is: {}\".format(n, r))\n",
    "#     rels.append(r)"
   ]
  },
  {
   "cell_type": "code",
   "execution_count": null,
   "metadata": {},
   "outputs": [],
   "source": [
    "# Generate noisy spectra based on a Poisson distribution with average N\n",
    "spim.generate_spim_stochastic(N, old=True)\n",
    "Xhat2 = spim.continuous_spim\n",
    "spim.generate_spim_stochastic(N, old=False)\n",
    "Xhat = spim.continuous_spim"
   ]
  },
  {
   "cell_type": "code",
   "execution_count": null,
   "metadata": {},
   "outputs": [],
   "source": [
    "np.linalg.norm((Xhat-Xhat2).flatten())/np.sqrt(np.linalg.norm(Xhat.flatten())*np.linalg.norm(Xhat2.flatten()))"
   ]
  },
  {
   "cell_type": "code",
   "execution_count": null,
   "metadata": {},
   "outputs": [],
   "source": [
    "spim.generate_spim_stochastic(N, old=False)\n",
    "Xhat = spim.continuous_spim\n",
    "# To save the data and the ground truth under similar names\n",
    "spim.save(filename)"
   ]
  },
  {
   "source": [
    "# Data visualisation"
   ],
   "cell_type": "markdown",
   "metadata": {}
  },
  {
   "cell_type": "code",
   "execution_count": null,
   "metadata": {},
   "outputs": [],
   "source": [
    "# To visualise the pure spectrum of the first phase\n",
    "x = phase1.x\n",
    "plt.plot(x,phases[2],\"g-\",linewidth=2)\n",
    "plt.plot(x,phase1.continuum_xrays()*scale)\n",
    "plt.xlabel(\"Energy [keV]\")\n",
    "plt.ylabel(\"Intensity\")\n",
    "plt.rcParams.update({'font.size': 22})\n",
    "plt.tight_layout()"
   ]
  },
  {
   "source": [
    "## Interactive visualization of the created datacube\n",
    "\n",
    "3 windows will pop : \n",
    "\n",
    "1) Map of the sum of counts per pixel - A very tiny green square will be plotted as well at the top left\n",
    "\n",
    "2) Spectrum of the top left corner pixel (hyperspy built-in)\n",
    "\n",
    "3) Sum of spectra of the green area in 1)\n",
    "\n",
    "It possible to move and reshape the green area in 1) to explore the data"
   ],
   "cell_type": "markdown",
   "metadata": {}
  },
  {
   "cell_type": "code",
   "execution_count": null,
   "metadata": {},
   "outputs": [],
   "source": [
    "signal=hs.signals.Signal1D(spim.stochastic_spim)\n",
    "roi=hs.roi.RectangularROI(12,12,24,24)\n",
    "signal.plot()\n",
    "spim_ROI=roi.interactive(signal)\n",
    "    \n",
    "sum_ROI=hs.interactive(spim_ROI.sum,\n",
    "               event=spim_ROI.axes_manager.events.any_axis_changed,\n",
    "               recompute_out_event=None)\n",
    "sum_ROI.plot()"
   ]
  },
  {
   "cell_type": "code",
   "execution_count": null,
   "metadata": {},
   "outputs": [],
   "source": []
  }
 ],
 "metadata": {
  "language_info": {
   "codemirror_mode": {
    "name": "ipython",
    "version": 3
   },
   "file_extension": ".py",
   "mimetype": "text/x-python",
   "name": "python",
   "nbconvert_exporter": "python",
   "pygments_lexer": "ipython3",
   "version": "3.8.5-final"
  },
  "orig_nbformat": 2,
  "kernelspec": {
   "name": "python3",
   "display_name": "Python 3",
   "language": "python"
  }
 },
 "nbformat": 4,
 "nbformat_minor": 2
}