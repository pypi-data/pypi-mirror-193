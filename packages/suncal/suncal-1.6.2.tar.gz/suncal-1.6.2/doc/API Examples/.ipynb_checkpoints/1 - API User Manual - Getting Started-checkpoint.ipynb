{
 "cells": [
  {
   "cell_type": "markdown",
   "id": "f29b77f0",
   "metadata": {},
   "source": [
    "# Suncal API User Manual - Getting Started\n"
   ]
  },
  {
   "cell_type": "markdown",
   "id": "c1807ff3",
   "metadata": {},
   "source": [
    "## Overview\n",
    "\n",
    "TODO\n",
    "Describe what Suncal is and what it does. Mention the GUI if that's all that's needed."
   ]
  },
  {
   "cell_type": "markdown",
   "id": "2ae46170",
   "metadata": {},
   "source": [
    "## Setup\n",
    "\n",
    "Suncal can be installed in a Python environment using the pip package manager:\n",
    "    \n",
    "        pip install suncal\n",
    "\n",
    "Several dependency packages, including numpy, scipy, sympy, and matplotlib, will be installed if not already present in the environment.\n",
    "\n",
    "## Importing\n",
    "\n",
    "To use Suncal in your code, import it with:"
   ]
  },
  {
   "cell_type": "code",
   "execution_count": 31,
   "id": "12200e5a",
   "metadata": {},
   "outputs": [],
   "source": [
    "import suncal"
   ]
  },
  {
   "cell_type": "markdown",
   "id": "427f3309",
   "metadata": {},
   "source": [
    "## Calculation Overview\n",
    "\n",
    "### Uncertainty Propagation\n",
    "\n",
    "The primary use for Suncal is propagating uncertainty through a measurement model defined by $y = f(x_1, x_2, ...)$.\n",
    "The uncertianty each $x_n$ is defined, and the uncertainty $u(y)$ in the output $y$ is determined using the GUM methods.\n",
    "\n",
    "Start by creating a measurement model using `suncal.Model`, giving the function as a string.\n",
    "Then access each input variable using `suncal.Model.var()` with `.measure()` to defined the measuerd or nominal value of the variable, and `.typeb()` to define one or more Type B uncertainty components. Finally, call `.calculate()` to calculate the results of both GUM and Monte Carlo methods."
   ]
  },
  {
   "cell_type": "code",
   "execution_count": 5,
   "id": "ec4026c2",
   "metadata": {},
   "outputs": [
    {
     "data": {
      "text/markdown": [
       "|Function   | Method       | Nominal   | Std. Uncertainty   | 95% Coverage   | k         | Deg. Freedom  |\n",
       "|----------|------------|---------|------------------|--------------|---------|--------------|\n",
       "|$R$   | GUM          | 50.00  | 0.28           | ± 0.55     | 1.960     | inf           |\n",
       "|$R$   | Monte Carlo  | 50.00  | 0.28           | (49.45, 50.55) | 1.959     | -             |"
      ],
      "text/plain": [
       "UncertaintyResults(gum=<suncal.uncertainty.results.gum.GumResults object at 0x0000017279B317D0>, montecarlo=<suncal.uncertainty.results.monte.McResults object at 0x0000017279B3D350>)"
      ]
     },
     "execution_count": 5,
     "metadata": {},
     "output_type": "execute_result"
    }
   ],
   "source": [
    "model = suncal.Model('R = V/I')\n",
    "model.var('V').measure(100).typeb(unc=1, k=2)\n",
    "model.var('I').measure(2).typeb(unc=.01, k=2)\n",
    "model.calculate()"
   ]
  },
  {
   "cell_type": "markdown",
   "id": "78f9f25b",
   "metadata": {},
   "source": [
    "In general, Suncal's `calculate` methods return a results object that contains various parameters generated from the calculation and some methods for manipulating them. If the code is run in a Jupyter notebook, the\n",
    "results object displays a formatted table or plot of the results. The next line demonstrates capturing the result so the details may be accessed. In case of the standard `suncal.Model`, the result contains a `gum` and `montecarlo` result."
   ]
  },
  {
   "cell_type": "code",
   "execution_count": 19,
   "id": "54df352f",
   "metadata": {},
   "outputs": [
    {
     "data": {
      "text/plain": [
       "{'R': 0.2795084971874737}"
      ]
     },
     "execution_count": 19,
     "metadata": {},
     "output_type": "execute_result"
    }
   ],
   "source": [
    "result = model.calculate()\n",
    "result.gum.uncertainty"
   ]
  },
  {
   "cell_type": "code",
   "execution_count": 20,
   "id": "e58090a8",
   "metadata": {},
   "outputs": [
    {
     "data": {
      "text/plain": [
       "{'R': 0.27948594148097333}"
      ]
     },
     "execution_count": 20,
     "metadata": {},
     "output_type": "execute_result"
    }
   ],
   "source": [
    "result.montecarlo.uncertainty"
   ]
  },
  {
   "cell_type": "markdown",
   "id": "688166ac",
   "metadata": {},
   "source": [
    "In addition to the values that were computed, every result object contains a `report` attribute that provides formatting of the result into tables and plots. The `report.summary()` is what is displayed in Jupyter to represent the results by default as shown above. Some other reports and plots are shown below."
   ]
  },
  {
   "cell_type": "code",
   "execution_count": 25,
   "id": "bf990329",
   "metadata": {},
   "outputs": [
    {
     "data": {
      "text/markdown": [
       "|Function   | Method       | Nominal   | Std. Uncertainty   | 95% Coverage   | k         | Deg. Freedom  |\n",
       "|----------|------------|---------|------------------|--------------|---------|--------------|\n",
       "|$R$   | GUM          | 50.00  | 0.28           | ± 0.55     | 1.960     | inf           |\n",
       "|$R$   | Monte Carlo  | 50.00  | 0.28           | (49.45, 50.55) | 1.960     | -             |"
      ],
      "text/plain": [
       "<suncal.common.report.Report at 0x172016f9210>"
      ]
     },
     "execution_count": 25,
     "metadata": {},
     "output_type": "execute_result"
    }
   ],
   "source": []
  },
  {
   "cell_type": "code",
   "execution_count": 32,
   "id": "d81d97e4",
   "metadata": {},
   "outputs": [
    {
     "data": {
      "text/markdown": [
       "|Variable   | GUM Sensitivity   | GUM Proportion   | MC Sensitivity   | MC Proportion  |\n",
       "|----------|-----------------|----------------|----------------|---------------|\n",
       "|$I$   | -25.0          | 20.00%           | 25.0         | 19.98%         |\n",
       "|$V$   | 0.50          | 80.00%           | 0.50         | 79.97%         |"
      ],
      "text/plain": [
       "<suncal.common.report.Report at 0x17201662a10>"
      ]
     },
     "execution_count": 32,
     "metadata": {},
     "output_type": "execute_result"
    }
   ],
   "source": [
    "result.report.sensitivity()"
   ]
  },
  {
   "cell_type": "code",
   "execution_count": 33,
   "id": "043b8e21",
   "metadata": {},
   "outputs": [
    {
     "data": {
      "image/png": "[encoded data removed]",
      "text/plain": [
       "<Figure size 640x480 with 1 Axes>"
      ]
     },
     "metadata": {},
     "output_type": "display_data"
    }
   ],
   "source": [
    "result.report.plot.pdf()"
   ]
  },
  {
   "cell_type": "code",
   "execution_count": 34,
   "id": "a5f07a55",
   "metadata": {},
   "outputs": [
    {
     "data": {
      "text/markdown": [
       "### Measurement Model:\n",
       "\n",
       "$R = \\frac{V}{I}$\n",
       "\n",
       "### Measured Values:\n",
       "\n",
       "\n",
       "|Variable   | Std. Uncertainty   | Deg. Freedom  |\n",
       "|----------|------------------|--------------|\n",
       "|$I$   | $u_{I}$           | $\\nu_{I}$      |\n",
       "|$V$   | $u_{V}$           | $\\nu_{V}$      |\n",
       "\n",
       "\n",
       "### Combined Uncertainty:\n",
       "\n",
       "$u_{R} = \\sqrt{\\frac{u_{V}^{2}}{I^{2}} + \\frac{V^{2} u_{I}^{2}}{I^{4}}}$\n",
       "\n",
       "### Effective degrees of freedom:\n",
       "\n",
       "$\\nu_{R} = \\frac{u_{R}^{4}}{\\frac{u_{V}^{4}}{I^{4} \\nu_{V}} + \\frac{V^{4} u_{I}^{4}}{I^{8} \\nu_{I}}}$"
      ],
      "text/plain": [
       "<suncal.common.report.Report at 0x17200042c10>"
      ]
     },
     "execution_count": 34,
     "metadata": {},
     "output_type": "execute_result"
    }
   ],
   "source": [
    "result.report.gum.derivation()"
   ]
  },
  {
   "cell_type": "markdown",
   "id": "9f9d388a",
   "metadata": {},
   "source": [
    "Reports take some keyword arguments to help with formatting. Use `n` to specify the number of significant figures to display on uncertainties. The Nominal value is displayed with the same decimal precision as the uncertainty to `n` significant figures.v\n",
    "The `fmt` parameter sets a specific number format, for example `scientific` uses scientific notation, `decimal` forces non-scientific notation, and 'auto' (the default) switches between the two based on the magnitude of the value. Other options are `engineering` (scientific notation with exponent a multiple of 3) and `SI` (use SI prefixes)."
   ]
  },
  {
   "cell_type": "code",
   "execution_count": 42,
   "id": "b09bbd0a",
   "metadata": {},
   "outputs": [
    {
     "data": {
      "text/markdown": [
       "|Function   | Method       | Nominal   | Std. Uncertainty   | 95% Coverage   | k         | Deg. Freedom  |\n",
       "|----------|------------|---------|------------------|--------------|---------|--------------|\n",
       "|$R$   | GUM          | 50.0000  | 0.2795           | ± 0.5478     | 1.960     | inf           |\n",
       "|$R$   | Monte Carlo  | 50.0002  | 0.2795           | (49.4532, 50.5489) | 1.960     | -             |"
      ],
      "text/plain": [
       "<suncal.common.report.Report at 0x17201703a10>"
      ]
     },
     "execution_count": 42,
     "metadata": {},
     "output_type": "execute_result"
    }
   ],
   "source": [
    "result.report.summary(n=4)"
   ]
  },
  {
   "cell_type": "code",
   "execution_count": 47,
   "id": "328d879c",
   "metadata": {},
   "outputs": [
    {
     "data": {
      "text/markdown": [
       "|Function   | Method       | Nominal   | Std. Uncertainty   | 95% Coverage   | k         | Deg. Freedom  |\n",
       "|----------|------------|---------|------------------|--------------|---------|--------------|\n",
       "|$R$   | GUM          | 5.000e+01  | 2.8e-01           | ± 5.5e-01     | 1.960     | inf           |\n",
       "|$R$   | Monte Carlo  | 5.000e+01  | 2.8e-01           | (4.945e+01, 5.055e+01) | 1.960     | -             |"
      ],
      "text/plain": [
       "<suncal.common.report.Report at 0x17200062590>"
      ]
     },
     "execution_count": 47,
     "metadata": {},
     "output_type": "execute_result"
    }
   ],
   "source": [
    "result.report.summary(fmt='scientific')"
   ]
  },
  {
   "cell_type": "markdown",
   "id": "b2d9d87f",
   "metadata": {},
   "source": [
    "For full details of the Results and Reports available from each calculation type, see the other `User Manual - ` notebooks."
   ]
  },
  {
   "cell_type": "code",
   "execution_count": null,
   "id": "5769befa",
   "metadata": {},
   "outputs": [],
   "source": []
  }
 ],
 "metadata": {
  "kernelspec": {
   "display_name": "Python 3 (ipykernel)",
   "language": "python",
   "name": "python3"
  },
  "language_info": {
   "codemirror_mode": {
    "name": "ipython",
    "version": 3
   },
   "file_extension": ".py",
   "mimetype": "text/x-python",
   "name": "python",
   "nbconvert_exporter": "python",
   "pygments_lexer": "ipython3",
   "version": "3.11.0"
  }
 },
 "nbformat": 4,
 "nbformat_minor": 5
}
