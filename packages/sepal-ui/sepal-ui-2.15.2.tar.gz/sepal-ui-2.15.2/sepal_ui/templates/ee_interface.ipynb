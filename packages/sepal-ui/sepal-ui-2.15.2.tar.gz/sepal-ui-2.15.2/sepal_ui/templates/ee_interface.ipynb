{
 "cells": [
  {
   "cell_type": "code",
   "execution_count": null,
   "id": "96aa7882-24d3-4c59-9414-ecb997b7d7a3",
   "metadata": {
    "jupyter": {
     "source_hidden": true
    },
    "tags": []
   },
   "outputs": [],
   "source": [
    "from sepal_ui import mapping as sm\n",
    "import ee \n",
    "\n",
    "ee.Initialize()\n",
    "\n",
    "Map = sm.SepalMap()\n",
    "Map.add_control(sm.FullScreenControl(Map, fullscreen=True))\n",
    "Map"
   ]
  },
  {
   "cell_type": "code",
   "execution_count": null,
   "id": "c598e5ea-cf58-422c-8a94-9ee15fa437e7",
   "metadata": {},
   "outputs": [],
   "source": []
  }
 ],
 "metadata": {
  "kernelspec": {
   "display_name": "Python 3",
   "language": "python",
   "name": "python3"
  },
  "language_info": {
   "codemirror_mode": {
    "name": "ipython",
    "version": 3
   },
   "file_extension": ".py",
   "mimetype": "text/x-python",
   "name": "python",
   "nbconvert_exporter": "python",
   "pygments_lexer": "ipython3",
   "version": "3.8.10"
  }
 },
 "nbformat": 4,
 "nbformat_minor": 5
}
