{
 "cells": [
  {
   "cell_type": "code",
   "execution_count": 8,
   "id": "7c05eaea-61b2-4a7a-9bbb-903a7b2ea971",
   "metadata": {},
   "outputs": [
    {
     "data": {
      "text/plain": [
       "['/home/shaad/anaconda3/envs/jupyterlab-ext/etc/jupyter',\n",
       " '/home/shaad/.jupyter',\n",
       " '/home/shaad/.local/etc/jupyter',\n",
       " '/usr/local/etc/jupyter',\n",
       " '/etc/jupyter']"
      ]
     },
     "execution_count": 8,
     "metadata": {},
     "output_type": "execute_result"
    }
   ],
   "source": [
    "from jupyter_core import paths\n",
    "paths.jupyter_config_path()"
   ]
  }
 ],
 "metadata": {
  "kernelspec": {
   "display_name": "Python 3 (ipykernel)",
   "language": "python",
   "name": "python3"
  },
  "language_info": {
   "codemirror_mode": {
    "name": "ipython",
    "version": 3
   },
   "file_extension": ".py",
   "mimetype": "text/x-python",
   "name": "python",
   "nbconvert_exporter": "python",
   "pygments_lexer": "ipython3",
   "version": "3.11.0"
  }
 },
 "nbformat": 4,
 "nbformat_minor": 5
}
